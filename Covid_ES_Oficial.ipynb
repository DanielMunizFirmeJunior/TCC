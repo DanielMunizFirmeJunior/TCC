{
 "cells": [
  {
   "cell_type": "code",
   "execution_count": 1,
   "id": "33075ca1",
   "metadata": {},
   "outputs": [],
   "source": [
    "import pandas as pd\n",
    "import numpy as np"
   ]
  },
  {
   "cell_type": "code",
   "execution_count": 2,
   "id": "ac22ee4f",
   "metadata": {},
   "outputs": [],
   "source": [
    "import seaborn as sns\n",
    "import matplotlib.pyplot as plt"
   ]
  },
  {
   "cell_type": "code",
   "execution_count": 3,
   "id": "9b5bbfee",
   "metadata": {},
   "outputs": [],
   "source": [
    "CovidES = pd.read_csv('dadoscovidES/baseCovidES.csv', sep=';',skip_blank_lines = True, encoding = \"latin-1\")"
   ]
  },
  {
   "cell_type": "code",
   "execution_count": 4,
   "id": "bc65d895",
   "metadata": {},
   "outputs": [
    {
     "data": {
      "text/plain": [
       "pandas.core.frame.DataFrame"
      ]
     },
     "execution_count": 4,
     "metadata": {},
     "output_type": "execute_result"
    }
   ],
   "source": [
    "type(CovidES)"
   ]
  },
  {
   "cell_type": "code",
   "execution_count": 5,
   "id": "ea7d938e",
   "metadata": {},
   "outputs": [
    {
     "data": {
      "text/html": [
       "<div>\n",
       "<style scoped>\n",
       "    .dataframe tbody tr th:only-of-type {\n",
       "        vertical-align: middle;\n",
       "    }\n",
       "\n",
       "    .dataframe tbody tr th {\n",
       "        vertical-align: top;\n",
       "    }\n",
       "\n",
       "    .dataframe thead th {\n",
       "        text-align: right;\n",
       "    }\n",
       "</style>\n",
       "<table border=\"1\" class=\"dataframe\">\n",
       "  <thead>\n",
       "    <tr style=\"text-align: right;\">\n",
       "      <th></th>\n",
       "      <th>DataNotificacao</th>\n",
       "      <th>DataCadastro</th>\n",
       "      <th>DataDiagnostico</th>\n",
       "      <th>DataColeta_RT_PCR</th>\n",
       "      <th>DataColetaTesteRapido</th>\n",
       "      <th>DataColetaSorologia</th>\n",
       "      <th>DataColetaSorologiaIGG</th>\n",
       "      <th>DataEncerramento</th>\n",
       "      <th>DataObito</th>\n",
       "      <th>Classificacao</th>\n",
       "      <th>...</th>\n",
       "      <th>ViagemBrasil</th>\n",
       "      <th>ViagemInternacional</th>\n",
       "      <th>ProfissionalSaude</th>\n",
       "      <th>PossuiDeficiencia</th>\n",
       "      <th>MoradorDeRua</th>\n",
       "      <th>ResultadoRT_PCR</th>\n",
       "      <th>ResultadoTesteRapido</th>\n",
       "      <th>ResultadoSorologia</th>\n",
       "      <th>ResultadoSorologia_IGG</th>\n",
       "      <th>TipoTesteRapido</th>\n",
       "    </tr>\n",
       "  </thead>\n",
       "  <tbody>\n",
       "    <tr>\n",
       "      <th>count</th>\n",
       "      <td>2149771</td>\n",
       "      <td>2149771</td>\n",
       "      <td>2149771</td>\n",
       "      <td>1054965</td>\n",
       "      <td>843221</td>\n",
       "      <td>93618</td>\n",
       "      <td>141845</td>\n",
       "      <td>1841292</td>\n",
       "      <td>16998</td>\n",
       "      <td>2149771</td>\n",
       "      <td>...</td>\n",
       "      <td>2149771</td>\n",
       "      <td>2149771</td>\n",
       "      <td>2149771</td>\n",
       "      <td>2149771</td>\n",
       "      <td>2149771</td>\n",
       "      <td>2149771</td>\n",
       "      <td>2149771</td>\n",
       "      <td>2149771</td>\n",
       "      <td>2149771</td>\n",
       "      <td>2149771</td>\n",
       "    </tr>\n",
       "    <tr>\n",
       "      <th>unique</th>\n",
       "      <td>606</td>\n",
       "      <td>576</td>\n",
       "      <td>645</td>\n",
       "      <td>706</td>\n",
       "      <td>664</td>\n",
       "      <td>591</td>\n",
       "      <td>611</td>\n",
       "      <td>646</td>\n",
       "      <td>576</td>\n",
       "      <td>3</td>\n",
       "      <td>...</td>\n",
       "      <td>4</td>\n",
       "      <td>4</td>\n",
       "      <td>4</td>\n",
       "      <td>3</td>\n",
       "      <td>3</td>\n",
       "      <td>4</td>\n",
       "      <td>4</td>\n",
       "      <td>4</td>\n",
       "      <td>4</td>\n",
       "      <td>4</td>\n",
       "    </tr>\n",
       "    <tr>\n",
       "      <th>top</th>\n",
       "      <td>2021-07-15</td>\n",
       "      <td>2021-07-20</td>\n",
       "      <td>2021-03-15</td>\n",
       "      <td>2021-03-22</td>\n",
       "      <td>2021-07-15</td>\n",
       "      <td>2020-07-20</td>\n",
       "      <td>2020-07-28</td>\n",
       "      <td>2021-04-05</td>\n",
       "      <td>2021-04-12</td>\n",
       "      <td>Descartados</td>\n",
       "      <td>...</td>\n",
       "      <td>Não Informado</td>\n",
       "      <td>Não Informado</td>\n",
       "      <td>Não</td>\n",
       "      <td>Não</td>\n",
       "      <td>Não</td>\n",
       "      <td>Não Informado</td>\n",
       "      <td>Não Informado</td>\n",
       "      <td>Não Informado</td>\n",
       "      <td>Não Informado</td>\n",
       "      <td>Não Informado</td>\n",
       "    </tr>\n",
       "    <tr>\n",
       "      <th>freq</th>\n",
       "      <td>9934</td>\n",
       "      <td>10156</td>\n",
       "      <td>8047</td>\n",
       "      <td>5273</td>\n",
       "      <td>6063</td>\n",
       "      <td>963</td>\n",
       "      <td>2722</td>\n",
       "      <td>8155</td>\n",
       "      <td>97</td>\n",
       "      <td>1231265</td>\n",
       "      <td>...</td>\n",
       "      <td>1000296</td>\n",
       "      <td>1153571</td>\n",
       "      <td>1773027</td>\n",
       "      <td>2090009</td>\n",
       "      <td>2105069</td>\n",
       "      <td>1168496</td>\n",
       "      <td>1311258</td>\n",
       "      <td>2056485</td>\n",
       "      <td>2008096</td>\n",
       "      <td>1464501</td>\n",
       "    </tr>\n",
       "  </tbody>\n",
       "</table>\n",
       "<p>4 rows × 45 columns</p>\n",
       "</div>"
      ],
      "text/plain": [
       "       DataNotificacao DataCadastro DataDiagnostico DataColeta_RT_PCR  \\\n",
       "count          2149771      2149771         2149771           1054965   \n",
       "unique             606          576             645               706   \n",
       "top         2021-07-15   2021-07-20      2021-03-15        2021-03-22   \n",
       "freq              9934        10156            8047              5273   \n",
       "\n",
       "       DataColetaTesteRapido DataColetaSorologia DataColetaSorologiaIGG  \\\n",
       "count                 843221               93618                 141845   \n",
       "unique                   664                 591                    611   \n",
       "top               2021-07-15          2020-07-20             2020-07-28   \n",
       "freq                    6063                 963                   2722   \n",
       "\n",
       "       DataEncerramento   DataObito Classificacao  ...   ViagemBrasil  \\\n",
       "count           1841292       16998       2149771  ...        2149771   \n",
       "unique              646         576             3  ...              4   \n",
       "top          2021-04-05  2021-04-12   Descartados  ...  Não Informado   \n",
       "freq               8155          97       1231265  ...        1000296   \n",
       "\n",
       "       ViagemInternacional ProfissionalSaude PossuiDeficiencia MoradorDeRua  \\\n",
       "count              2149771           2149771           2149771      2149771   \n",
       "unique                   4                 4                 3            3   \n",
       "top          Não Informado               Não               Não          Não   \n",
       "freq               1153571           1773027           2090009      2105069   \n",
       "\n",
       "       ResultadoRT_PCR ResultadoTesteRapido ResultadoSorologia  \\\n",
       "count          2149771              2149771            2149771   \n",
       "unique               4                    4                  4   \n",
       "top      Não Informado        Não Informado      Não Informado   \n",
       "freq           1168496              1311258            2056485   \n",
       "\n",
       "       ResultadoSorologia_IGG TipoTesteRapido  \n",
       "count                 2149771         2149771  \n",
       "unique                      4               4  \n",
       "top             Não Informado   Não Informado  \n",
       "freq                  2008096         1464501  \n",
       "\n",
       "[4 rows x 45 columns]"
      ]
     },
     "execution_count": 5,
     "metadata": {},
     "output_type": "execute_result"
    }
   ],
   "source": [
    "#Dados base\n",
    "CovidES.describe()"
   ]
  },
  {
   "cell_type": "code",
   "execution_count": 6,
   "id": "95affe6e",
   "metadata": {},
   "outputs": [
    {
     "data": {
      "text/html": [
       "<div>\n",
       "<style scoped>\n",
       "    .dataframe tbody tr th:only-of-type {\n",
       "        vertical-align: middle;\n",
       "    }\n",
       "\n",
       "    .dataframe tbody tr th {\n",
       "        vertical-align: top;\n",
       "    }\n",
       "\n",
       "    .dataframe thead th {\n",
       "        text-align: right;\n",
       "    }\n",
       "</style>\n",
       "<table border=\"1\" class=\"dataframe\">\n",
       "  <thead>\n",
       "    <tr style=\"text-align: right;\">\n",
       "      <th></th>\n",
       "      <th>DataNotificacao</th>\n",
       "      <th>DataCadastro</th>\n",
       "      <th>DataDiagnostico</th>\n",
       "      <th>DataColeta_RT_PCR</th>\n",
       "      <th>DataColetaTesteRapido</th>\n",
       "      <th>DataColetaSorologia</th>\n",
       "      <th>DataColetaSorologiaIGG</th>\n",
       "      <th>DataEncerramento</th>\n",
       "      <th>DataObito</th>\n",
       "      <th>Classificacao</th>\n",
       "      <th>...</th>\n",
       "      <th>ViagemBrasil</th>\n",
       "      <th>ViagemInternacional</th>\n",
       "      <th>ProfissionalSaude</th>\n",
       "      <th>PossuiDeficiencia</th>\n",
       "      <th>MoradorDeRua</th>\n",
       "      <th>ResultadoRT_PCR</th>\n",
       "      <th>ResultadoTesteRapido</th>\n",
       "      <th>ResultadoSorologia</th>\n",
       "      <th>ResultadoSorologia_IGG</th>\n",
       "      <th>TipoTesteRapido</th>\n",
       "    </tr>\n",
       "  </thead>\n",
       "  <tbody>\n",
       "    <tr>\n",
       "      <th>0</th>\n",
       "      <td>2021-10-23</td>\n",
       "      <td>2021-10-23</td>\n",
       "      <td>2021-10-21</td>\n",
       "      <td>NaN</td>\n",
       "      <td>NaN</td>\n",
       "      <td>NaN</td>\n",
       "      <td>NaN</td>\n",
       "      <td>NaN</td>\n",
       "      <td>NaN</td>\n",
       "      <td>Suspeito</td>\n",
       "      <td>...</td>\n",
       "      <td>Não</td>\n",
       "      <td>Não</td>\n",
       "      <td>Não</td>\n",
       "      <td>Não</td>\n",
       "      <td>Não</td>\n",
       "      <td>Não Informado</td>\n",
       "      <td>Não Informado</td>\n",
       "      <td>Não Informado</td>\n",
       "      <td>Não Informado</td>\n",
       "      <td>Não Informado</td>\n",
       "    </tr>\n",
       "    <tr>\n",
       "      <th>1</th>\n",
       "      <td>2021-10-23</td>\n",
       "      <td>2021-10-23</td>\n",
       "      <td>2021-10-23</td>\n",
       "      <td>2021-10-23</td>\n",
       "      <td>NaN</td>\n",
       "      <td>NaN</td>\n",
       "      <td>NaN</td>\n",
       "      <td>NaN</td>\n",
       "      <td>NaN</td>\n",
       "      <td>Suspeito</td>\n",
       "      <td>...</td>\n",
       "      <td>Sim</td>\n",
       "      <td>Sim</td>\n",
       "      <td>Não</td>\n",
       "      <td>Não</td>\n",
       "      <td>Não</td>\n",
       "      <td>Não Informado</td>\n",
       "      <td>Não Informado</td>\n",
       "      <td>Não Informado</td>\n",
       "      <td>Não Informado</td>\n",
       "      <td>Não Informado</td>\n",
       "    </tr>\n",
       "    <tr>\n",
       "      <th>2</th>\n",
       "      <td>2021-10-23</td>\n",
       "      <td>2021-10-23</td>\n",
       "      <td>2021-10-20</td>\n",
       "      <td>NaN</td>\n",
       "      <td>2021-10-23</td>\n",
       "      <td>NaN</td>\n",
       "      <td>NaN</td>\n",
       "      <td>2021-10-23</td>\n",
       "      <td>NaN</td>\n",
       "      <td>Descartados</td>\n",
       "      <td>...</td>\n",
       "      <td>Não Informado</td>\n",
       "      <td>Não Informado</td>\n",
       "      <td>Não</td>\n",
       "      <td>Não</td>\n",
       "      <td>Não</td>\n",
       "      <td>Não Informado</td>\n",
       "      <td>Negativo</td>\n",
       "      <td>Não Informado</td>\n",
       "      <td>Não Informado</td>\n",
       "      <td>Teste rápido Antígeno</td>\n",
       "    </tr>\n",
       "    <tr>\n",
       "      <th>3</th>\n",
       "      <td>2021-10-23</td>\n",
       "      <td>2021-10-23</td>\n",
       "      <td>2021-10-23</td>\n",
       "      <td>NaN</td>\n",
       "      <td>2021-10-23</td>\n",
       "      <td>NaN</td>\n",
       "      <td>NaN</td>\n",
       "      <td>NaN</td>\n",
       "      <td>NaN</td>\n",
       "      <td>Descartados</td>\n",
       "      <td>...</td>\n",
       "      <td>Não</td>\n",
       "      <td>Não Informado</td>\n",
       "      <td>Não</td>\n",
       "      <td>Não</td>\n",
       "      <td>Não</td>\n",
       "      <td>Não Informado</td>\n",
       "      <td>Negativo</td>\n",
       "      <td>Não Informado</td>\n",
       "      <td>Não Informado</td>\n",
       "      <td>Teste rápido Antígeno</td>\n",
       "    </tr>\n",
       "    <tr>\n",
       "      <th>4</th>\n",
       "      <td>2021-10-23</td>\n",
       "      <td>2021-10-23</td>\n",
       "      <td>2021-10-16</td>\n",
       "      <td>2021-10-23</td>\n",
       "      <td>NaN</td>\n",
       "      <td>NaN</td>\n",
       "      <td>NaN</td>\n",
       "      <td>NaN</td>\n",
       "      <td>NaN</td>\n",
       "      <td>Suspeito</td>\n",
       "      <td>...</td>\n",
       "      <td>Não</td>\n",
       "      <td>Não</td>\n",
       "      <td>Não</td>\n",
       "      <td>Não</td>\n",
       "      <td>Não</td>\n",
       "      <td>Não Informado</td>\n",
       "      <td>Não Informado</td>\n",
       "      <td>Não Informado</td>\n",
       "      <td>Não Informado</td>\n",
       "      <td>Não Informado</td>\n",
       "    </tr>\n",
       "  </tbody>\n",
       "</table>\n",
       "<p>5 rows × 45 columns</p>\n",
       "</div>"
      ],
      "text/plain": [
       "  DataNotificacao DataCadastro DataDiagnostico DataColeta_RT_PCR  \\\n",
       "0      2021-10-23   2021-10-23      2021-10-21               NaN   \n",
       "1      2021-10-23   2021-10-23      2021-10-23        2021-10-23   \n",
       "2      2021-10-23   2021-10-23      2021-10-20               NaN   \n",
       "3      2021-10-23   2021-10-23      2021-10-23               NaN   \n",
       "4      2021-10-23   2021-10-23      2021-10-16        2021-10-23   \n",
       "\n",
       "  DataColetaTesteRapido DataColetaSorologia DataColetaSorologiaIGG  \\\n",
       "0                   NaN                 NaN                    NaN   \n",
       "1                   NaN                 NaN                    NaN   \n",
       "2            2021-10-23                 NaN                    NaN   \n",
       "3            2021-10-23                 NaN                    NaN   \n",
       "4                   NaN                 NaN                    NaN   \n",
       "\n",
       "  DataEncerramento DataObito Classificacao  ...   ViagemBrasil  \\\n",
       "0              NaN       NaN      Suspeito  ...            Não   \n",
       "1              NaN       NaN      Suspeito  ...            Sim   \n",
       "2       2021-10-23       NaN   Descartados  ...  Não Informado   \n",
       "3              NaN       NaN   Descartados  ...            Não   \n",
       "4              NaN       NaN      Suspeito  ...            Não   \n",
       "\n",
       "  ViagemInternacional ProfissionalSaude PossuiDeficiencia MoradorDeRua  \\\n",
       "0                 Não               Não               Não          Não   \n",
       "1                 Sim               Não               Não          Não   \n",
       "2       Não Informado               Não               Não          Não   \n",
       "3       Não Informado               Não               Não          Não   \n",
       "4                 Não               Não               Não          Não   \n",
       "\n",
       "  ResultadoRT_PCR ResultadoTesteRapido ResultadoSorologia  \\\n",
       "0   Não Informado        Não Informado      Não Informado   \n",
       "1   Não Informado        Não Informado      Não Informado   \n",
       "2   Não Informado             Negativo      Não Informado   \n",
       "3   Não Informado             Negativo      Não Informado   \n",
       "4   Não Informado        Não Informado      Não Informado   \n",
       "\n",
       "  ResultadoSorologia_IGG        TipoTesteRapido  \n",
       "0          Não Informado          Não Informado  \n",
       "1          Não Informado          Não Informado  \n",
       "2          Não Informado  Teste rápido Antígeno  \n",
       "3          Não Informado  Teste rápido Antígeno  \n",
       "4          Não Informado          Não Informado  \n",
       "\n",
       "[5 rows x 45 columns]"
      ]
     },
     "execution_count": 6,
     "metadata": {},
     "output_type": "execute_result"
    }
   ],
   "source": [
    "CovidES.head()"
   ]
  },
  {
   "cell_type": "code",
   "execution_count": 9,
   "id": "52786d51",
   "metadata": {},
   "outputs": [
    {
     "name": "stdout",
     "output_type": "stream",
     "text": [
      "<class 'pandas.core.frame.DataFrame'>\n",
      "RangeIndex: 2149771 entries, 0 to 2149770\n",
      "Data columns (total 45 columns):\n",
      " #   Column                   Dtype \n",
      "---  ------                   ----- \n",
      " 0   DataNotificacao          object\n",
      " 1   DataCadastro             object\n",
      " 2   DataDiagnostico          object\n",
      " 3   DataColeta_RT_PCR        object\n",
      " 4   DataColetaTesteRapido    object\n",
      " 5   DataColetaSorologia      object\n",
      " 6   DataColetaSorologiaIGG   object\n",
      " 7   DataEncerramento         object\n",
      " 8   DataObito                object\n",
      " 9   Classificacao            object\n",
      " 10  Evolucao                 object\n",
      " 11  CriterioConfirmacao      object\n",
      " 12  StatusNotificacao        object\n",
      " 13  Municipio                object\n",
      " 14  Bairro                   object\n",
      " 15  FaixaEtaria              object\n",
      " 16  IdadeNaDataNotificacao   object\n",
      " 17  Sexo                     object\n",
      " 18  RacaCor                  object\n",
      " 19  Escolaridade             object\n",
      " 20  Gestante                 object\n",
      " 21  Febre                    object\n",
      " 22  DificuldadeRespiratoria  object\n",
      " 23  Tosse                    object\n",
      " 24  Coriza                   object\n",
      " 25  DorGarganta              object\n",
      " 26  Diarreia                 object\n",
      " 27  Cefaleia                 object\n",
      " 28  ComorbidadePulmao        object\n",
      " 29  ComorbidadeCardio        object\n",
      " 30  ComorbidadeRenal         object\n",
      " 31  ComorbidadeDiabetes      object\n",
      " 32  ComorbidadeTabagismo     object\n",
      " 33  ComorbidadeObesidade     object\n",
      " 34  FicouInternado           object\n",
      " 35  ViagemBrasil             object\n",
      " 36  ViagemInternacional      object\n",
      " 37  ProfissionalSaude        object\n",
      " 38  PossuiDeficiencia        object\n",
      " 39  MoradorDeRua             object\n",
      " 40  ResultadoRT_PCR          object\n",
      " 41  ResultadoTesteRapido     object\n",
      " 42  ResultadoSorologia       object\n",
      " 43  ResultadoSorologia_IGG   object\n",
      " 44  TipoTesteRapido          object\n",
      "dtypes: object(45)\n",
      "memory usage: 738.1+ MB\n"
     ]
    }
   ],
   "source": [
    "CovidES.info()"
   ]
  },
  {
   "cell_type": "markdown",
   "id": "8e65481c",
   "metadata": {},
   "source": [
    "# Tratamento de dados"
   ]
  },
  {
   "cell_type": "code",
   "execution_count": 7,
   "id": "d4ef7e96",
   "metadata": {},
   "outputs": [
    {
     "name": "stdout",
     "output_type": "stream",
     "text": [
      "Valores unicos RT_PCR: ['Não Informado' 'Inconclusivo' 'Negativo' 'Positivo']\n",
      "Valores unicos de teste rápido: ['Não Informado' 'Negativo' 'Positivo' 'Inconclusivo']\n",
      "Valores unicos de teste Sorológico: ['Não Informado' 'Reagente' 'Não Reagente' 'Inconclusivo']\n",
      "Valores unicos de teste de Sorologia IGG: ['Não Informado' 'Reagente' 'Não Reagente' 'Inconclusivo']\n",
      "Valores unicos de Classificação: ['Suspeito' 'Descartados' 'Confirmados']\n"
     ]
    }
   ],
   "source": [
    "#Visualizando os valores unicos dos resultados\n",
    "\n",
    "print('Valores unicos RT_PCR:',CovidES['ResultadoRT_PCR'].unique())\n",
    "print('Valores unicos de teste rápido:',CovidES['ResultadoTesteRapido'].unique())\n",
    "print('Valores unicos de teste Sorológico:',CovidES['ResultadoSorologia'].unique())\n",
    "print('Valores unicos de teste de Sorologia IGG:',CovidES['ResultadoSorologia_IGG'].unique())\n",
    "print('Valores unicos de Classificação:',CovidES['Classificacao'].unique())"
   ]
  },
  {
   "cell_type": "code",
   "execution_count": 4,
   "id": "d33d3eeb",
   "metadata": {},
   "outputs": [],
   "source": [
    "#criando a função que ira converter os sintomas para numero\n",
    "def convert_to_number(base):\n",
    "    if(base == 'Sim'):\n",
    "        return 1\n",
    "    elif(base == 'Não'):\n",
    "        return 0\n",
    "    else:\n",
    "        return np.nan"
   ]
  },
  {
   "cell_type": "code",
   "execution_count": 5,
   "id": "821cc4d5",
   "metadata": {},
   "outputs": [],
   "source": [
    "#função que ira tranformar as datas de object para Datetime\n",
    "def transform_date(base):\n",
    "    return pd.to_datetime(base, format='%d/%m/%Y')"
   ]
  },
  {
   "cell_type": "code",
   "execution_count": 21,
   "id": "fd9b8e25",
   "metadata": {},
   "outputs": [
    {
     "data": {
      "text/plain": [
       "Index(['Classificacao', 'Evolucao', 'CriterioConfirmacao', 'StatusNotificacao',\n",
       "       'Municipio', 'Bairro', 'FaixaEtaria', 'IdadeNaDataNotificacao', 'Sexo',\n",
       "       'RacaCor', 'Escolaridade', 'Gestante', 'ComorbidadePulmao',\n",
       "       'ComorbidadeCardio', 'ComorbidadeRenal', 'ComorbidadeDiabetes',\n",
       "       'ComorbidadeTabagismo', 'ComorbidadeObesidade', 'FicouInternado',\n",
       "       'ViagemBrasil', 'ViagemInternacional', 'ProfissionalSaude',\n",
       "       'PossuiDeficiencia', 'MoradorDeRua', 'ResultadoRT_PCR',\n",
       "       'ResultadoTesteRapido', 'ResultadoSorologia', 'ResultadoSorologia_IGG',\n",
       "       'TipoTesteRapido', 'dataNotificacao', 'dataCadastro', 'dataDiagnostico',\n",
       "       'dataObito', 'Febre_n', 'Tosse_n', 'Coriza_n', 'DorGarganta_n',\n",
       "       'Diarreia_n', 'Cefaleia_n', 'DificuldadeRespiratoria_n'],\n",
       "      dtype='object')"
      ]
     },
     "execution_count": 21,
     "metadata": {},
     "output_type": "execute_result"
    }
   ],
   "source": [
    "CovidES.columns"
   ]
  },
  {
   "cell_type": "code",
   "execution_count": 6,
   "id": "c7709a33",
   "metadata": {},
   "outputs": [],
   "source": [
    "#convertendo as datas que serão utilizadas de string para datetime\n",
    "CovidES['dataNotificacao'] = pd.to_datetime(CovidES['DataNotificacao'],format='%Y-%m-%d')\n",
    "CovidES['dataCadastro'] = pd.to_datetime(CovidES['DataCadastro'],format='%Y-%m-%d')\n",
    "CovidES['dataDiagnostico'] = pd.to_datetime(CovidES['DataDiagnostico'],format='%Y-%m-%d')\n",
    "CovidES['dataObito'] = pd.to_datetime(CovidES['DataObito'],format='%Y-%m-%d')\n"
   ]
  },
  {
   "cell_type": "code",
   "execution_count": 7,
   "id": "166da56a",
   "metadata": {},
   "outputs": [],
   "source": [
    "#removendo os dados que foram convertidos e dados que nao serão utilizados no projeto\n",
    "CovidES = CovidES.drop(columns=['DataNotificacao', 'DataCadastro', 'DataDiagnostico',\n",
    "       'DataColeta_RT_PCR', 'DataColetaTesteRapido', 'DataColetaSorologia',\n",
    "       'DataColetaSorologiaIGG', 'DataEncerramento', 'DataObito'])"
   ]
  },
  {
   "cell_type": "code",
   "execution_count": 8,
   "id": "5755511c",
   "metadata": {},
   "outputs": [],
   "source": [
    "#convertendo sintomas para numero\n",
    "#aplicando a base de conversão de numero nos sintomas levantados - Caso 1 - sim \n",
    "#Caso 0 - Não. Qualquer valor diferente desses receberá null\n",
    "CovidES['Febre_n'] = CovidES['Febre'].apply(convert_to_number)\n",
    "CovidES['Tosse_n'] = CovidES['Tosse'].apply(convert_to_number)\n",
    "CovidES['Coriza_n']= CovidES['Coriza'].apply(convert_to_number)\n",
    "CovidES['DorGarganta_n']=CovidES['DorGarganta'].apply(convert_to_number)\n",
    "CovidES['Diarreia_n']=CovidES['Diarreia'].apply(convert_to_number)\n",
    "CovidES['Cefaleia_n']=CovidES['Cefaleia'].apply(convert_to_number)\n",
    "CovidES['DificuldadeRespiratoria_n']=CovidES['DificuldadeRespiratoria'].apply(convert_to_number)"
   ]
  },
  {
   "cell_type": "code",
   "execution_count": 9,
   "id": "f920adf9",
   "metadata": {},
   "outputs": [],
   "source": [
    "#removendo os dados que nao foram convertidos\n",
    "CovidES = CovidES.drop(columns=['Febre',\n",
    "       'DificuldadeRespiratoria', 'Tosse', 'Coriza', 'DorGarganta', 'Diarreia',\n",
    "       'Cefaleia'])"
   ]
  },
  {
   "cell_type": "code",
   "execution_count": 10,
   "id": "23a4097b",
   "metadata": {},
   "outputs": [
    {
     "data": {
      "text/plain": [
       "Index(['Classificacao', 'Evolucao', 'CriterioConfirmacao', 'StatusNotificacao',\n",
       "       'Municipio', 'Bairro', 'FaixaEtaria', 'IdadeNaDataNotificacao', 'Sexo',\n",
       "       'RacaCor', 'Escolaridade', 'Gestante', 'ComorbidadePulmao',\n",
       "       'ComorbidadeCardio', 'ComorbidadeRenal', 'ComorbidadeDiabetes',\n",
       "       'ComorbidadeTabagismo', 'ComorbidadeObesidade', 'FicouInternado',\n",
       "       'ViagemBrasil', 'ViagemInternacional', 'ProfissionalSaude',\n",
       "       'PossuiDeficiencia', 'MoradorDeRua', 'ResultadoRT_PCR',\n",
       "       'ResultadoTesteRapido', 'ResultadoSorologia', 'ResultadoSorologia_IGG',\n",
       "       'TipoTesteRapido', 'dataNotificacao', 'dataCadastro', 'dataDiagnostico',\n",
       "       'dataObito', 'Febre_n', 'Tosse_n', 'Coriza_n', 'DorGarganta_n',\n",
       "       'Diarreia_n', 'Cefaleia_n', 'DificuldadeRespiratoria_n'],\n",
       "      dtype='object')"
      ]
     },
     "execution_count": 10,
     "metadata": {},
     "output_type": "execute_result"
    }
   ],
   "source": [
    "CovidES.columns"
   ]
  },
  {
   "cell_type": "code",
   "execution_count": 11,
   "id": "aa34fa33",
   "metadata": {},
   "outputs": [
    {
     "name": "stdout",
     "output_type": "stream",
     "text": [
      "Valores unicos Comorbidade no Pulmão: ['Não' 'Sim' '-']\n",
      "Valores unicos Comorbidade - Coração: ['Sim' 'Não' '-']\n",
      "Valores unicos Comorbidade - Rins: ['Não' 'Sim' '-']\n",
      "Valores unicos Comorbidade - Diabetes: ['Não' 'Sim' '-']\n",
      "Valores unicos Comorbidade - Tabagismo: ['Não' 'Sim' '-']\n",
      "Valores unicos Comorbidade - Obesidade: ['Não' 'Sim' '-']\n"
     ]
    }
   ],
   "source": [
    "print('Valores unicos Comorbidade no Pulmão:',CovidES['ComorbidadePulmao'].unique())\n",
    "print('Valores unicos Comorbidade - Coração:',CovidES['ComorbidadeCardio'].unique())\n",
    "print('Valores unicos Comorbidade - Rins:',CovidES['ComorbidadeRenal'].unique())\n",
    "print('Valores unicos Comorbidade - Diabetes:',CovidES['ComorbidadeDiabetes'].unique())\n",
    "print('Valores unicos Comorbidade - Tabagismo:',CovidES['ComorbidadeTabagismo'].unique())\n",
    "print('Valores unicos Comorbidade - Obesidade:',CovidES['ComorbidadeObesidade'].unique())\n"
   ]
  },
  {
   "cell_type": "code",
   "execution_count": 12,
   "id": "7c3e334f",
   "metadata": {},
   "outputs": [],
   "source": [
    "#convertendo Comorbidades para numero\n",
    "#Caso 1 - Sim, Caso 0 - Não\n",
    "CovidES['comorbidadePulmao'] = CovidES['ComorbidadePulmao'].apply(convert_to_number)\n",
    "CovidES['comorbidadeCardio'] = CovidES['ComorbidadeCardio'].apply(convert_to_number)\n",
    "CovidES['comorbidadeRenal'] = CovidES['ComorbidadeRenal'].apply(convert_to_number)\n",
    "CovidES['comorbidadeDiabetes'] = CovidES['ComorbidadeDiabetes'].apply(convert_to_number)\n",
    "CovidES['comorbidadeTabagismo'] = CovidES['ComorbidadeTabagismo'].apply(convert_to_number)\n",
    "CovidES['comorbidadeObesidade'] = CovidES['ComorbidadeObesidade'].apply(convert_to_number)"
   ]
  },
  {
   "cell_type": "code",
   "execution_count": 13,
   "id": "b5455079",
   "metadata": {},
   "outputs": [],
   "source": [
    "#removendo os dados que foram convertidos \n",
    "CovidES = CovidES.drop(columns=['ComorbidadePulmao','ComorbidadeCardio', 'ComorbidadeRenal', 'ComorbidadeDiabetes','ComorbidadeTabagismo', 'ComorbidadeObesidade'])"
   ]
  },
  {
   "cell_type": "code",
   "execution_count": 14,
   "id": "cc50fd98",
   "metadata": {},
   "outputs": [
    {
     "name": "stdout",
     "output_type": "stream",
     "text": [
      "Contagem de incidências na coluna de Gestante \n",
      " Não                           1142479\n",
      "Não se aplica                  988466\n",
      "3º trimeste                      7560\n",
      "Ignorado                         4862\n",
      "2º trimeste                      3174\n",
      "1º trimeste                      2571\n",
      "Idade gestacional ignorada        659\n",
      "Name: Gestante, dtype: int64\n",
      "\n",
      "\n",
      "Contagem de incidências na coluna de Realizou Viagem Internacional ?\n",
      " Não Informado    1153571\n",
      "Não               863184\n",
      "Ignorado          131480\n",
      "Sim                 1536\n",
      "Name: ViagemInternacional, dtype: int64\n",
      "\n",
      "\n",
      "Contagem de incidências na coluna de Realizou Viagem no Brasil? \n",
      " Não Informado    1000296\n",
      "Não               926710\n",
      "Ignorado          145991\n",
      "Sim                76774\n",
      "Name: ViagemBrasil, dtype: int64\n",
      "\n",
      "\n",
      "Contagem de incidências na coluna de Possui deficiência? \n",
      " Não              2090009\n",
      "Não Informado      30555\n",
      "Sim                29207\n",
      "Name: PossuiDeficiencia, dtype: int64\n",
      "\n",
      "\n",
      "Contagem de incidências na coluna Morador de Rua? \n",
      " Não              2105069\n",
      "Não Informado      32907\n",
      "Sim                11795\n",
      "Name: MoradorDeRua, dtype: int64\n",
      "\n",
      "\n"
     ]
    }
   ],
   "source": [
    "print('Contagem de incidências na coluna de Gestante \\n',CovidES['Gestante'].value_counts())\n",
    "print('\\n')\n",
    "print('Contagem de incidências na coluna de Realizou Viagem Internacional ?\\n',CovidES['ViagemInternacional'].value_counts())\n",
    "print('\\n')\n",
    "print('Contagem de incidências na coluna de Realizou Viagem no Brasil? \\n',CovidES['ViagemBrasil'].value_counts())\n",
    "print('\\n')\n",
    "print('Contagem de incidências na coluna de Possui deficiência? \\n',CovidES['PossuiDeficiencia'].value_counts())\n",
    "print('\\n')\n",
    "print('Contagem de incidências na coluna Morador de Rua? \\n',CovidES['MoradorDeRua'].value_counts())\n",
    "print('\\n')\n"
   ]
  },
  {
   "cell_type": "code",
   "execution_count": 15,
   "id": "38bdba05",
   "metadata": {},
   "outputs": [],
   "source": [
    "#excluindo colunas que nao serão utilizadas por nao possuir tanta relevância para o projeto\n",
    "CovidES = CovidES.drop(columns=['Gestante','ViagemInternacional','ViagemBrasil','PossuiDeficiencia','MoradorDeRua'])"
   ]
  },
  {
   "cell_type": "code",
   "execution_count": 16,
   "id": "39edb6a9",
   "metadata": {},
   "outputs": [
    {
     "data": {
      "text/plain": [
       "Index(['Classificacao', 'Evolucao', 'CriterioConfirmacao', 'StatusNotificacao',\n",
       "       'Municipio', 'Bairro', 'FaixaEtaria', 'IdadeNaDataNotificacao', 'Sexo',\n",
       "       'RacaCor', 'Escolaridade', 'FicouInternado', 'ProfissionalSaude',\n",
       "       'ResultadoRT_PCR', 'ResultadoTesteRapido', 'ResultadoSorologia',\n",
       "       'ResultadoSorologia_IGG', 'TipoTesteRapido', 'dataNotificacao',\n",
       "       'dataCadastro', 'dataDiagnostico', 'dataObito', 'Febre_n', 'Tosse_n',\n",
       "       'Coriza_n', 'DorGarganta_n', 'Diarreia_n', 'Cefaleia_n',\n",
       "       'DificuldadeRespiratoria_n', 'comorbidadePulmao', 'comorbidadeCardio',\n",
       "       'comorbidadeRenal', 'comorbidadeDiabetes', 'comorbidadeTabagismo',\n",
       "       'comorbidadeObesidade'],\n",
       "      dtype='object')"
      ]
     },
     "execution_count": 16,
     "metadata": {},
     "output_type": "execute_result"
    }
   ],
   "source": [
    "CovidES.columns"
   ]
  },
  {
   "cell_type": "code",
   "execution_count": 17,
   "id": "6b8978b3",
   "metadata": {},
   "outputs": [
    {
     "name": "stdout",
     "output_type": "stream",
     "text": [
      "Contagem de incidências na coluna Criterio de Confirmação \n",
      " Laboratorial             1803951\n",
      "Clinico                   170431\n",
      "-                         118288\n",
      "Clinico Epdemiologico      57101\n",
      "Name: CriterioConfirmacao, dtype: int64\n",
      "\n",
      "\n",
      "Contagem de incidências na coluna Morador de Status de Notificação? \n",
      " Encerrado    1841292\n",
      "Em Aberto     308479\n",
      "Name: StatusNotificacao, dtype: int64\n",
      "\n",
      "\n",
      "Contagem de incidências na coluna profissional de Saude? \n",
      " Não              1773027\n",
      "Ignorado          249396\n",
      "Sim               125111\n",
      "Não Informado       2237\n",
      "Name: ProfissionalSaude, dtype: int64\n",
      "\n",
      "\n"
     ]
    }
   ],
   "source": [
    "print('Contagem de incidências na coluna Criterio de Confirmação \\n',CovidES['CriterioConfirmacao'].value_counts())\n",
    "print('\\n')\n",
    "print('Contagem de incidências na coluna Morador de Status de Notificação? \\n',CovidES['StatusNotificacao'].value_counts())\n",
    "print('\\n')\n",
    "print('Contagem de incidências na coluna profissional de Saude? \\n',CovidES['ProfissionalSaude'].value_counts())\n",
    "print('\\n')"
   ]
  },
  {
   "cell_type": "code",
   "execution_count": 18,
   "id": "5f958700",
   "metadata": {},
   "outputs": [],
   "source": [
    "CovidES = CovidES.drop(columns=['CriterioConfirmacao','StatusNotificacao','ProfissionalSaude'])"
   ]
  },
  {
   "cell_type": "code",
   "execution_count": 19,
   "id": "abaf6984",
   "metadata": {},
   "outputs": [
    {
     "name": "stdout",
     "output_type": "stream",
     "text": [
      "Contagem de incidências na coluna Sexo? \n",
      " F    1158092\n",
      "M     991101\n",
      "I        578\n",
      "Name: Sexo, dtype: int64\n",
      "\n",
      "\n"
     ]
    }
   ],
   "source": [
    "print('Contagem de incidências na coluna Sexo? \\n',CovidES['Sexo'].value_counts())\n",
    "print('\\n')"
   ]
  },
  {
   "cell_type": "code",
   "execution_count": 20,
   "id": "81e33599",
   "metadata": {},
   "outputs": [],
   "source": [
    "#criando uma função para converter sexo para numeros\n",
    "def sex_to_number(base):\n",
    "    if(base == 'F'):\n",
    "        return 0\n",
    "    elif(base =='M'):\n",
    "        return 1\n",
    "    elif(base =='I'):\n",
    "        return 2\n",
    "    else:\n",
    "        np.nan\n",
    "        "
   ]
  },
  {
   "cell_type": "code",
   "execution_count": 21,
   "id": "bf3fab34",
   "metadata": {},
   "outputs": [],
   "source": [
    "#será \n",
    "# 0 - F\n",
    "# 1 - M\n",
    "# 2 - I\n",
    "\n",
    "CovidES['sexo'] = CovidES['Sexo'].apply(sex_to_number)"
   ]
  },
  {
   "cell_type": "code",
   "execution_count": 22,
   "id": "383abd24",
   "metadata": {},
   "outputs": [],
   "source": [
    "#removendo os resultados de testes, pois serao controlados de acordo com a Classificação\n",
    "CovidES = CovidES.drop(columns=['ResultadoRT_PCR', 'ResultadoTesteRapido', 'ResultadoSorologia','ResultadoSorologia_IGG', 'TipoTesteRapido',])"
   ]
  },
  {
   "cell_type": "code",
   "execution_count": 23,
   "id": "ae9130d1",
   "metadata": {},
   "outputs": [
    {
     "data": {
      "text/plain": [
       "Index(['Classificacao', 'Evolucao', 'Municipio', 'Bairro', 'FaixaEtaria',\n",
       "       'IdadeNaDataNotificacao', 'Sexo', 'RacaCor', 'Escolaridade',\n",
       "       'FicouInternado', 'dataNotificacao', 'dataCadastro', 'dataDiagnostico',\n",
       "       'dataObito', 'Febre_n', 'Tosse_n', 'Coriza_n', 'DorGarganta_n',\n",
       "       'Diarreia_n', 'Cefaleia_n', 'DificuldadeRespiratoria_n',\n",
       "       'comorbidadePulmao', 'comorbidadeCardio', 'comorbidadeRenal',\n",
       "       'comorbidadeDiabetes', 'comorbidadeTabagismo', 'comorbidadeObesidade',\n",
       "       'sexo'],\n",
       "      dtype='object')"
      ]
     },
     "execution_count": 23,
     "metadata": {},
     "output_type": "execute_result"
    }
   ],
   "source": [
    "CovidES.columns"
   ]
  },
  {
   "cell_type": "code",
   "execution_count": 24,
   "id": "044b944d",
   "metadata": {},
   "outputs": [
    {
     "name": "stdout",
     "output_type": "stream",
     "text": [
      "Contagem de incidências na coluna Ficou Internado? \n",
      " Não Informado    1174347\n",
      "Não               840780\n",
      "Ignorado          115102\n",
      "Sim                19542\n",
      "Name: FicouInternado, dtype: int64\n",
      "\n",
      "\n",
      "Contagem de incidências na coluna classificacao \n",
      " Descartados    1231265\n",
      "Confirmados     602752\n",
      "Suspeito        315754\n",
      "Name: Classificacao, dtype: int64\n",
      "\n",
      "\n",
      "Contagem de incidências na coluna Evolução \n",
      " Ignorado                   1182979\n",
      "Cura                        582416\n",
      "-                           367319\n",
      "Óbito pelo COVID-19          12826\n",
      "Óbito por outras causas       4231\n",
      "Name: Evolucao, dtype: int64\n",
      "\n",
      "\n",
      "Contagem de incidências na coluna Escolaridade \n",
      " Ignorado                                                       804171\n",
      "Ensino médio completo (antigo colegial ou 2º grau )            454402\n",
      "Educação superior completa                                     261260\n",
      "5ª à 8ª série incompleta do EF (antigo ginásio ou 1º grau)     135854\n",
      "Ensino médio incompleto (antigo colegial ou 2º grau )          103594\n",
      "Ensino fundamental completo (antigo ginásio ou 1º grau)         91968\n",
      "1ª a 4ª série incompleta do EF (antigo primário ou 1º grau)     79091\n",
      "Não se aplica                                                   75315\n",
      "Educação superior incompleta                                    58056\n",
      "4ª série completa do EF (antigo primário ou 1º grau)            50125\n",
      "Analfabeto                                                      35935\n",
      "Name: Escolaridade, dtype: int64\n",
      "\n",
      "\n"
     ]
    }
   ],
   "source": [
    "print('Contagem de incidências na coluna Ficou Internado? \\n',CovidES['FicouInternado'].value_counts())\n",
    "print('\\n')\n",
    "print('Contagem de incidências na coluna classificacao \\n',CovidES['Classificacao'].value_counts())\n",
    "print('\\n')\n",
    "print('Contagem de incidências na coluna Evolução \\n',CovidES['Evolucao'].value_counts())\n",
    "print('\\n')\n",
    "print('Contagem de incidências na coluna Escolaridade \\n',CovidES['Escolaridade'].value_counts())\n",
    "print('\\n')"
   ]
  },
  {
   "cell_type": "code",
   "execution_count": 25,
   "id": "317baa4e",
   "metadata": {},
   "outputs": [],
   "source": [
    "CovidES.drop(columns=['FicouInternado'],inplace=True)"
   ]
  },
  {
   "cell_type": "code",
   "execution_count": 26,
   "id": "940b8d62",
   "metadata": {},
   "outputs": [
    {
     "data": {
      "text/plain": [
       "Index(['Classificacao', 'Evolucao', 'Municipio', 'Bairro', 'FaixaEtaria',\n",
       "       'IdadeNaDataNotificacao', 'Sexo', 'RacaCor', 'Escolaridade',\n",
       "       'dataNotificacao', 'dataCadastro', 'dataDiagnostico', 'dataObito',\n",
       "       'Febre_n', 'Tosse_n', 'Coriza_n', 'DorGarganta_n', 'Diarreia_n',\n",
       "       'Cefaleia_n', 'DificuldadeRespiratoria_n', 'comorbidadePulmao',\n",
       "       'comorbidadeCardio', 'comorbidadeRenal', 'comorbidadeDiabetes',\n",
       "       'comorbidadeTabagismo', 'comorbidadeObesidade', 'sexo'],\n",
       "      dtype='object')"
      ]
     },
     "execution_count": 26,
     "metadata": {},
     "output_type": "execute_result"
    }
   ],
   "source": [
    "CovidES.columns"
   ]
  },
  {
   "cell_type": "code",
   "execution_count": 51,
   "id": "eef92e7f",
   "metadata": {},
   "outputs": [],
   "source": [
    "#removendo linhas de classificações descartadas\n",
    "CovidES.drop(CovidES.loc[CovidES['Classificacao']=='Descartados'].index, inplace=True)"
   ]
  },
  {
   "cell_type": "code",
   "execution_count": 52,
   "id": "1910c079",
   "metadata": {},
   "outputs": [
    {
     "data": {
      "text/plain": [
       "array(['Suspeito', 'Confirmados'], dtype=object)"
      ]
     },
     "execution_count": 52,
     "metadata": {},
     "output_type": "execute_result"
    }
   ],
   "source": [
    "#validando se foi removido\n",
    "CovidES['Classificacao'].unique()"
   ]
  },
  {
   "cell_type": "code",
   "execution_count": 64,
   "id": "ba5849fb",
   "metadata": {},
   "outputs": [],
   "source": [
    "#removendo linhas da evolução que estejam como - ou como Ignorado\n",
    "CovidES.drop(CovidES.loc[CovidES['Evolucao']=='-'].index, inplace=True)\n",
    "CovidES.drop(CovidES.loc[CovidES['Evolucao']=='Ignorado'].index, inplace=True)"
   ]
  },
  {
   "cell_type": "code",
   "execution_count": 65,
   "id": "df19686a",
   "metadata": {},
   "outputs": [
    {
     "data": {
      "text/plain": [
       "array(['Cura', 'Óbito pelo COVID-19', 'Óbito por outras causas'],\n",
       "      dtype=object)"
      ]
     },
     "execution_count": 65,
     "metadata": {},
     "output_type": "execute_result"
    }
   ],
   "source": [
    "#validando a remoção das linhas\n",
    "CovidES['Evolucao'].unique()"
   ]
  },
  {
   "cell_type": "code",
   "execution_count": 67,
   "id": "28227feb",
   "metadata": {},
   "outputs": [],
   "source": [
    "#função que converte classificação para numeros\n",
    "def class_to_number(base):\n",
    "    if(base == 'Confirmados'):\n",
    "        return 0\n",
    "    elif(base == 'Suspeito'):\n",
    "        return 1\n",
    "    else:\n",
    "        return -1"
   ]
  },
  {
   "cell_type": "code",
   "execution_count": 68,
   "id": "9fb2db6d",
   "metadata": {},
   "outputs": [],
   "source": [
    "#função que converte a evolução dos casos para numeros\n",
    "def evol_to_number(base):\n",
    "    if(base == 'Cura'):\n",
    "        return 0\n",
    "    elif(base == 'Óbito pelo COVID-19'):\n",
    "        return 1\n",
    "    elif(base == 'Óbito por outras causas'):\n",
    "        return 2\n",
    "    else:\n",
    "        return -1"
   ]
  },
  {
   "cell_type": "code",
   "execution_count": 29,
   "id": "c467f81e",
   "metadata": {},
   "outputs": [],
   "source": [
    "#funcao que converte escolaridade para indices numericos\n",
    "def school_to_number(base):\n",
    "    if(base == 'Ignorado'):\n",
    "        return 10\n",
    "    elif(base == 'Não se aplica'):\n",
    "        return 9\n",
    "    elif(base  == 'Educação superior incompleta'):\n",
    "        return 8\n",
    "    elif(base == 'Analfabeto'):\n",
    "        return 7\n",
    "    elif(base == '4ª série completa do EF (antigo primário ou 1º grau)'):\n",
    "        return 6\n",
    "    elif(base == '1ª a 4ª série incompleta do EF (antigo primário ou 1º grau)'):\n",
    "        return 5\n",
    "    elif(base == 'Ensino fundamental completo (antigo ginásio ou 1º grau)'):\n",
    "        return 4\n",
    "    elif(base == 'Ensino médio incompleto (antigo colegial ou 2º grau )'):\n",
    "        return 3\n",
    "    elif(base == '5ª à 8ª série incompleta do EF (antigo ginásio ou 1º grau)'):\n",
    "        return 2\n",
    "    elif(base == 'Educação superior completa'):\n",
    "        return 1\n",
    "    elif(base == 'Ensino médio completo (antigo colegial ou 2º grau )'):\n",
    "        return 0 \n",
    "    else:\n",
    "        return -1"
   ]
  },
  {
   "cell_type": "code",
   "execution_count": 69,
   "id": "f4fd43e4",
   "metadata": {},
   "outputs": [],
   "source": [
    "#aplicando as funções as bases\n",
    "CovidES['classificacao'] = CovidES['Classificacao'].apply(class_to_number)\n"
   ]
  },
  {
   "cell_type": "code",
   "execution_count": 70,
   "id": "7ef3009b",
   "metadata": {},
   "outputs": [],
   "source": [
    "CovidES['evolucao '] = CovidES['Evolucao'].apply(evol_to_number)\n",
    "CovidES['escolaridade'] = CovidES['Escolaridade'].apply(school_to_number)"
   ]
  },
  {
   "cell_type": "code",
   "execution_count": 32,
   "id": "7cf8482a",
   "metadata": {},
   "outputs": [
    {
     "name": "stdout",
     "output_type": "stream",
     "text": [
      "Contagem de incidências na coluna Raca Cor? \n",
      " Parda       720551\n",
      "Branca      625209\n",
      "Ignorado    548165\n",
      "Amarela     129514\n",
      "Preta       120526\n",
      "Indigena      5806\n",
      "Name: RacaCor, dtype: int64\n",
      "\n",
      "\n"
     ]
    }
   ],
   "source": [
    "print('Contagem de incidências na coluna Raca Cor? \\n',CovidES['RacaCor'].value_counts())\n",
    "print('\\n')"
   ]
  },
  {
   "cell_type": "code",
   "execution_count": 33,
   "id": "d5b182b3",
   "metadata": {},
   "outputs": [],
   "source": [
    "#função que transforma raça e cor para numero\n",
    "def race_to_number(base):\n",
    "    if(base == 'Parda'):\n",
    "        return 0\n",
    "    elif(base == 'Branca'): \n",
    "        return 1\n",
    "    elif(base == 'Ignorado'):\n",
    "        return -1\n",
    "    elif(base == 'Amarela'):\n",
    "        return 2\n",
    "    elif(base == 'Preta'):\n",
    "        return 3\n",
    "    elif(base == 'Indigena'):\n",
    "        return 4\n",
    "    else: \n",
    "        np.nan"
   ]
  },
  {
   "cell_type": "code",
   "execution_count": 34,
   "id": "83ad2740",
   "metadata": {},
   "outputs": [],
   "source": [
    "#aplicando a função na nova coluna\n",
    "CovidES['raca_cor'] = CovidES['RacaCor'].apply(race_to_number)"
   ]
  },
  {
   "cell_type": "code",
   "execution_count": 35,
   "id": "b8db6ccb",
   "metadata": {},
   "outputs": [
    {
     "data": {
      "text/plain": [
       "0      73 anos, 1 meses, 6 dias\n",
       "1     39 anos, 7 meses, 22 dias\n",
       "2     41 anos, 1 meses, 25 dias\n",
       "3      40 anos, 5 meses, 1 dias\n",
       "4      42 anos, 3 meses, 8 dias\n",
       "                ...            \n",
       "95    74 anos, 1 meses, 14 dias\n",
       "96    68 anos, 7 meses, 10 dias\n",
       "97     41 anos, 0 meses, 2 dias\n",
       "98    51 anos, 9 meses, 14 dias\n",
       "99    29 anos, 10 meses, 4 dias\n",
       "Name: IdadeNaDataNotificacao, Length: 100, dtype: object"
      ]
     },
     "execution_count": 35,
     "metadata": {},
     "output_type": "execute_result"
    }
   ],
   "source": [
    "CovidES.head(100)['IdadeNaDataNotificacao']"
   ]
  },
  {
   "cell_type": "code",
   "execution_count": 63,
   "id": "550e5a68",
   "metadata": {},
   "outputs": [],
   "source": [
    "import string"
   ]
  },
  {
   "cell_type": "code",
   "execution_count": 36,
   "id": "8c5a18fe",
   "metadata": {},
   "outputs": [],
   "source": [
    "#criando função para recuperar a idade da String\n",
    "def get_idade(base):\n",
    "        base.strip()\n",
    "        idade = base[0:2]\n",
    "        return int(idade)\n",
    "    \n",
    "    "
   ]
  },
  {
   "cell_type": "code",
   "execution_count": 37,
   "id": "77ed984d",
   "metadata": {},
   "outputs": [],
   "source": [
    "#aplicando a função na nova base\n",
    "CovidES['idade'] = CovidES['IdadeNaDataNotificacao'].apply(get_idade)"
   ]
  },
  {
   "cell_type": "code",
   "execution_count": 38,
   "id": "e92a5a63",
   "metadata": {},
   "outputs": [
    {
     "data": {
      "text/html": [
       "<div>\n",
       "<style scoped>\n",
       "    .dataframe tbody tr th:only-of-type {\n",
       "        vertical-align: middle;\n",
       "    }\n",
       "\n",
       "    .dataframe tbody tr th {\n",
       "        vertical-align: top;\n",
       "    }\n",
       "\n",
       "    .dataframe thead th {\n",
       "        text-align: right;\n",
       "    }\n",
       "</style>\n",
       "<table border=\"1\" class=\"dataframe\">\n",
       "  <thead>\n",
       "    <tr style=\"text-align: right;\">\n",
       "      <th></th>\n",
       "      <th>Classificacao</th>\n",
       "      <th>Evolucao</th>\n",
       "      <th>Municipio</th>\n",
       "      <th>Bairro</th>\n",
       "      <th>FaixaEtaria</th>\n",
       "      <th>IdadeNaDataNotificacao</th>\n",
       "      <th>Sexo</th>\n",
       "      <th>RacaCor</th>\n",
       "      <th>Escolaridade</th>\n",
       "      <th>dataNotificacao</th>\n",
       "      <th>...</th>\n",
       "      <th>comorbidadeRenal</th>\n",
       "      <th>comorbidadeDiabetes</th>\n",
       "      <th>comorbidadeTabagismo</th>\n",
       "      <th>comorbidadeObesidade</th>\n",
       "      <th>sexo</th>\n",
       "      <th>classificacao</th>\n",
       "      <th>evolucao</th>\n",
       "      <th>escolaridade</th>\n",
       "      <th>raca_cor</th>\n",
       "      <th>idade</th>\n",
       "    </tr>\n",
       "  </thead>\n",
       "  <tbody>\n",
       "    <tr>\n",
       "      <th>0</th>\n",
       "      <td>Suspeito</td>\n",
       "      <td>-</td>\n",
       "      <td>GUARAPARI</td>\n",
       "      <td>PRAIA DO MORRO</td>\n",
       "      <td>70 a 79 anos</td>\n",
       "      <td>73 anos, 1 meses, 6 dias</td>\n",
       "      <td>F</td>\n",
       "      <td>Parda</td>\n",
       "      <td>Ensino médio completo (antigo colegial ou 2º g...</td>\n",
       "      <td>2021-10-23</td>\n",
       "      <td>...</td>\n",
       "      <td>0.0</td>\n",
       "      <td>0.0</td>\n",
       "      <td>0.0</td>\n",
       "      <td>0.0</td>\n",
       "      <td>0</td>\n",
       "      <td>2</td>\n",
       "      <td>3</td>\n",
       "      <td>-1</td>\n",
       "      <td>0</td>\n",
       "      <td>73</td>\n",
       "    </tr>\n",
       "    <tr>\n",
       "      <th>1</th>\n",
       "      <td>Suspeito</td>\n",
       "      <td>-</td>\n",
       "      <td>VITORIA</td>\n",
       "      <td>PRAIA DO CANTO</td>\n",
       "      <td>30 a 39 anos</td>\n",
       "      <td>39 anos, 7 meses, 22 dias</td>\n",
       "      <td>M</td>\n",
       "      <td>Parda</td>\n",
       "      <td>Educação superior completa</td>\n",
       "      <td>2021-10-23</td>\n",
       "      <td>...</td>\n",
       "      <td>0.0</td>\n",
       "      <td>0.0</td>\n",
       "      <td>0.0</td>\n",
       "      <td>0.0</td>\n",
       "      <td>1</td>\n",
       "      <td>2</td>\n",
       "      <td>3</td>\n",
       "      <td>1</td>\n",
       "      <td>0</td>\n",
       "      <td>39</td>\n",
       "    </tr>\n",
       "    <tr>\n",
       "      <th>2</th>\n",
       "      <td>Descartados</td>\n",
       "      <td>Ignorado</td>\n",
       "      <td>SERRA</td>\n",
       "      <td>CONJUNTO JACARAÍPE</td>\n",
       "      <td>40 a 49 anos</td>\n",
       "      <td>41 anos, 1 meses, 25 dias</td>\n",
       "      <td>F</td>\n",
       "      <td>Ignorado</td>\n",
       "      <td>Ignorado</td>\n",
       "      <td>2021-10-23</td>\n",
       "      <td>...</td>\n",
       "      <td>0.0</td>\n",
       "      <td>0.0</td>\n",
       "      <td>0.0</td>\n",
       "      <td>0.0</td>\n",
       "      <td>0</td>\n",
       "      <td>0</td>\n",
       "      <td>4</td>\n",
       "      <td>10</td>\n",
       "      <td>-1</td>\n",
       "      <td>41</td>\n",
       "    </tr>\n",
       "    <tr>\n",
       "      <th>3</th>\n",
       "      <td>Descartados</td>\n",
       "      <td>Ignorado</td>\n",
       "      <td>ITAPEMIRIM</td>\n",
       "      <td>GARRAFÃO</td>\n",
       "      <td>40 a 49 anos</td>\n",
       "      <td>40 anos, 5 meses, 1 dias</td>\n",
       "      <td>F</td>\n",
       "      <td>Preta</td>\n",
       "      <td>1ª a 4ª série incompleta do EF (antigo primári...</td>\n",
       "      <td>2021-10-23</td>\n",
       "      <td>...</td>\n",
       "      <td>0.0</td>\n",
       "      <td>0.0</td>\n",
       "      <td>0.0</td>\n",
       "      <td>0.0</td>\n",
       "      <td>0</td>\n",
       "      <td>0</td>\n",
       "      <td>4</td>\n",
       "      <td>5</td>\n",
       "      <td>3</td>\n",
       "      <td>40</td>\n",
       "    </tr>\n",
       "    <tr>\n",
       "      <th>4</th>\n",
       "      <td>Suspeito</td>\n",
       "      <td>-</td>\n",
       "      <td>GUARAPARI</td>\n",
       "      <td>JABARAÍ</td>\n",
       "      <td>40 a 49 anos</td>\n",
       "      <td>42 anos, 3 meses, 8 dias</td>\n",
       "      <td>M</td>\n",
       "      <td>Parda</td>\n",
       "      <td>Ensino médio completo (antigo colegial ou 2º g...</td>\n",
       "      <td>2021-10-23</td>\n",
       "      <td>...</td>\n",
       "      <td>0.0</td>\n",
       "      <td>0.0</td>\n",
       "      <td>0.0</td>\n",
       "      <td>0.0</td>\n",
       "      <td>1</td>\n",
       "      <td>2</td>\n",
       "      <td>3</td>\n",
       "      <td>-1</td>\n",
       "      <td>0</td>\n",
       "      <td>42</td>\n",
       "    </tr>\n",
       "    <tr>\n",
       "      <th>5</th>\n",
       "      <td>Suspeito</td>\n",
       "      <td>-</td>\n",
       "      <td>VILA VELHA</td>\n",
       "      <td>SAGRADA FAMÍLIA</td>\n",
       "      <td>10 a 19 anos</td>\n",
       "      <td>16 anos, 11 meses, 17 dias</td>\n",
       "      <td>M</td>\n",
       "      <td>Parda</td>\n",
       "      <td>5ª à 8ª série incompleta do EF (antigo ginásio...</td>\n",
       "      <td>2021-10-23</td>\n",
       "      <td>...</td>\n",
       "      <td>0.0</td>\n",
       "      <td>0.0</td>\n",
       "      <td>0.0</td>\n",
       "      <td>0.0</td>\n",
       "      <td>1</td>\n",
       "      <td>2</td>\n",
       "      <td>3</td>\n",
       "      <td>2</td>\n",
       "      <td>0</td>\n",
       "      <td>16</td>\n",
       "    </tr>\n",
       "    <tr>\n",
       "      <th>6</th>\n",
       "      <td>Suspeito</td>\n",
       "      <td>Ignorado</td>\n",
       "      <td>APIACA</td>\n",
       "      <td>SANTA FÉ</td>\n",
       "      <td>10 a 19 anos</td>\n",
       "      <td>15 anos, 6 meses, 17 dias</td>\n",
       "      <td>F</td>\n",
       "      <td>Parda</td>\n",
       "      <td>5ª à 8ª série incompleta do EF (antigo ginásio...</td>\n",
       "      <td>2021-10-23</td>\n",
       "      <td>...</td>\n",
       "      <td>0.0</td>\n",
       "      <td>0.0</td>\n",
       "      <td>0.0</td>\n",
       "      <td>0.0</td>\n",
       "      <td>0</td>\n",
       "      <td>2</td>\n",
       "      <td>4</td>\n",
       "      <td>2</td>\n",
       "      <td>0</td>\n",
       "      <td>15</td>\n",
       "    </tr>\n",
       "    <tr>\n",
       "      <th>7</th>\n",
       "      <td>Suspeito</td>\n",
       "      <td>-</td>\n",
       "      <td>ARACRUZ</td>\n",
       "      <td>Não Encontrado</td>\n",
       "      <td>20 a 29 anos</td>\n",
       "      <td>22 anos, 7 meses, 6 dias</td>\n",
       "      <td>M</td>\n",
       "      <td>Ignorado</td>\n",
       "      <td>Educação superior incompleta</td>\n",
       "      <td>2021-10-23</td>\n",
       "      <td>...</td>\n",
       "      <td>0.0</td>\n",
       "      <td>0.0</td>\n",
       "      <td>0.0</td>\n",
       "      <td>0.0</td>\n",
       "      <td>1</td>\n",
       "      <td>2</td>\n",
       "      <td>3</td>\n",
       "      <td>-1</td>\n",
       "      <td>-1</td>\n",
       "      <td>22</td>\n",
       "    </tr>\n",
       "    <tr>\n",
       "      <th>8</th>\n",
       "      <td>Suspeito</td>\n",
       "      <td>Ignorado</td>\n",
       "      <td>PANCAS</td>\n",
       "      <td>VILA NOVA</td>\n",
       "      <td>20 a 29 anos</td>\n",
       "      <td>21 anos, 5 meses, 6 dias</td>\n",
       "      <td>F</td>\n",
       "      <td>Preta</td>\n",
       "      <td>Educação superior incompleta</td>\n",
       "      <td>2021-10-23</td>\n",
       "      <td>...</td>\n",
       "      <td>0.0</td>\n",
       "      <td>0.0</td>\n",
       "      <td>0.0</td>\n",
       "      <td>0.0</td>\n",
       "      <td>0</td>\n",
       "      <td>2</td>\n",
       "      <td>4</td>\n",
       "      <td>-1</td>\n",
       "      <td>3</td>\n",
       "      <td>21</td>\n",
       "    </tr>\n",
       "    <tr>\n",
       "      <th>9</th>\n",
       "      <td>Suspeito</td>\n",
       "      <td>-</td>\n",
       "      <td>ARACRUZ</td>\n",
       "      <td>FÁTIMA</td>\n",
       "      <td>10 a 19 anos</td>\n",
       "      <td>17 anos, 0 meses, 27 dias</td>\n",
       "      <td>F</td>\n",
       "      <td>Ignorado</td>\n",
       "      <td>5ª à 8ª série incompleta do EF (antigo ginásio...</td>\n",
       "      <td>2021-10-23</td>\n",
       "      <td>...</td>\n",
       "      <td>0.0</td>\n",
       "      <td>0.0</td>\n",
       "      <td>0.0</td>\n",
       "      <td>0.0</td>\n",
       "      <td>0</td>\n",
       "      <td>2</td>\n",
       "      <td>3</td>\n",
       "      <td>2</td>\n",
       "      <td>-1</td>\n",
       "      <td>17</td>\n",
       "    </tr>\n",
       "  </tbody>\n",
       "</table>\n",
       "<p>10 rows × 32 columns</p>\n",
       "</div>"
      ],
      "text/plain": [
       "  Classificacao  Evolucao   Municipio              Bairro   FaixaEtaria  \\\n",
       "0      Suspeito         -   GUARAPARI      PRAIA DO MORRO  70 a 79 anos   \n",
       "1      Suspeito         -     VITORIA      PRAIA DO CANTO  30 a 39 anos   \n",
       "2   Descartados  Ignorado       SERRA  CONJUNTO JACARAÍPE  40 a 49 anos   \n",
       "3   Descartados  Ignorado  ITAPEMIRIM            GARRAFÃO  40 a 49 anos   \n",
       "4      Suspeito         -   GUARAPARI             JABARAÍ  40 a 49 anos   \n",
       "5      Suspeito         -  VILA VELHA     SAGRADA FAMÍLIA  10 a 19 anos   \n",
       "6      Suspeito  Ignorado      APIACA            SANTA FÉ  10 a 19 anos   \n",
       "7      Suspeito         -     ARACRUZ      Não Encontrado  20 a 29 anos   \n",
       "8      Suspeito  Ignorado      PANCAS           VILA NOVA  20 a 29 anos   \n",
       "9      Suspeito         -     ARACRUZ              FÁTIMA  10 a 19 anos   \n",
       "\n",
       "       IdadeNaDataNotificacao Sexo   RacaCor  \\\n",
       "0    73 anos, 1 meses, 6 dias    F     Parda   \n",
       "1   39 anos, 7 meses, 22 dias    M     Parda   \n",
       "2   41 anos, 1 meses, 25 dias    F  Ignorado   \n",
       "3    40 anos, 5 meses, 1 dias    F     Preta   \n",
       "4    42 anos, 3 meses, 8 dias    M     Parda   \n",
       "5  16 anos, 11 meses, 17 dias    M     Parda   \n",
       "6   15 anos, 6 meses, 17 dias    F     Parda   \n",
       "7    22 anos, 7 meses, 6 dias    M  Ignorado   \n",
       "8    21 anos, 5 meses, 6 dias    F     Preta   \n",
       "9   17 anos, 0 meses, 27 dias    F  Ignorado   \n",
       "\n",
       "                                        Escolaridade dataNotificacao  ...  \\\n",
       "0  Ensino médio completo (antigo colegial ou 2º g...      2021-10-23  ...   \n",
       "1                         Educação superior completa      2021-10-23  ...   \n",
       "2                                           Ignorado      2021-10-23  ...   \n",
       "3  1ª a 4ª série incompleta do EF (antigo primári...      2021-10-23  ...   \n",
       "4  Ensino médio completo (antigo colegial ou 2º g...      2021-10-23  ...   \n",
       "5  5ª à 8ª série incompleta do EF (antigo ginásio...      2021-10-23  ...   \n",
       "6  5ª à 8ª série incompleta do EF (antigo ginásio...      2021-10-23  ...   \n",
       "7                      Educação superior incompleta       2021-10-23  ...   \n",
       "8                      Educação superior incompleta       2021-10-23  ...   \n",
       "9  5ª à 8ª série incompleta do EF (antigo ginásio...      2021-10-23  ...   \n",
       "\n",
       "  comorbidadeRenal comorbidadeDiabetes comorbidadeTabagismo  \\\n",
       "0              0.0                 0.0                  0.0   \n",
       "1              0.0                 0.0                  0.0   \n",
       "2              0.0                 0.0                  0.0   \n",
       "3              0.0                 0.0                  0.0   \n",
       "4              0.0                 0.0                  0.0   \n",
       "5              0.0                 0.0                  0.0   \n",
       "6              0.0                 0.0                  0.0   \n",
       "7              0.0                 0.0                  0.0   \n",
       "8              0.0                 0.0                  0.0   \n",
       "9              0.0                 0.0                  0.0   \n",
       "\n",
       "   comorbidadeObesidade  sexo  classificacao  evolucao   escolaridade  \\\n",
       "0                   0.0     0              2          3            -1   \n",
       "1                   0.0     1              2          3             1   \n",
       "2                   0.0     0              0          4            10   \n",
       "3                   0.0     0              0          4             5   \n",
       "4                   0.0     1              2          3            -1   \n",
       "5                   0.0     1              2          3             2   \n",
       "6                   0.0     0              2          4             2   \n",
       "7                   0.0     1              2          3            -1   \n",
       "8                   0.0     0              2          4            -1   \n",
       "9                   0.0     0              2          3             2   \n",
       "\n",
       "   raca_cor  idade  \n",
       "0         0     73  \n",
       "1         0     39  \n",
       "2        -1     41  \n",
       "3         3     40  \n",
       "4         0     42  \n",
       "5         0     16  \n",
       "6         0     15  \n",
       "7        -1     22  \n",
       "8         3     21  \n",
       "9        -1     17  \n",
       "\n",
       "[10 rows x 32 columns]"
      ]
     },
     "execution_count": 38,
     "metadata": {},
     "output_type": "execute_result"
    }
   ],
   "source": [
    "CovidES.head(10)"
   ]
  },
  {
   "cell_type": "code",
   "execution_count": 71,
   "id": "49c11a18",
   "metadata": {},
   "outputs": [
    {
     "name": "stdout",
     "output_type": "stream",
     "text": [
      "<class 'pandas.core.frame.DataFrame'>\n",
      "Int64Index: 594534 entries, 886 to 2149761\n",
      "Data columns (total 32 columns):\n",
      " #   Column                     Non-Null Count   Dtype         \n",
      "---  ------                     --------------   -----         \n",
      " 0   Classificacao              594534 non-null  object        \n",
      " 1   Evolucao                   594534 non-null  object        \n",
      " 2   Municipio                  594534 non-null  object        \n",
      " 3   Bairro                     592937 non-null  object        \n",
      " 4   FaixaEtaria                594534 non-null  object        \n",
      " 5   IdadeNaDataNotificacao     594534 non-null  object        \n",
      " 6   Sexo                       594534 non-null  object        \n",
      " 7   RacaCor                    594534 non-null  object        \n",
      " 8   Escolaridade               594534 non-null  object        \n",
      " 9   dataNotificacao            594534 non-null  datetime64[ns]\n",
      " 10  dataCadastro               594534 non-null  datetime64[ns]\n",
      " 11  dataDiagnostico            594534 non-null  datetime64[ns]\n",
      " 12  dataObito                  13074 non-null   datetime64[ns]\n",
      " 13  Febre_n                    593402 non-null  float64       \n",
      " 14  Tosse_n                    593417 non-null  float64       \n",
      " 15  Coriza_n                   593410 non-null  float64       \n",
      " 16  DorGarganta_n              593390 non-null  float64       \n",
      " 17  Diarreia_n                 593411 non-null  float64       \n",
      " 18  Cefaleia_n                 593388 non-null  float64       \n",
      " 19  DificuldadeRespiratoria_n  593436 non-null  float64       \n",
      " 20  comorbidadePulmao          593297 non-null  float64       \n",
      " 21  comorbidadeCardio          593323 non-null  float64       \n",
      " 22  comorbidadeRenal           593355 non-null  float64       \n",
      " 23  comorbidadeDiabetes        593310 non-null  float64       \n",
      " 24  comorbidadeTabagismo       593322 non-null  float64       \n",
      " 25  comorbidadeObesidade       593115 non-null  float64       \n",
      " 26  sexo                       594534 non-null  int64         \n",
      " 27  classificacao              594534 non-null  int64         \n",
      " 28  evolucao                   594534 non-null  int64         \n",
      " 29  escolaridade               594534 non-null  int64         \n",
      " 30  raca_cor                   594534 non-null  int64         \n",
      " 31  idade                      594534 non-null  int64         \n",
      "dtypes: datetime64[ns](4), float64(13), int64(6), object(9)\n",
      "memory usage: 149.7+ MB\n"
     ]
    }
   ],
   "source": [
    "#por interesses proprios resolvi guardar algumas colunas que poderiam ter sido eliminadas\n",
    "CovidES.info()"
   ]
  },
  {
   "cell_type": "markdown",
   "id": "f30e7918",
   "metadata": {},
   "source": [
    "# Explorando dados "
   ]
  },
  {
   "cell_type": "code",
   "execution_count": 72,
   "id": "0feff476",
   "metadata": {},
   "outputs": [],
   "source": [
    "correlacao = CovidES.corr()"
   ]
  },
  {
   "cell_type": "code",
   "execution_count": 73,
   "id": "180c7cc4",
   "metadata": {},
   "outputs": [
    {
     "data": {
      "text/plain": [
       "<AxesSubplot:>"
      ]
     },
     "execution_count": 73,
     "metadata": {},
     "output_type": "execute_result"
    },
    {
     "data": {
      "image/png": "[encoded data removed]",
      "text/plain": [
       "<Figure size 1008x576 with 2 Axes>"
      ]
     },
     "metadata": {
      "needs_background": "light"
     },
     "output_type": "display_data"
    }
   ],
   "source": [
    "plt.figure(figsize=(14,8))\n",
    "plot = sns.heatmap(correlacao, annot = True, fmt=\".1f\", linewidths=.6)\n",
    "plot"
   ]
  },
  {
   "cell_type": "code",
   "execution_count": 41,
   "id": "6238398e",
   "metadata": {},
   "outputs": [],
   "source": [
    "#confirmados por data\n",
    "#sns.distplot(x=CovidES['dataNotificacao'],y=CovidES[CovidES['Classificacao']=='Confirmados'])\n",
    "#sns.displot(x=CovidES['dataNotificacao'].unique(),y=CovidES[CovidES['Classificacao']=='Confirmados'],stat='count')"
   ]
  },
  {
   "cell_type": "code",
   "execution_count": 58,
   "id": "0dd94ac8",
   "metadata": {},
   "outputs": [
    {
     "data": {
      "text/plain": [
       "<AxesSubplot:xlabel='Classificacao', ylabel='count'>"
      ]
     },
     "execution_count": 58,
     "metadata": {},
     "output_type": "execute_result"
    },
    {
     "data": {
      "image/png": "[encoded data removed]",
      "text/plain": [
       "<Figure size 432x288 with 1 Axes>"
      ]
     },
     "metadata": {
      "needs_background": "light"
     },
     "output_type": "display_data"
    }
   ],
   "source": [
    "#dados de Classificação\n",
    "sns.countplot(x='Classificacao',data=CovidES)"
   ]
  },
  {
   "cell_type": "code",
   "execution_count": 86,
   "id": "829f24a0",
   "metadata": {},
   "outputs": [
    {
     "data": {
      "text/plain": [
       "<AxesSubplot:xlabel='Evolucao', ylabel='count'>"
      ]
     },
     "execution_count": 86,
     "metadata": {},
     "output_type": "execute_result"
    },
    {
     "data": {
      "image/png": "[encoded data removed]",
      "text/plain": [
       "<Figure size 864x576 with 1 Axes>"
      ]
     },
     "metadata": {
      "needs_background": "light"
     },
     "output_type": "display_data"
    }
   ],
   "source": [
    "#Evolução\n",
    "plt.figure(figsize=(12,8))\n",
    "sns.countplot(x=CovidES['Evolucao'],data=CovidES)\n"
   ]
  },
  {
   "cell_type": "code",
   "execution_count": 74,
   "id": "2f535df1",
   "metadata": {},
   "outputs": [
    {
     "data": {
      "text/plain": [
       "<AxesSubplot:xlabel='RacaCor', ylabel='count'>"
      ]
     },
     "execution_count": 74,
     "metadata": {},
     "output_type": "execute_result"
    },
    {
     "data": {
      "image/png": "[encoded data removed]",
      "text/plain": [
       "<Figure size 864x576 with 1 Axes>"
      ]
     },
     "metadata": {
      "needs_background": "light"
     },
     "output_type": "display_data"
    }
   ],
   "source": [
    "#Raça\n",
    "plt.figure(figsize=(12,8))\n",
    "sns.countplot(x=CovidES['RacaCor'],data=CovidES)"
   ]
  },
  {
   "cell_type": "code",
   "execution_count": 76,
   "id": "db47ba6f",
   "metadata": {},
   "outputs": [
    {
     "data": {
      "text/plain": [
       "<matplotlib.legend.Legend at 0x1b2a306e0a0>"
      ]
     },
     "execution_count": 76,
     "metadata": {},
     "output_type": "execute_result"
    },
    {
     "data": {
      "image/png": "[encoded data removed]",
      "text/plain": [
       "<Figure size 864x576 with 1 Axes>"
      ]
     },
     "metadata": {
      "needs_background": "light"
     },
     "output_type": "display_data"
    }
   ],
   "source": [
    "#Escolaridade\n",
    "plt.figure(figsize=(12,8))\n",
    "sns.countplot(x=CovidES['Escolaridade'],data=CovidES)\n",
    "plt.legend(labels=CovidES['Escolaridade'].unique())"
   ]
  },
  {
   "cell_type": "code",
   "execution_count": 83,
   "id": "cfa4c700",
   "metadata": {},
   "outputs": [
    {
     "data": {
      "text/plain": [
       "<AxesSubplot:xlabel='evolucao ', ylabel='count'>"
      ]
     },
     "execution_count": 83,
     "metadata": {},
     "output_type": "execute_result"
    },
    {
     "data": {
      "image/png": "[encoded data removed]",
      "text/plain": [
       "<Figure size 432x288 with 1 Axes>"
      ]
     },
     "metadata": {
      "needs_background": "light"
     },
     "output_type": "display_data"
    }
   ],
   "source": [
    "#Sintomas - Coriza\n",
    "sns.countplot(x='evolucao ', data=CovidES)"
   ]
  },
  {
   "cell_type": "code",
   "execution_count": 85,
   "id": "5b30c3af",
   "metadata": {},
   "outputs": [
    {
     "data": {
      "text/plain": [
       "<AxesSubplot:xlabel='escolaridade', ylabel='count'>"
      ]
     },
     "execution_count": 85,
     "metadata": {},
     "output_type": "execute_result"
    },
    {
     "data": {
      "image/png": "[encoded data removed]",
      "text/plain": [
       "<Figure size 432x288 with 1 Axes>"
      ]
     },
     "metadata": {
      "needs_background": "light"
     },
     "output_type": "display_data"
    }
   ],
   "source": [
    "#Sintomas - Coriza\n",
    "sns.countplot(x='escolaridade', data=CovidES)"
   ]
  },
  {
   "cell_type": "code",
   "execution_count": 92,
   "id": "3a32613b",
   "metadata": {},
   "outputs": [
    {
     "ename": "AttributeError",
     "evalue": "'Series' object has no attribute 'count_value'",
     "output_type": "error",
     "traceback": [
      "\u001b[1;31m---------------------------------------------------------------------------\u001b[0m",
      "\u001b[1;31mAttributeError\u001b[0m                            Traceback (most recent call last)",
      "\u001b[1;32m<ipython-input-92-6461ff65c7ad>\u001b[0m in \u001b[0;36m<module>\u001b[1;34m\u001b[0m\n\u001b[1;32m----> 1\u001b[1;33m \u001b[0mCovidES\u001b[0m\u001b[1;33m[\u001b[0m\u001b[1;34m'Classificacao'\u001b[0m\u001b[1;33m]\u001b[0m\u001b[1;33m.\u001b[0m\u001b[0mcount_value\u001b[0m\u001b[1;33m(\u001b[0m\u001b[1;33m)\u001b[0m\u001b[1;33m\u001b[0m\u001b[1;33m\u001b[0m\u001b[0m\n\u001b[0m",
      "\u001b[1;32mC:\\ProgramData\\Anaconda3\\lib\\site-packages\\pandas\\core\\generic.py\u001b[0m in \u001b[0;36m__getattr__\u001b[1;34m(self, name)\u001b[0m\n\u001b[0;32m   5463\u001b[0m             \u001b[1;32mif\u001b[0m \u001b[0mself\u001b[0m\u001b[1;33m.\u001b[0m\u001b[0m_info_axis\u001b[0m\u001b[1;33m.\u001b[0m\u001b[0m_can_hold_identifiers_and_holds_name\u001b[0m\u001b[1;33m(\u001b[0m\u001b[0mname\u001b[0m\u001b[1;33m)\u001b[0m\u001b[1;33m:\u001b[0m\u001b[1;33m\u001b[0m\u001b[1;33m\u001b[0m\u001b[0m\n\u001b[0;32m   5464\u001b[0m                 \u001b[1;32mreturn\u001b[0m \u001b[0mself\u001b[0m\u001b[1;33m[\u001b[0m\u001b[0mname\u001b[0m\u001b[1;33m]\u001b[0m\u001b[1;33m\u001b[0m\u001b[1;33m\u001b[0m\u001b[0m\n\u001b[1;32m-> 5465\u001b[1;33m             \u001b[1;32mreturn\u001b[0m \u001b[0mobject\u001b[0m\u001b[1;33m.\u001b[0m\u001b[0m__getattribute__\u001b[0m\u001b[1;33m(\u001b[0m\u001b[0mself\u001b[0m\u001b[1;33m,\u001b[0m \u001b[0mname\u001b[0m\u001b[1;33m)\u001b[0m\u001b[1;33m\u001b[0m\u001b[1;33m\u001b[0m\u001b[0m\n\u001b[0m\u001b[0;32m   5466\u001b[0m \u001b[1;33m\u001b[0m\u001b[0m\n\u001b[0;32m   5467\u001b[0m     \u001b[1;32mdef\u001b[0m \u001b[0m__setattr__\u001b[0m\u001b[1;33m(\u001b[0m\u001b[0mself\u001b[0m\u001b[1;33m,\u001b[0m \u001b[0mname\u001b[0m\u001b[1;33m:\u001b[0m \u001b[0mstr\u001b[0m\u001b[1;33m,\u001b[0m \u001b[0mvalue\u001b[0m\u001b[1;33m)\u001b[0m \u001b[1;33m->\u001b[0m \u001b[1;32mNone\u001b[0m\u001b[1;33m:\u001b[0m\u001b[1;33m\u001b[0m\u001b[1;33m\u001b[0m\u001b[0m\n",
      "\u001b[1;31mAttributeError\u001b[0m: 'Series' object has no attribute 'count_value'"
     ]
    }
   ],
   "source": [
    "CovidES[CovidES['Classificacao'] == '']"
   ]
  },
  {
   "cell_type": "code",
   "execution_count": null,
   "id": "c6905a86",
   "metadata": {},
   "outputs": [],
   "source": []
  },
  {
   "cell_type": "code",
   "execution_count": null,
   "id": "32d20931",
   "metadata": {},
   "outputs": [],
   "source": []
  },
  {
   "cell_type": "code",
   "execution_count": null,
   "id": "393f8ae2",
   "metadata": {},
   "outputs": [],
   "source": []
  },
  {
   "cell_type": "code",
   "execution_count": null,
   "id": "c387e926",
   "metadata": {},
   "outputs": [],
   "source": []
  },
  {
   "cell_type": "code",
   "execution_count": null,
   "id": "4a61e087",
   "metadata": {},
   "outputs": [],
   "source": []
  },
  {
   "cell_type": "code",
   "execution_count": null,
   "id": "766e446d",
   "metadata": {},
   "outputs": [],
   "source": []
  },
  {
   "cell_type": "code",
   "execution_count": null,
   "id": "9a555935",
   "metadata": {},
   "outputs": [],
   "source": []
  },
  {
   "cell_type": "code",
   "execution_count": null,
   "id": "5f89806b",
   "metadata": {},
   "outputs": [],
   "source": []
  },
  {
   "cell_type": "code",
   "execution_count": 93,
   "id": "e80be7ea",
   "metadata": {},
   "outputs": [
    {
     "data": {
      "text/plain": [
       "Index(['Classificacao', 'Evolucao', 'Municipio', 'Bairro', 'FaixaEtaria',\n",
       "       'IdadeNaDataNotificacao', 'Sexo', 'RacaCor', 'Escolaridade',\n",
       "       'dataNotificacao', 'dataCadastro', 'dataDiagnostico', 'dataObito',\n",
       "       'Febre_n', 'Tosse_n', 'Coriza_n', 'DorGarganta_n', 'Diarreia_n',\n",
       "       'Cefaleia_n', 'DificuldadeRespiratoria_n', 'comorbidadePulmao',\n",
       "       'comorbidadeCardio', 'comorbidadeRenal', 'comorbidadeDiabetes',\n",
       "       'comorbidadeTabagismo', 'comorbidadeObesidade', 'sexo', 'classificacao',\n",
       "       'evolucao ', 'escolaridade', 'raca_cor', 'idade'],\n",
       "      dtype='object')"
      ]
     },
     "execution_count": 93,
     "metadata": {},
     "output_type": "execute_result"
    }
   ],
   "source": [
    "CovidES.columns"
   ]
  },
  {
   "cell_type": "markdown",
   "id": "d0b4abe1",
   "metadata": {},
   "source": [
    "# Aplicando o modelo"
   ]
  },
  {
   "cell_type": "code",
   "execution_count": 226,
   "id": "29924024",
   "metadata": {},
   "outputs": [],
   "source": [
    "#criando um novo dataset com valores padronizados de classificação\n",
    "classifier_covid  = CovidES[CovidES['classificacao']==1]"
   ]
  },
  {
   "cell_type": "code",
   "execution_count": 227,
   "id": "07915cf9",
   "metadata": {},
   "outputs": [],
   "source": [
    "#adicionando o mesmo numero de confirmados de forma aleatoria\n",
    "classifier_covid = classifier_covid.append(CovidES[CovidES['classificacao'] == 0].sample(n=2736))"
   ]
  },
  {
   "cell_type": "code",
   "execution_count": 228,
   "id": "c42129f3",
   "metadata": {},
   "outputs": [
    {
     "data": {
      "text/plain": [
       "0    2736\n",
       "1    2736\n",
       "Name: classificacao, dtype: int64"
      ]
     },
     "execution_count": 228,
     "metadata": {},
     "output_type": "execute_result"
    }
   ],
   "source": [
    "#validando os valores\n",
    "classifier_covid['classificacao'].value_counts()"
   ]
  },
  {
   "cell_type": "code",
   "execution_count": null,
   "id": "38478390",
   "metadata": {},
   "outputs": [],
   "source": []
  },
  {
   "cell_type": "code",
   "execution_count": 104,
   "id": "61a7041c",
   "metadata": {},
   "outputs": [
    {
     "data": {
      "text/plain": [
       "Index(['Classificacao', 'Evolucao', 'Municipio', 'Bairro', 'FaixaEtaria',\n",
       "       'IdadeNaDataNotificacao', 'Sexo', 'RacaCor', 'Escolaridade',\n",
       "       'dataNotificacao', 'dataCadastro', 'dataDiagnostico', 'dataObito',\n",
       "       'Febre_n', 'Tosse_n', 'Coriza_n', 'DorGarganta_n', 'Diarreia_n',\n",
       "       'Cefaleia_n', 'DificuldadeRespiratoria_n', 'comorbidadePulmao',\n",
       "       'comorbidadeCardio', 'comorbidadeRenal', 'comorbidadeDiabetes',\n",
       "       'comorbidadeTabagismo', 'comorbidadeObesidade', 'sexo', 'classificacao',\n",
       "       'evolucao ', 'escolaridade', 'raca_cor', 'idade'],\n",
       "      dtype='object')"
      ]
     },
     "execution_count": 104,
     "metadata": {},
     "output_type": "execute_result"
    }
   ],
   "source": [
    "classifier_covid.columns"
   ]
  },
  {
   "cell_type": "code",
   "execution_count": 229,
   "id": "4d83af9f",
   "metadata": {},
   "outputs": [],
   "source": [
    "#removendo colunas que nao serão utilizadas\n",
    "classifier_covid.drop(columns=['Classificacao', 'Evolucao', 'Municipio', 'Bairro', 'FaixaEtaria','IdadeNaDataNotificacao', 'Sexo', 'RacaCor', 'Escolaridade'],inplace=True)"
   ]
  },
  {
   "cell_type": "code",
   "execution_count": 230,
   "id": "e02f4929",
   "metadata": {},
   "outputs": [],
   "source": [
    "#excluindo outras colunas que nao serao utilizadas no modelo\n",
    "classifier_covid.drop(columns=['evolucao ','dataObito','dataDiagnostico','dataCadastro','dataNotificacao','escolaridade','raca_cor'],inplace=True)"
   ]
  },
  {
   "cell_type": "code",
   "execution_count": 231,
   "id": "bfd4248b",
   "metadata": {},
   "outputs": [],
   "source": [
    "#removendo valores nulos\n",
    "classifier_covid.dropna(inplace=True)"
   ]
  },
  {
   "cell_type": "code",
   "execution_count": 232,
   "id": "020f3845",
   "metadata": {},
   "outputs": [
    {
     "data": {
      "text/html": [
       "<div>\n",
       "<style scoped>\n",
       "    .dataframe tbody tr th:only-of-type {\n",
       "        vertical-align: middle;\n",
       "    }\n",
       "\n",
       "    .dataframe tbody tr th {\n",
       "        vertical-align: top;\n",
       "    }\n",
       "\n",
       "    .dataframe thead th {\n",
       "        text-align: right;\n",
       "    }\n",
       "</style>\n",
       "<table border=\"1\" class=\"dataframe\">\n",
       "  <thead>\n",
       "    <tr style=\"text-align: right;\">\n",
       "      <th></th>\n",
       "      <th>Febre_n</th>\n",
       "      <th>Tosse_n</th>\n",
       "      <th>Coriza_n</th>\n",
       "      <th>DorGarganta_n</th>\n",
       "      <th>Diarreia_n</th>\n",
       "      <th>Cefaleia_n</th>\n",
       "      <th>DificuldadeRespiratoria_n</th>\n",
       "      <th>comorbidadePulmao</th>\n",
       "      <th>comorbidadeCardio</th>\n",
       "      <th>comorbidadeRenal</th>\n",
       "      <th>comorbidadeDiabetes</th>\n",
       "      <th>comorbidadeTabagismo</th>\n",
       "      <th>comorbidadeObesidade</th>\n",
       "      <th>sexo</th>\n",
       "      <th>classificacao</th>\n",
       "      <th>idade</th>\n",
       "    </tr>\n",
       "  </thead>\n",
       "  <tbody>\n",
       "    <tr>\n",
       "      <th>1875</th>\n",
       "      <td>0.0</td>\n",
       "      <td>0.0</td>\n",
       "      <td>0.0</td>\n",
       "      <td>0.0</td>\n",
       "      <td>0.0</td>\n",
       "      <td>0.0</td>\n",
       "      <td>0.0</td>\n",
       "      <td>0.0</td>\n",
       "      <td>0.0</td>\n",
       "      <td>0.0</td>\n",
       "      <td>0.0</td>\n",
       "      <td>0.0</td>\n",
       "      <td>0.0</td>\n",
       "      <td>0</td>\n",
       "      <td>1</td>\n",
       "      <td>11</td>\n",
       "    </tr>\n",
       "    <tr>\n",
       "      <th>1959</th>\n",
       "      <td>0.0</td>\n",
       "      <td>0.0</td>\n",
       "      <td>0.0</td>\n",
       "      <td>0.0</td>\n",
       "      <td>0.0</td>\n",
       "      <td>0.0</td>\n",
       "      <td>0.0</td>\n",
       "      <td>0.0</td>\n",
       "      <td>0.0</td>\n",
       "      <td>0.0</td>\n",
       "      <td>0.0</td>\n",
       "      <td>0.0</td>\n",
       "      <td>0.0</td>\n",
       "      <td>1</td>\n",
       "      <td>1</td>\n",
       "      <td>11</td>\n",
       "    </tr>\n",
       "    <tr>\n",
       "      <th>2109</th>\n",
       "      <td>0.0</td>\n",
       "      <td>0.0</td>\n",
       "      <td>0.0</td>\n",
       "      <td>0.0</td>\n",
       "      <td>0.0</td>\n",
       "      <td>0.0</td>\n",
       "      <td>0.0</td>\n",
       "      <td>0.0</td>\n",
       "      <td>0.0</td>\n",
       "      <td>0.0</td>\n",
       "      <td>0.0</td>\n",
       "      <td>0.0</td>\n",
       "      <td>0.0</td>\n",
       "      <td>0</td>\n",
       "      <td>1</td>\n",
       "      <td>10</td>\n",
       "    </tr>\n",
       "    <tr>\n",
       "      <th>2219</th>\n",
       "      <td>0.0</td>\n",
       "      <td>0.0</td>\n",
       "      <td>0.0</td>\n",
       "      <td>0.0</td>\n",
       "      <td>0.0</td>\n",
       "      <td>0.0</td>\n",
       "      <td>0.0</td>\n",
       "      <td>0.0</td>\n",
       "      <td>0.0</td>\n",
       "      <td>0.0</td>\n",
       "      <td>0.0</td>\n",
       "      <td>0.0</td>\n",
       "      <td>0.0</td>\n",
       "      <td>1</td>\n",
       "      <td>1</td>\n",
       "      <td>12</td>\n",
       "    </tr>\n",
       "    <tr>\n",
       "      <th>2896</th>\n",
       "      <td>0.0</td>\n",
       "      <td>0.0</td>\n",
       "      <td>0.0</td>\n",
       "      <td>0.0</td>\n",
       "      <td>0.0</td>\n",
       "      <td>0.0</td>\n",
       "      <td>0.0</td>\n",
       "      <td>0.0</td>\n",
       "      <td>0.0</td>\n",
       "      <td>0.0</td>\n",
       "      <td>0.0</td>\n",
       "      <td>0.0</td>\n",
       "      <td>0.0</td>\n",
       "      <td>0</td>\n",
       "      <td>1</td>\n",
       "      <td>10</td>\n",
       "    </tr>\n",
       "    <tr>\n",
       "      <th>...</th>\n",
       "      <td>...</td>\n",
       "      <td>...</td>\n",
       "      <td>...</td>\n",
       "      <td>...</td>\n",
       "      <td>...</td>\n",
       "      <td>...</td>\n",
       "      <td>...</td>\n",
       "      <td>...</td>\n",
       "      <td>...</td>\n",
       "      <td>...</td>\n",
       "      <td>...</td>\n",
       "      <td>...</td>\n",
       "      <td>...</td>\n",
       "      <td>...</td>\n",
       "      <td>...</td>\n",
       "      <td>...</td>\n",
       "    </tr>\n",
       "    <tr>\n",
       "      <th>2094228</th>\n",
       "      <td>0.0</td>\n",
       "      <td>0.0</td>\n",
       "      <td>1.0</td>\n",
       "      <td>0.0</td>\n",
       "      <td>0.0</td>\n",
       "      <td>1.0</td>\n",
       "      <td>0.0</td>\n",
       "      <td>0.0</td>\n",
       "      <td>0.0</td>\n",
       "      <td>0.0</td>\n",
       "      <td>0.0</td>\n",
       "      <td>0.0</td>\n",
       "      <td>0.0</td>\n",
       "      <td>0</td>\n",
       "      <td>0</td>\n",
       "      <td>41</td>\n",
       "    </tr>\n",
       "    <tr>\n",
       "      <th>1358652</th>\n",
       "      <td>0.0</td>\n",
       "      <td>0.0</td>\n",
       "      <td>1.0</td>\n",
       "      <td>0.0</td>\n",
       "      <td>0.0</td>\n",
       "      <td>0.0</td>\n",
       "      <td>0.0</td>\n",
       "      <td>0.0</td>\n",
       "      <td>0.0</td>\n",
       "      <td>0.0</td>\n",
       "      <td>0.0</td>\n",
       "      <td>0.0</td>\n",
       "      <td>0.0</td>\n",
       "      <td>0</td>\n",
       "      <td>0</td>\n",
       "      <td>25</td>\n",
       "    </tr>\n",
       "    <tr>\n",
       "      <th>176772</th>\n",
       "      <td>0.0</td>\n",
       "      <td>0.0</td>\n",
       "      <td>0.0</td>\n",
       "      <td>0.0</td>\n",
       "      <td>0.0</td>\n",
       "      <td>0.0</td>\n",
       "      <td>0.0</td>\n",
       "      <td>0.0</td>\n",
       "      <td>0.0</td>\n",
       "      <td>0.0</td>\n",
       "      <td>0.0</td>\n",
       "      <td>0.0</td>\n",
       "      <td>0.0</td>\n",
       "      <td>0</td>\n",
       "      <td>0</td>\n",
       "      <td>83</td>\n",
       "    </tr>\n",
       "    <tr>\n",
       "      <th>836204</th>\n",
       "      <td>1.0</td>\n",
       "      <td>0.0</td>\n",
       "      <td>1.0</td>\n",
       "      <td>0.0</td>\n",
       "      <td>0.0</td>\n",
       "      <td>0.0</td>\n",
       "      <td>0.0</td>\n",
       "      <td>0.0</td>\n",
       "      <td>1.0</td>\n",
       "      <td>0.0</td>\n",
       "      <td>1.0</td>\n",
       "      <td>0.0</td>\n",
       "      <td>1.0</td>\n",
       "      <td>1</td>\n",
       "      <td>0</td>\n",
       "      <td>52</td>\n",
       "    </tr>\n",
       "    <tr>\n",
       "      <th>1186534</th>\n",
       "      <td>0.0</td>\n",
       "      <td>1.0</td>\n",
       "      <td>1.0</td>\n",
       "      <td>0.0</td>\n",
       "      <td>0.0</td>\n",
       "      <td>0.0</td>\n",
       "      <td>0.0</td>\n",
       "      <td>0.0</td>\n",
       "      <td>0.0</td>\n",
       "      <td>0.0</td>\n",
       "      <td>0.0</td>\n",
       "      <td>0.0</td>\n",
       "      <td>0.0</td>\n",
       "      <td>1</td>\n",
       "      <td>0</td>\n",
       "      <td>21</td>\n",
       "    </tr>\n",
       "  </tbody>\n",
       "</table>\n",
       "<p>5466 rows × 16 columns</p>\n",
       "</div>"
      ],
      "text/plain": [
       "         Febre_n  Tosse_n  Coriza_n  DorGarganta_n  Diarreia_n  Cefaleia_n  \\\n",
       "1875         0.0      0.0       0.0            0.0         0.0         0.0   \n",
       "1959         0.0      0.0       0.0            0.0         0.0         0.0   \n",
       "2109         0.0      0.0       0.0            0.0         0.0         0.0   \n",
       "2219         0.0      0.0       0.0            0.0         0.0         0.0   \n",
       "2896         0.0      0.0       0.0            0.0         0.0         0.0   \n",
       "...          ...      ...       ...            ...         ...         ...   \n",
       "2094228      0.0      0.0       1.0            0.0         0.0         1.0   \n",
       "1358652      0.0      0.0       1.0            0.0         0.0         0.0   \n",
       "176772       0.0      0.0       0.0            0.0         0.0         0.0   \n",
       "836204       1.0      0.0       1.0            0.0         0.0         0.0   \n",
       "1186534      0.0      1.0       1.0            0.0         0.0         0.0   \n",
       "\n",
       "         DificuldadeRespiratoria_n  comorbidadePulmao  comorbidadeCardio  \\\n",
       "1875                           0.0                0.0                0.0   \n",
       "1959                           0.0                0.0                0.0   \n",
       "2109                           0.0                0.0                0.0   \n",
       "2219                           0.0                0.0                0.0   \n",
       "2896                           0.0                0.0                0.0   \n",
       "...                            ...                ...                ...   \n",
       "2094228                        0.0                0.0                0.0   \n",
       "1358652                        0.0                0.0                0.0   \n",
       "176772                         0.0                0.0                0.0   \n",
       "836204                         0.0                0.0                1.0   \n",
       "1186534                        0.0                0.0                0.0   \n",
       "\n",
       "         comorbidadeRenal  comorbidadeDiabetes  comorbidadeTabagismo  \\\n",
       "1875                  0.0                  0.0                   0.0   \n",
       "1959                  0.0                  0.0                   0.0   \n",
       "2109                  0.0                  0.0                   0.0   \n",
       "2219                  0.0                  0.0                   0.0   \n",
       "2896                  0.0                  0.0                   0.0   \n",
       "...                   ...                  ...                   ...   \n",
       "2094228               0.0                  0.0                   0.0   \n",
       "1358652               0.0                  0.0                   0.0   \n",
       "176772                0.0                  0.0                   0.0   \n",
       "836204                0.0                  1.0                   0.0   \n",
       "1186534               0.0                  0.0                   0.0   \n",
       "\n",
       "         comorbidadeObesidade  sexo  classificacao  idade  \n",
       "1875                      0.0     0              1     11  \n",
       "1959                      0.0     1              1     11  \n",
       "2109                      0.0     0              1     10  \n",
       "2219                      0.0     1              1     12  \n",
       "2896                      0.0     0              1     10  \n",
       "...                       ...   ...            ...    ...  \n",
       "2094228                   0.0     0              0     41  \n",
       "1358652                   0.0     0              0     25  \n",
       "176772                    0.0     0              0     83  \n",
       "836204                    1.0     1              0     52  \n",
       "1186534                   0.0     1              0     21  \n",
       "\n",
       "[5466 rows x 16 columns]"
      ]
     },
     "execution_count": 232,
     "metadata": {},
     "output_type": "execute_result"
    }
   ],
   "source": [
    "classifier_covid"
   ]
  },
  {
   "cell_type": "code",
   "execution_count": 212,
   "id": "cd3c189c",
   "metadata": {},
   "outputs": [],
   "source": [
    "#importando o train test split - Cria as bases de teste e treino do modelo\n",
    "from sklearn.model_selection import train_test_split"
   ]
  },
  {
   "cell_type": "code",
   "execution_count": 260,
   "id": "1cf69431",
   "metadata": {},
   "outputs": [],
   "source": [
    "#criando as variaveis que receberão os valores de treino e test\n",
    "x_train,x_test,y_train,y_test = train_test_split(classifier_covid.drop(columns=['classificacao']),classifier_covid['classificacao'],test_size=0.2,random_state=42)"
   ]
  },
  {
   "cell_type": "code",
   "execution_count": 261,
   "id": "e0e47061",
   "metadata": {},
   "outputs": [
    {
     "data": {
      "text/html": [
       "<div>\n",
       "<style scoped>\n",
       "    .dataframe tbody tr th:only-of-type {\n",
       "        vertical-align: middle;\n",
       "    }\n",
       "\n",
       "    .dataframe tbody tr th {\n",
       "        vertical-align: top;\n",
       "    }\n",
       "\n",
       "    .dataframe thead th {\n",
       "        text-align: right;\n",
       "    }\n",
       "</style>\n",
       "<table border=\"1\" class=\"dataframe\">\n",
       "  <thead>\n",
       "    <tr style=\"text-align: right;\">\n",
       "      <th></th>\n",
       "      <th>Febre_n</th>\n",
       "      <th>Tosse_n</th>\n",
       "      <th>Coriza_n</th>\n",
       "      <th>DorGarganta_n</th>\n",
       "      <th>Diarreia_n</th>\n",
       "      <th>Cefaleia_n</th>\n",
       "      <th>DificuldadeRespiratoria_n</th>\n",
       "      <th>comorbidadePulmao</th>\n",
       "      <th>comorbidadeCardio</th>\n",
       "      <th>comorbidadeRenal</th>\n",
       "      <th>comorbidadeDiabetes</th>\n",
       "      <th>comorbidadeTabagismo</th>\n",
       "      <th>comorbidadeObesidade</th>\n",
       "      <th>sexo</th>\n",
       "      <th>idade</th>\n",
       "    </tr>\n",
       "  </thead>\n",
       "  <tbody>\n",
       "    <tr>\n",
       "      <th>2061114</th>\n",
       "      <td>0.0</td>\n",
       "      <td>0.0</td>\n",
       "      <td>0.0</td>\n",
       "      <td>0.0</td>\n",
       "      <td>0.0</td>\n",
       "      <td>0.0</td>\n",
       "      <td>0.0</td>\n",
       "      <td>0.0</td>\n",
       "      <td>0.0</td>\n",
       "      <td>0.0</td>\n",
       "      <td>0.0</td>\n",
       "      <td>0.0</td>\n",
       "      <td>0.0</td>\n",
       "      <td>1</td>\n",
       "      <td>18</td>\n",
       "    </tr>\n",
       "    <tr>\n",
       "      <th>963752</th>\n",
       "      <td>0.0</td>\n",
       "      <td>0.0</td>\n",
       "      <td>0.0</td>\n",
       "      <td>0.0</td>\n",
       "      <td>0.0</td>\n",
       "      <td>0.0</td>\n",
       "      <td>0.0</td>\n",
       "      <td>0.0</td>\n",
       "      <td>0.0</td>\n",
       "      <td>0.0</td>\n",
       "      <td>0.0</td>\n",
       "      <td>0.0</td>\n",
       "      <td>0.0</td>\n",
       "      <td>0</td>\n",
       "      <td>10</td>\n",
       "    </tr>\n",
       "    <tr>\n",
       "      <th>1856168</th>\n",
       "      <td>1.0</td>\n",
       "      <td>0.0</td>\n",
       "      <td>0.0</td>\n",
       "      <td>0.0</td>\n",
       "      <td>0.0</td>\n",
       "      <td>1.0</td>\n",
       "      <td>0.0</td>\n",
       "      <td>0.0</td>\n",
       "      <td>0.0</td>\n",
       "      <td>0.0</td>\n",
       "      <td>0.0</td>\n",
       "      <td>0.0</td>\n",
       "      <td>0.0</td>\n",
       "      <td>1</td>\n",
       "      <td>59</td>\n",
       "    </tr>\n",
       "    <tr>\n",
       "      <th>861884</th>\n",
       "      <td>0.0</td>\n",
       "      <td>0.0</td>\n",
       "      <td>0.0</td>\n",
       "      <td>1.0</td>\n",
       "      <td>1.0</td>\n",
       "      <td>1.0</td>\n",
       "      <td>0.0</td>\n",
       "      <td>0.0</td>\n",
       "      <td>0.0</td>\n",
       "      <td>0.0</td>\n",
       "      <td>0.0</td>\n",
       "      <td>0.0</td>\n",
       "      <td>0.0</td>\n",
       "      <td>0</td>\n",
       "      <td>49</td>\n",
       "    </tr>\n",
       "    <tr>\n",
       "      <th>875085</th>\n",
       "      <td>1.0</td>\n",
       "      <td>0.0</td>\n",
       "      <td>0.0</td>\n",
       "      <td>0.0</td>\n",
       "      <td>0.0</td>\n",
       "      <td>0.0</td>\n",
       "      <td>1.0</td>\n",
       "      <td>0.0</td>\n",
       "      <td>0.0</td>\n",
       "      <td>0.0</td>\n",
       "      <td>0.0</td>\n",
       "      <td>0.0</td>\n",
       "      <td>0.0</td>\n",
       "      <td>0</td>\n",
       "      <td>24</td>\n",
       "    </tr>\n",
       "    <tr>\n",
       "      <th>...</th>\n",
       "      <td>...</td>\n",
       "      <td>...</td>\n",
       "      <td>...</td>\n",
       "      <td>...</td>\n",
       "      <td>...</td>\n",
       "      <td>...</td>\n",
       "      <td>...</td>\n",
       "      <td>...</td>\n",
       "      <td>...</td>\n",
       "      <td>...</td>\n",
       "      <td>...</td>\n",
       "      <td>...</td>\n",
       "      <td>...</td>\n",
       "      <td>...</td>\n",
       "      <td>...</td>\n",
       "    </tr>\n",
       "    <tr>\n",
       "      <th>1478084</th>\n",
       "      <td>0.0</td>\n",
       "      <td>1.0</td>\n",
       "      <td>0.0</td>\n",
       "      <td>0.0</td>\n",
       "      <td>0.0</td>\n",
       "      <td>0.0</td>\n",
       "      <td>0.0</td>\n",
       "      <td>0.0</td>\n",
       "      <td>0.0</td>\n",
       "      <td>0.0</td>\n",
       "      <td>0.0</td>\n",
       "      <td>0.0</td>\n",
       "      <td>0.0</td>\n",
       "      <td>1</td>\n",
       "      <td>80</td>\n",
       "    </tr>\n",
       "    <tr>\n",
       "      <th>923587</th>\n",
       "      <td>0.0</td>\n",
       "      <td>1.0</td>\n",
       "      <td>1.0</td>\n",
       "      <td>0.0</td>\n",
       "      <td>0.0</td>\n",
       "      <td>1.0</td>\n",
       "      <td>0.0</td>\n",
       "      <td>0.0</td>\n",
       "      <td>0.0</td>\n",
       "      <td>0.0</td>\n",
       "      <td>0.0</td>\n",
       "      <td>0.0</td>\n",
       "      <td>0.0</td>\n",
       "      <td>0</td>\n",
       "      <td>31</td>\n",
       "    </tr>\n",
       "    <tr>\n",
       "      <th>728928</th>\n",
       "      <td>1.0</td>\n",
       "      <td>0.0</td>\n",
       "      <td>0.0</td>\n",
       "      <td>0.0</td>\n",
       "      <td>0.0</td>\n",
       "      <td>0.0</td>\n",
       "      <td>0.0</td>\n",
       "      <td>1.0</td>\n",
       "      <td>0.0</td>\n",
       "      <td>0.0</td>\n",
       "      <td>0.0</td>\n",
       "      <td>0.0</td>\n",
       "      <td>0.0</td>\n",
       "      <td>1</td>\n",
       "      <td>41</td>\n",
       "    </tr>\n",
       "    <tr>\n",
       "      <th>2049417</th>\n",
       "      <td>1.0</td>\n",
       "      <td>0.0</td>\n",
       "      <td>0.0</td>\n",
       "      <td>0.0</td>\n",
       "      <td>1.0</td>\n",
       "      <td>1.0</td>\n",
       "      <td>0.0</td>\n",
       "      <td>0.0</td>\n",
       "      <td>0.0</td>\n",
       "      <td>0.0</td>\n",
       "      <td>0.0</td>\n",
       "      <td>0.0</td>\n",
       "      <td>0.0</td>\n",
       "      <td>0</td>\n",
       "      <td>41</td>\n",
       "    </tr>\n",
       "    <tr>\n",
       "      <th>955169</th>\n",
       "      <td>1.0</td>\n",
       "      <td>1.0</td>\n",
       "      <td>1.0</td>\n",
       "      <td>0.0</td>\n",
       "      <td>0.0</td>\n",
       "      <td>0.0</td>\n",
       "      <td>1.0</td>\n",
       "      <td>0.0</td>\n",
       "      <td>0.0</td>\n",
       "      <td>0.0</td>\n",
       "      <td>0.0</td>\n",
       "      <td>0.0</td>\n",
       "      <td>0.0</td>\n",
       "      <td>1</td>\n",
       "      <td>3</td>\n",
       "    </tr>\n",
       "  </tbody>\n",
       "</table>\n",
       "<p>4372 rows × 15 columns</p>\n",
       "</div>"
      ],
      "text/plain": [
       "         Febre_n  Tosse_n  Coriza_n  DorGarganta_n  Diarreia_n  Cefaleia_n  \\\n",
       "2061114      0.0      0.0       0.0            0.0         0.0         0.0   \n",
       "963752       0.0      0.0       0.0            0.0         0.0         0.0   \n",
       "1856168      1.0      0.0       0.0            0.0         0.0         1.0   \n",
       "861884       0.0      0.0       0.0            1.0         1.0         1.0   \n",
       "875085       1.0      0.0       0.0            0.0         0.0         0.0   \n",
       "...          ...      ...       ...            ...         ...         ...   \n",
       "1478084      0.0      1.0       0.0            0.0         0.0         0.0   \n",
       "923587       0.0      1.0       1.0            0.0         0.0         1.0   \n",
       "728928       1.0      0.0       0.0            0.0         0.0         0.0   \n",
       "2049417      1.0      0.0       0.0            0.0         1.0         1.0   \n",
       "955169       1.0      1.0       1.0            0.0         0.0         0.0   \n",
       "\n",
       "         DificuldadeRespiratoria_n  comorbidadePulmao  comorbidadeCardio  \\\n",
       "2061114                        0.0                0.0                0.0   \n",
       "963752                         0.0                0.0                0.0   \n",
       "1856168                        0.0                0.0                0.0   \n",
       "861884                         0.0                0.0                0.0   \n",
       "875085                         1.0                0.0                0.0   \n",
       "...                            ...                ...                ...   \n",
       "1478084                        0.0                0.0                0.0   \n",
       "923587                         0.0                0.0                0.0   \n",
       "728928                         0.0                1.0                0.0   \n",
       "2049417                        0.0                0.0                0.0   \n",
       "955169                         1.0                0.0                0.0   \n",
       "\n",
       "         comorbidadeRenal  comorbidadeDiabetes  comorbidadeTabagismo  \\\n",
       "2061114               0.0                  0.0                   0.0   \n",
       "963752                0.0                  0.0                   0.0   \n",
       "1856168               0.0                  0.0                   0.0   \n",
       "861884                0.0                  0.0                   0.0   \n",
       "875085                0.0                  0.0                   0.0   \n",
       "...                   ...                  ...                   ...   \n",
       "1478084               0.0                  0.0                   0.0   \n",
       "923587                0.0                  0.0                   0.0   \n",
       "728928                0.0                  0.0                   0.0   \n",
       "2049417               0.0                  0.0                   0.0   \n",
       "955169                0.0                  0.0                   0.0   \n",
       "\n",
       "         comorbidadeObesidade  sexo  idade  \n",
       "2061114                   0.0     1     18  \n",
       "963752                    0.0     0     10  \n",
       "1856168                   0.0     1     59  \n",
       "861884                    0.0     0     49  \n",
       "875085                    0.0     0     24  \n",
       "...                       ...   ...    ...  \n",
       "1478084                   0.0     1     80  \n",
       "923587                    0.0     0     31  \n",
       "728928                    0.0     1     41  \n",
       "2049417                   0.0     0     41  \n",
       "955169                    0.0     1      3  \n",
       "\n",
       "[4372 rows x 15 columns]"
      ]
     },
     "execution_count": 261,
     "metadata": {},
     "output_type": "execute_result"
    }
   ],
   "source": [
    "x_train"
   ]
  },
  {
   "cell_type": "code",
   "execution_count": 253,
   "id": "165d4064",
   "metadata": {},
   "outputs": [],
   "source": [
    "#importando a biblioteca Naive Bayes Gaussiano\n",
    "from sklearn.naive_bayes import GaussianNB"
   ]
  },
  {
   "cell_type": "code",
   "execution_count": 254,
   "id": "aaed45fd",
   "metadata": {},
   "outputs": [],
   "source": [
    "#criando uma variavel para o modelo\n",
    "model = GaussianNB()"
   ]
  },
  {
   "cell_type": "code",
   "execution_count": 255,
   "id": "888c6332",
   "metadata": {},
   "outputs": [
    {
     "data": {
      "text/plain": [
       "GaussianNB()"
      ]
     },
     "execution_count": 255,
     "metadata": {},
     "output_type": "execute_result"
    }
   ],
   "source": [
    "#treinando o modelo\n",
    "model.fit(x_train,y_train)"
   ]
  },
  {
   "cell_type": "code",
   "execution_count": 256,
   "id": "1eaeb19b",
   "metadata": {},
   "outputs": [],
   "source": [
    "#prevendo os valores com o modelo\n",
    "predicted = model.predict(x_test)"
   ]
  },
  {
   "cell_type": "code",
   "execution_count": 257,
   "id": "94982608",
   "metadata": {},
   "outputs": [],
   "source": [
    "#analisando o desempenho do modelo\n",
    "from sklearn.metrics import classification_report, confusion_matrix, accuracy_score"
   ]
  },
  {
   "cell_type": "code",
   "execution_count": 258,
   "id": "3fd41f2c",
   "metadata": {},
   "outputs": [
    {
     "name": "stdout",
     "output_type": "stream",
     "text": [
      "              precision    recall  f1-score   support\n",
      "\n",
      "           0       0.64      0.57      0.60       278\n",
      "           1       0.60      0.67      0.63       269\n",
      "\n",
      "    accuracy                           0.62       547\n",
      "   macro avg       0.62      0.62      0.62       547\n",
      "weighted avg       0.62      0.62      0.62       547\n",
      "\n"
     ]
    }
   ],
   "source": [
    "# imprimindo o relatorio de classsificação\n",
    "print(classification_report(y_test,predicted))"
   ]
  },
  {
   "cell_type": "code",
   "execution_count": 259,
   "id": "a1a26f4e",
   "metadata": {},
   "outputs": [
    {
     "name": "stdout",
     "output_type": "stream",
     "text": [
      "0.6179159049360147\n"
     ]
    }
   ],
   "source": [
    "print(accuracy_score(y_test,predicted))"
   ]
  },
  {
   "cell_type": "code",
   "execution_count": 155,
   "id": "32883a20",
   "metadata": {},
   "outputs": [
    {
     "data": {
      "text/plain": [
       "1e-09"
      ]
     },
     "execution_count": 155,
     "metadata": {},
     "output_type": "execute_result"
    }
   ],
   "source": [
    "model.var_smoothing"
   ]
  },
  {
   "cell_type": "code",
   "execution_count": null,
   "id": "bedb7f27",
   "metadata": {},
   "outputs": [],
   "source": []
  }
 ],
 "metadata": {
  "kernelspec": {
   "display_name": "Python 3",
   "language": "python",
   "name": "python3"
  },
  "language_info": {
   "codemirror_mode": {
    "name": "ipython",
    "version": 3
   },
   "file_extension": ".py",
   "mimetype": "text/x-python",
   "name": "python",
   "nbconvert_exporter": "python",
   "pygments_lexer": "ipython3",
   "version": "3.8.8"
  }
 },
 "nbformat": 4,
 "nbformat_minor": 5
}
