{
 "cells": [
  {
   "cell_type": "code",
   "execution_count": 147,
   "id": "33075ca1",
   "metadata": {},
   "outputs": [],
   "source": [
    "#importando bibliotecas base do projeto\n",
    "import pandas as pd\n",
    "import numpy as np"
   ]
  },
  {
   "cell_type": "code",
   "execution_count": 148,
   "id": "ac22ee4f",
   "metadata": {},
   "outputs": [],
   "source": [
    "#bibliotecas de plotagem gráfica\n",
    "import seaborn as sns\n",
    "import matplotlib.pyplot as plt"
   ]
  },
  {
   "cell_type": "code",
   "execution_count": 149,
   "id": "9b5bbfee",
   "metadata": {},
   "outputs": [],
   "source": [
    "#importando o dataset do Espirito Santo\n",
    "CovidES = pd.read_csv('dadoscovidES/DadosCovidES_1.csv', sep=';',skip_blank_lines = True, encoding = \"latin-1\")"
   ]
  },
  {
   "cell_type": "code",
   "execution_count": 150,
   "id": "ea7d938e",
   "metadata": {},
   "outputs": [
    {
     "data": {
      "text/html": [
       "<div>\n",
       "<style scoped>\n",
       "    .dataframe tbody tr th:only-of-type {\n",
       "        vertical-align: middle;\n",
       "    }\n",
       "\n",
       "    .dataframe tbody tr th {\n",
       "        vertical-align: top;\n",
       "    }\n",
       "\n",
       "    .dataframe thead th {\n",
       "        text-align: right;\n",
       "    }\n",
       "</style>\n",
       "<table border=\"1\" class=\"dataframe\">\n",
       "  <thead>\n",
       "    <tr style=\"text-align: right;\">\n",
       "      <th></th>\n",
       "      <th>DataNotificacao</th>\n",
       "      <th>DataCadastro</th>\n",
       "      <th>DataDiagnostico</th>\n",
       "      <th>DataColeta_RT_PCR</th>\n",
       "      <th>DataColetaTesteRapido</th>\n",
       "      <th>DataColetaSorologia</th>\n",
       "      <th>DataColetaSorologiaIGG</th>\n",
       "      <th>DataEncerramento</th>\n",
       "      <th>DataObito</th>\n",
       "      <th>Classificacao</th>\n",
       "      <th>...</th>\n",
       "      <th>ViagemBrasil</th>\n",
       "      <th>ViagemInternacional</th>\n",
       "      <th>ProfissionalSaude</th>\n",
       "      <th>PossuiDeficiencia</th>\n",
       "      <th>MoradorDeRua</th>\n",
       "      <th>ResultadoRT_PCR</th>\n",
       "      <th>ResultadoTesteRapido</th>\n",
       "      <th>ResultadoSorologia</th>\n",
       "      <th>ResultadoSorologia_IGG</th>\n",
       "      <th>TipoTesteRapido</th>\n",
       "    </tr>\n",
       "  </thead>\n",
       "  <tbody>\n",
       "    <tr>\n",
       "      <th>count</th>\n",
       "      <td>3348699</td>\n",
       "      <td>3348699</td>\n",
       "      <td>3348699</td>\n",
       "      <td>1347254</td>\n",
       "      <td>1740604</td>\n",
       "      <td>98025</td>\n",
       "      <td>145533</td>\n",
       "      <td>2748653</td>\n",
       "      <td>19230</td>\n",
       "      <td>3348699</td>\n",
       "      <td>...</td>\n",
       "      <td>3348699</td>\n",
       "      <td>3348699</td>\n",
       "      <td>3348699</td>\n",
       "      <td>3348699</td>\n",
       "      <td>3348699</td>\n",
       "      <td>3348699</td>\n",
       "      <td>3348699</td>\n",
       "      <td>3348699</td>\n",
       "      <td>3348699</td>\n",
       "      <td>3348699</td>\n",
       "    </tr>\n",
       "    <tr>\n",
       "      <th>unique</th>\n",
       "      <td>728</td>\n",
       "      <td>698</td>\n",
       "      <td>789</td>\n",
       "      <td>833</td>\n",
       "      <td>844</td>\n",
       "      <td>713</td>\n",
       "      <td>731</td>\n",
       "      <td>778</td>\n",
       "      <td>700</td>\n",
       "      <td>4</td>\n",
       "      <td>...</td>\n",
       "      <td>4</td>\n",
       "      <td>4</td>\n",
       "      <td>4</td>\n",
       "      <td>3</td>\n",
       "      <td>3</td>\n",
       "      <td>4</td>\n",
       "      <td>4</td>\n",
       "      <td>4</td>\n",
       "      <td>4</td>\n",
       "      <td>4</td>\n",
       "    </tr>\n",
       "    <tr>\n",
       "      <th>top</th>\n",
       "      <td>2022-01-27</td>\n",
       "      <td>2022-01-27</td>\n",
       "      <td>2022-01-24</td>\n",
       "      <td>2021-03-22</td>\n",
       "      <td>2022-01-27</td>\n",
       "      <td>2020-07-20</td>\n",
       "      <td>2020-07-28</td>\n",
       "      <td>2022-02-10</td>\n",
       "      <td>2021-04-12</td>\n",
       "      <td>Descartados</td>\n",
       "      <td>...</td>\n",
       "      <td>Não Informado</td>\n",
       "      <td>Não Informado</td>\n",
       "      <td>Não</td>\n",
       "      <td>Não</td>\n",
       "      <td>Não</td>\n",
       "      <td>Não Informado</td>\n",
       "      <td>Não Informado</td>\n",
       "      <td>Não Informado</td>\n",
       "      <td>Não Informado</td>\n",
       "      <td>Não Informado</td>\n",
       "    </tr>\n",
       "    <tr>\n",
       "      <th>freq</th>\n",
       "      <td>41877</td>\n",
       "      <td>38310</td>\n",
       "      <td>40046</td>\n",
       "      <td>5273</td>\n",
       "      <td>38692</td>\n",
       "      <td>963</td>\n",
       "      <td>2718</td>\n",
       "      <td>26103</td>\n",
       "      <td>97</td>\n",
       "      <td>1814313</td>\n",
       "      <td>...</td>\n",
       "      <td>1655160</td>\n",
       "      <td>1865004</td>\n",
       "      <td>2803925</td>\n",
       "      <td>3277039</td>\n",
       "      <td>3297085</td>\n",
       "      <td>2103247</td>\n",
       "      <td>1619680</td>\n",
       "      <td>3251249</td>\n",
       "      <td>3203449</td>\n",
       "      <td>1764106</td>\n",
       "    </tr>\n",
       "  </tbody>\n",
       "</table>\n",
       "<p>4 rows × 45 columns</p>\n",
       "</div>"
      ],
      "text/plain": [
       "       DataNotificacao DataCadastro DataDiagnostico DataColeta_RT_PCR  \\\n",
       "count          3348699      3348699         3348699           1347254   \n",
       "unique             728          698             789               833   \n",
       "top         2022-01-27   2022-01-27      2022-01-24        2021-03-22   \n",
       "freq             41877        38310           40046              5273   \n",
       "\n",
       "       DataColetaTesteRapido DataColetaSorologia DataColetaSorologiaIGG  \\\n",
       "count                1740604               98025                 145533   \n",
       "unique                   844                 713                    731   \n",
       "top               2022-01-27          2020-07-20             2020-07-28   \n",
       "freq                   38692                 963                   2718   \n",
       "\n",
       "       DataEncerramento   DataObito Classificacao  ...   ViagemBrasil  \\\n",
       "count           2748653       19230       3348699  ...        3348699   \n",
       "unique              778         700             4  ...              4   \n",
       "top          2022-02-10  2021-04-12   Descartados  ...  Não Informado   \n",
       "freq              26103          97       1814313  ...        1655160   \n",
       "\n",
       "       ViagemInternacional ProfissionalSaude PossuiDeficiencia MoradorDeRua  \\\n",
       "count              3348699           3348699           3348699      3348699   \n",
       "unique                   4                 4                 3            3   \n",
       "top          Não Informado               Não               Não          Não   \n",
       "freq               1865004           2803925           3277039      3297085   \n",
       "\n",
       "       ResultadoRT_PCR ResultadoTesteRapido ResultadoSorologia  \\\n",
       "count          3348699              3348699            3348699   \n",
       "unique               4                    4                  4   \n",
       "top      Não Informado        Não Informado      Não Informado   \n",
       "freq           2103247              1619680            3251249   \n",
       "\n",
       "       ResultadoSorologia_IGG TipoTesteRapido  \n",
       "count                 3348699         3348699  \n",
       "unique                      4               4  \n",
       "top             Não Informado   Não Informado  \n",
       "freq                  3203449         1764106  \n",
       "\n",
       "[4 rows x 45 columns]"
      ]
     },
     "execution_count": 150,
     "metadata": {},
     "output_type": "execute_result"
    }
   ],
   "source": [
    "#Dados base\n",
    "CovidES.describe()"
   ]
  },
  {
   "cell_type": "code",
   "execution_count": 151,
   "id": "95affe6e",
   "metadata": {},
   "outputs": [
    {
     "data": {
      "text/html": [
       "<div>\n",
       "<style scoped>\n",
       "    .dataframe tbody tr th:only-of-type {\n",
       "        vertical-align: middle;\n",
       "    }\n",
       "\n",
       "    .dataframe tbody tr th {\n",
       "        vertical-align: top;\n",
       "    }\n",
       "\n",
       "    .dataframe thead th {\n",
       "        text-align: right;\n",
       "    }\n",
       "</style>\n",
       "<table border=\"1\" class=\"dataframe\">\n",
       "  <thead>\n",
       "    <tr style=\"text-align: right;\">\n",
       "      <th></th>\n",
       "      <th>DataNotificacao</th>\n",
       "      <th>DataCadastro</th>\n",
       "      <th>DataDiagnostico</th>\n",
       "      <th>DataColeta_RT_PCR</th>\n",
       "      <th>DataColetaTesteRapido</th>\n",
       "      <th>DataColetaSorologia</th>\n",
       "      <th>DataColetaSorologiaIGG</th>\n",
       "      <th>DataEncerramento</th>\n",
       "      <th>DataObito</th>\n",
       "      <th>Classificacao</th>\n",
       "      <th>...</th>\n",
       "      <th>ViagemBrasil</th>\n",
       "      <th>ViagemInternacional</th>\n",
       "      <th>ProfissionalSaude</th>\n",
       "      <th>PossuiDeficiencia</th>\n",
       "      <th>MoradorDeRua</th>\n",
       "      <th>ResultadoRT_PCR</th>\n",
       "      <th>ResultadoTesteRapido</th>\n",
       "      <th>ResultadoSorologia</th>\n",
       "      <th>ResultadoSorologia_IGG</th>\n",
       "      <th>TipoTesteRapido</th>\n",
       "    </tr>\n",
       "  </thead>\n",
       "  <tbody>\n",
       "    <tr>\n",
       "      <th>0</th>\n",
       "      <td>2022-02-22</td>\n",
       "      <td>2021-07-01</td>\n",
       "      <td>2022-02-20</td>\n",
       "      <td>NaN</td>\n",
       "      <td>2022-02-22</td>\n",
       "      <td>NaN</td>\n",
       "      <td>NaN</td>\n",
       "      <td>NaN</td>\n",
       "      <td>NaN</td>\n",
       "      <td>Confirmados</td>\n",
       "      <td>...</td>\n",
       "      <td>Não</td>\n",
       "      <td>Ignorado</td>\n",
       "      <td>Não</td>\n",
       "      <td>Não</td>\n",
       "      <td>Não</td>\n",
       "      <td>Não Informado</td>\n",
       "      <td>Positivo</td>\n",
       "      <td>Não Informado</td>\n",
       "      <td>Não Informado</td>\n",
       "      <td>Teste rápido Antígeno</td>\n",
       "    </tr>\n",
       "    <tr>\n",
       "      <th>1</th>\n",
       "      <td>2022-02-22</td>\n",
       "      <td>2021-07-26</td>\n",
       "      <td>2021-07-18</td>\n",
       "      <td>2022-02-22</td>\n",
       "      <td>2022-02-22</td>\n",
       "      <td>NaN</td>\n",
       "      <td>NaN</td>\n",
       "      <td>2021-07-31</td>\n",
       "      <td>NaN</td>\n",
       "      <td>Suspeito</td>\n",
       "      <td>...</td>\n",
       "      <td>Ignorado</td>\n",
       "      <td>Ignorado</td>\n",
       "      <td>Não</td>\n",
       "      <td>Não</td>\n",
       "      <td>Não</td>\n",
       "      <td>Não Informado</td>\n",
       "      <td>Negativo</td>\n",
       "      <td>Não Informado</td>\n",
       "      <td>Não Informado</td>\n",
       "      <td>Teste rápido Antígeno</td>\n",
       "    </tr>\n",
       "    <tr>\n",
       "      <th>2</th>\n",
       "      <td>2022-02-22</td>\n",
       "      <td>2022-01-26</td>\n",
       "      <td>2022-01-23</td>\n",
       "      <td>NaN</td>\n",
       "      <td>2022-02-22</td>\n",
       "      <td>NaN</td>\n",
       "      <td>NaN</td>\n",
       "      <td>2022-01-26</td>\n",
       "      <td>NaN</td>\n",
       "      <td>Confirmados</td>\n",
       "      <td>...</td>\n",
       "      <td>Não</td>\n",
       "      <td>Não</td>\n",
       "      <td>Sim</td>\n",
       "      <td>Não</td>\n",
       "      <td>Não</td>\n",
       "      <td>Não Informado</td>\n",
       "      <td>Positivo</td>\n",
       "      <td>Não Informado</td>\n",
       "      <td>Não Informado</td>\n",
       "      <td>Teste rápido Antígeno</td>\n",
       "    </tr>\n",
       "    <tr>\n",
       "      <th>3</th>\n",
       "      <td>2022-02-22</td>\n",
       "      <td>2020-06-24</td>\n",
       "      <td>2022-02-20</td>\n",
       "      <td>NaN</td>\n",
       "      <td>2022-02-22</td>\n",
       "      <td>NaN</td>\n",
       "      <td>NaN</td>\n",
       "      <td>NaN</td>\n",
       "      <td>NaN</td>\n",
       "      <td>Confirmados</td>\n",
       "      <td>...</td>\n",
       "      <td>Não</td>\n",
       "      <td>Não</td>\n",
       "      <td>Não</td>\n",
       "      <td>Não</td>\n",
       "      <td>Não</td>\n",
       "      <td>Não Informado</td>\n",
       "      <td>Positivo</td>\n",
       "      <td>Não Informado</td>\n",
       "      <td>Não Informado</td>\n",
       "      <td>Teste rápido Antígeno</td>\n",
       "    </tr>\n",
       "    <tr>\n",
       "      <th>4</th>\n",
       "      <td>2022-02-22</td>\n",
       "      <td>2022-02-22</td>\n",
       "      <td>2022-02-22</td>\n",
       "      <td>NaN</td>\n",
       "      <td>2022-02-22</td>\n",
       "      <td>NaN</td>\n",
       "      <td>NaN</td>\n",
       "      <td>NaN</td>\n",
       "      <td>NaN</td>\n",
       "      <td>Suspeito</td>\n",
       "      <td>...</td>\n",
       "      <td>Não</td>\n",
       "      <td>Não</td>\n",
       "      <td>Não</td>\n",
       "      <td>Não</td>\n",
       "      <td>Não</td>\n",
       "      <td>Não Informado</td>\n",
       "      <td>Não Informado</td>\n",
       "      <td>Não Informado</td>\n",
       "      <td>Não Informado</td>\n",
       "      <td>Teste rápido Antígeno</td>\n",
       "    </tr>\n",
       "  </tbody>\n",
       "</table>\n",
       "<p>5 rows × 45 columns</p>\n",
       "</div>"
      ],
      "text/plain": [
       "  DataNotificacao DataCadastro DataDiagnostico DataColeta_RT_PCR  \\\n",
       "0      2022-02-22   2021-07-01      2022-02-20               NaN   \n",
       "1      2022-02-22   2021-07-26      2021-07-18        2022-02-22   \n",
       "2      2022-02-22   2022-01-26      2022-01-23               NaN   \n",
       "3      2022-02-22   2020-06-24      2022-02-20               NaN   \n",
       "4      2022-02-22   2022-02-22      2022-02-22               NaN   \n",
       "\n",
       "  DataColetaTesteRapido DataColetaSorologia DataColetaSorologiaIGG  \\\n",
       "0            2022-02-22                 NaN                    NaN   \n",
       "1            2022-02-22                 NaN                    NaN   \n",
       "2            2022-02-22                 NaN                    NaN   \n",
       "3            2022-02-22                 NaN                    NaN   \n",
       "4            2022-02-22                 NaN                    NaN   \n",
       "\n",
       "  DataEncerramento DataObito Classificacao  ... ViagemBrasil  \\\n",
       "0              NaN       NaN   Confirmados  ...          Não   \n",
       "1       2021-07-31       NaN      Suspeito  ...     Ignorado   \n",
       "2       2022-01-26       NaN   Confirmados  ...          Não   \n",
       "3              NaN       NaN   Confirmados  ...          Não   \n",
       "4              NaN       NaN      Suspeito  ...          Não   \n",
       "\n",
       "  ViagemInternacional ProfissionalSaude PossuiDeficiencia MoradorDeRua  \\\n",
       "0            Ignorado               Não               Não          Não   \n",
       "1            Ignorado               Não               Não          Não   \n",
       "2                 Não               Sim               Não          Não   \n",
       "3                 Não               Não               Não          Não   \n",
       "4                 Não               Não               Não          Não   \n",
       "\n",
       "  ResultadoRT_PCR ResultadoTesteRapido ResultadoSorologia  \\\n",
       "0   Não Informado             Positivo      Não Informado   \n",
       "1   Não Informado             Negativo      Não Informado   \n",
       "2   Não Informado             Positivo      Não Informado   \n",
       "3   Não Informado             Positivo      Não Informado   \n",
       "4   Não Informado        Não Informado      Não Informado   \n",
       "\n",
       "  ResultadoSorologia_IGG        TipoTesteRapido  \n",
       "0          Não Informado  Teste rápido Antígeno  \n",
       "1          Não Informado  Teste rápido Antígeno  \n",
       "2          Não Informado  Teste rápido Antígeno  \n",
       "3          Não Informado  Teste rápido Antígeno  \n",
       "4          Não Informado  Teste rápido Antígeno  \n",
       "\n",
       "[5 rows x 45 columns]"
      ]
     },
     "execution_count": 151,
     "metadata": {},
     "output_type": "execute_result"
    }
   ],
   "source": [
    "CovidES.head()"
   ]
  },
  {
   "cell_type": "code",
   "execution_count": 152,
   "id": "52786d51",
   "metadata": {},
   "outputs": [
    {
     "name": "stdout",
     "output_type": "stream",
     "text": [
      "<class 'pandas.core.frame.DataFrame'>\n",
      "RangeIndex: 3348699 entries, 0 to 3348698\n",
      "Data columns (total 45 columns):\n",
      " #   Column                   Dtype \n",
      "---  ------                   ----- \n",
      " 0   DataNotificacao          object\n",
      " 1   DataCadastro             object\n",
      " 2   DataDiagnostico          object\n",
      " 3   DataColeta_RT_PCR        object\n",
      " 4   DataColetaTesteRapido    object\n",
      " 5   DataColetaSorologia      object\n",
      " 6   DataColetaSorologiaIGG   object\n",
      " 7   DataEncerramento         object\n",
      " 8   DataObito                object\n",
      " 9   Classificacao            object\n",
      " 10  Evolucao                 object\n",
      " 11  CriterioConfirmacao      object\n",
      " 12  StatusNotificacao        object\n",
      " 13  Municipio                object\n",
      " 14  Bairro                   object\n",
      " 15  FaixaEtaria              object\n",
      " 16  IdadeNaDataNotificacao   object\n",
      " 17  Sexo                     object\n",
      " 18  RacaCor                  object\n",
      " 19  Escolaridade             object\n",
      " 20  Gestante                 object\n",
      " 21  Febre                    object\n",
      " 22  DificuldadeRespiratoria  object\n",
      " 23  Tosse                    object\n",
      " 24  Coriza                   object\n",
      " 25  DorGarganta              object\n",
      " 26  Diarreia                 object\n",
      " 27  Cefaleia                 object\n",
      " 28  ComorbidadePulmao        object\n",
      " 29  ComorbidadeCardio        object\n",
      " 30  ComorbidadeRenal         object\n",
      " 31  ComorbidadeDiabetes      object\n",
      " 32  ComorbidadeTabagismo     object\n",
      " 33  ComorbidadeObesidade     object\n",
      " 34  FicouInternado           object\n",
      " 35  ViagemBrasil             object\n",
      " 36  ViagemInternacional      object\n",
      " 37  ProfissionalSaude        object\n",
      " 38  PossuiDeficiencia        object\n",
      " 39  MoradorDeRua             object\n",
      " 40  ResultadoRT_PCR          object\n",
      " 41  ResultadoTesteRapido     object\n",
      " 42  ResultadoSorologia       object\n",
      " 43  ResultadoSorologia_IGG   object\n",
      " 44  TipoTesteRapido          object\n",
      "dtypes: object(45)\n",
      "memory usage: 1.1+ GB\n"
     ]
    }
   ],
   "source": [
    "CovidES.info()"
   ]
  },
  {
   "cell_type": "markdown",
   "id": "bb690f33",
   "metadata": {},
   "source": [
    "# Tratamento de dados"
   ]
  },
  {
   "cell_type": "code",
   "execution_count": 153,
   "id": "d4ef7e96",
   "metadata": {},
   "outputs": [
    {
     "name": "stdout",
     "output_type": "stream",
     "text": [
      "Valores unicos RT_PCR: ['Não Informado' 'Inconclusivo' 'Negativo' 'Positivo']\n",
      "Valores unicos de teste rápido: ['Positivo' 'Negativo' 'Não Informado' 'Inconclusivo']\n",
      "Valores unicos de teste Sorológico: ['Não Informado' 'Reagente' 'Não Reagente' 'Inconclusivo']\n",
      "Valores unicos de teste de Sorologia IGG: ['Não Informado' 'Reagente' 'Não Reagente' 'Inconclusivo']\n",
      "Valores unicos de Classificação: ['Confirmados' 'Suspeito' 'Descartados' 'Síndrome Gripal não Especificada']\n"
     ]
    }
   ],
   "source": [
    "#Visualizando os valores unicos dos resultados\n",
    "\n",
    "print('Valores unicos RT_PCR:',CovidES['ResultadoRT_PCR'].unique())\n",
    "print('Valores unicos de teste rápido:',CovidES['ResultadoTesteRapido'].unique())\n",
    "print('Valores unicos de teste Sorológico:',CovidES['ResultadoSorologia'].unique())\n",
    "print('Valores unicos de teste de Sorologia IGG:',CovidES['ResultadoSorologia_IGG'].unique())\n",
    "print('Valores unicos de Classificação:',CovidES['Classificacao'].unique())"
   ]
  },
  {
   "cell_type": "code",
   "execution_count": 154,
   "id": "898ab906",
   "metadata": {},
   "outputs": [
    {
     "name": "stdout",
     "output_type": "stream",
     "text": [
      "Valores unicos Febre: ['Não' 'Sim' '-']\n",
      "Valores unicos Coriza: ['Não' 'Sim' '-']\n",
      "Valores unicos Tosse: ['Sim' 'Não' '-']\n",
      "Valores unicos Dor de Garganta: ['Não' 'Sim' '-']\n",
      "Valores unicos Dificuldade Respiratória: ['Não' 'Sim' '-']\n",
      "Valores unicos Dificuldade Respiratória: ['Não' 'Sim' '-']\n",
      "Valores unicos Dificuldade Respiratória: ['Sim' 'Não' '-']\n"
     ]
    }
   ],
   "source": [
    "#Visualizando os valores unicos dos sintomas\n",
    "\n",
    "print('Valores unicos Febre:',CovidES['Febre'].unique())\n",
    "print('Valores unicos Coriza:',CovidES['Coriza'].unique())\n",
    "print('Valores unicos Tosse:',CovidES['Tosse'].unique())\n",
    "print('Valores unicos Dor de Garganta:',CovidES['DorGarganta'].unique())\n",
    "print('Valores unicos Dificuldade Respiratória:',CovidES['DificuldadeRespiratoria'].unique())\n",
    "print('Valores unicos Dificuldade Respiratória:',CovidES['Diarreia'].unique())\n",
    "print('Valores unicos Dificuldade Respiratória:',CovidES['Cefaleia'].unique())"
   ]
  },
  {
   "cell_type": "code",
   "execution_count": 155,
   "id": "60577ba7",
   "metadata": {},
   "outputs": [
    {
     "name": "stdout",
     "output_type": "stream",
     "text": [
      "Contagem de valores na coluna Febre \n",
      " Não    2370247\n",
      "Sim     976535\n",
      "-         1917\n",
      "Name: Febre, dtype: int64\n",
      "\n",
      "\n",
      "Contagem de valores na coluna Coriza \n",
      " Não    2155060\n",
      "Sim    1191901\n",
      "-         1738\n",
      "Name: Coriza, dtype: int64\n",
      "\n",
      "\n",
      "Contagem de valores na coluna Tosse \n",
      " Não    1855538\n",
      "Sim    1491418\n",
      "-         1743\n",
      "Name: Tosse, dtype: int64\n",
      "\n",
      "\n",
      "Contagem de valores na coluna Dor de Garganta \n",
      " Não    2335029\n",
      "Sim    1011707\n",
      "-         1963\n",
      "Name: DorGarganta, dtype: int64\n",
      "\n",
      "\n",
      "Contagem de valores na coluna Dificuldade Respiratória \n",
      " Não    3033280\n",
      "Sim     313709\n",
      "-         1710\n",
      "Name: DificuldadeRespiratoria, dtype: int64\n",
      "\n",
      "\n",
      "Contagem de valores na coluna Diarreia \n",
      " Não    3033786\n",
      "Sim     313062\n",
      "-         1851\n",
      "Name: Diarreia, dtype: int64\n",
      "\n",
      "\n",
      "Contagem de valores na coluna Cefaleia \n",
      " Não    2013966\n",
      "Sim    1332672\n",
      "-         2061\n",
      "Name: Cefaleia, dtype: int64\n",
      "\n",
      "\n"
     ]
    }
   ],
   "source": [
    "print('Contagem de valores na coluna Febre \\n',CovidES['Febre'].value_counts())\n",
    "print('\\n')\n",
    "print('Contagem de valores na coluna Coriza \\n',CovidES['Coriza'].value_counts())\n",
    "print('\\n')\n",
    "print('Contagem de valores na coluna Tosse \\n',CovidES['Tosse'].value_counts())\n",
    "print('\\n')\n",
    "print('Contagem de valores na coluna Dor de Garganta \\n',CovidES['DorGarganta'].value_counts())\n",
    "print('\\n')\n",
    "print('Contagem de valores na coluna Dificuldade Respiratória \\n',CovidES['DificuldadeRespiratoria'].value_counts())\n",
    "print('\\n')\n",
    "print('Contagem de valores na coluna Diarreia \\n',CovidES['Diarreia'].value_counts())\n",
    "print('\\n')\n",
    "print('Contagem de valores na coluna Cefaleia \\n',CovidES['Cefaleia'].value_counts())\n",
    "print('\\n')\n"
   ]
  },
  {
   "cell_type": "code",
   "execution_count": 156,
   "id": "a7659766",
   "metadata": {},
   "outputs": [],
   "source": [
    "#removendo dados que nao apresentam relevância em Sintomas\n",
    "CovidES.drop(CovidES.loc[CovidES['Febre']=='-'].index, inplace=True)\n",
    "CovidES.drop(CovidES.loc[CovidES['Coriza']=='-'].index, inplace=True)\n",
    "CovidES.drop(CovidES.loc[CovidES['Tosse']=='-'].index, inplace=True)\n",
    "CovidES.drop(CovidES.loc[CovidES['DorGarganta']=='-'].index, inplace=True)\n",
    "CovidES.drop(CovidES.loc[CovidES['DificuldadeRespiratoria']=='-'].index, inplace=True)\n",
    "CovidES.drop(CovidES.loc[CovidES['Diarreia']=='-'].index, inplace=True)\n",
    "CovidES.drop(CovidES.loc[CovidES['Cefaleia']=='-'].index, inplace=True)"
   ]
  },
  {
   "cell_type": "code",
   "execution_count": 157,
   "id": "4291a914",
   "metadata": {},
   "outputs": [
    {
     "data": {
      "text/plain": [
       "Index(['DataNotificacao', 'DataCadastro', 'DataDiagnostico',\n",
       "       'DataColeta_RT_PCR', 'DataColetaTesteRapido', 'DataColetaSorologia',\n",
       "       'DataColetaSorologiaIGG', 'DataEncerramento', 'DataObito',\n",
       "       'Classificacao', 'Evolucao', 'CriterioConfirmacao', 'StatusNotificacao',\n",
       "       'Municipio', 'Bairro', 'FaixaEtaria', 'IdadeNaDataNotificacao', 'Sexo',\n",
       "       'RacaCor', 'Escolaridade', 'Gestante', 'Febre',\n",
       "       'DificuldadeRespiratoria', 'Tosse', 'Coriza', 'DorGarganta', 'Diarreia',\n",
       "       'Cefaleia', 'ComorbidadePulmao', 'ComorbidadeCardio',\n",
       "       'ComorbidadeRenal', 'ComorbidadeDiabetes', 'ComorbidadeTabagismo',\n",
       "       'ComorbidadeObesidade', 'FicouInternado', 'ViagemBrasil',\n",
       "       'ViagemInternacional', 'ProfissionalSaude', 'PossuiDeficiencia',\n",
       "       'MoradorDeRua', 'ResultadoRT_PCR', 'ResultadoTesteRapido',\n",
       "       'ResultadoSorologia', 'ResultadoSorologia_IGG', 'TipoTesteRapido'],\n",
       "      dtype='object')"
      ]
     },
     "execution_count": 157,
     "metadata": {},
     "output_type": "execute_result"
    }
   ],
   "source": [
    "CovidES.columns"
   ]
  },
  {
   "cell_type": "code",
   "execution_count": 158,
   "id": "d33d3eeb",
   "metadata": {},
   "outputs": [],
   "source": [
    "#criando a função que irá converter os sintomas para numero\n",
    "def convert_to_number(base):\n",
    "    if(base == 'Sim'):\n",
    "        return 1\n",
    "    elif(base == 'Não'):\n",
    "        return 0\n",
    "    else:\n",
    "        return np.nan"
   ]
  },
  {
   "cell_type": "code",
   "execution_count": 159,
   "id": "805569b5",
   "metadata": {},
   "outputs": [],
   "source": [
    "#convertendo sintomas para numero\n",
    "#aplicando a base de conversão de numero nos sintomas levantados - Caso 1 - sim \n",
    "#Caso 0 - Não. Qualquer valor diferente desses receberá null\n",
    "CovidES['Febre_n'] = CovidES['Febre'].apply(convert_to_number)\n",
    "CovidES['Tosse_n'] = CovidES['Tosse'].apply(convert_to_number)\n",
    "CovidES['Coriza_n']= CovidES['Coriza'].apply(convert_to_number)\n",
    "CovidES['DorGarganta_n']=CovidES['DorGarganta'].apply(convert_to_number)\n",
    "CovidES['Diarreia_n']=CovidES['Diarreia'].apply(convert_to_number)\n",
    "CovidES['Cefaleia_n']=CovidES['Cefaleia'].apply(convert_to_number)\n",
    "CovidES['DificuldadeRespiratoria_n']=CovidES['DificuldadeRespiratoria'].apply(convert_to_number)"
   ]
  },
  {
   "cell_type": "code",
   "execution_count": 160,
   "id": "23defd61",
   "metadata": {},
   "outputs": [],
   "source": [
    "#removendo as colunas que tiveram seus valores convertidos e alocados e outras colunas\n",
    "CovidES = CovidES.drop(columns=['Febre','DificuldadeRespiratoria', 'Tosse', 'Coriza', 'DorGarganta', 'Diarreia','Cefaleia'])"
   ]
  },
  {
   "cell_type": "code",
   "execution_count": 161,
   "id": "c7709a33",
   "metadata": {},
   "outputs": [],
   "source": [
    "#convertendo as datas que serão utilizadas de string para datetime\n",
    "CovidES['dataNotificacao'] = pd.to_datetime(CovidES['DataNotificacao'],format='%Y-%m-%d')\n",
    "CovidES['dataCadastro'] = pd.to_datetime(CovidES['DataCadastro'],format='%Y-%m-%d')"
   ]
  },
  {
   "cell_type": "code",
   "execution_count": 162,
   "id": "166da56a",
   "metadata": {},
   "outputs": [],
   "source": [
    "#removendo os dados que foram convertidos e dados que nao serão utilizados no projeto\n",
    "CovidES = CovidES.drop(columns=['DataNotificacao', 'DataCadastro', 'DataDiagnostico',\n",
    "       'DataColeta_RT_PCR', 'DataColetaTesteRapido', 'DataColetaSorologia',\n",
    "       'DataColetaSorologiaIGG', 'DataEncerramento', 'DataObito'])"
   ]
  },
  {
   "cell_type": "code",
   "execution_count": 163,
   "id": "23a4097b",
   "metadata": {},
   "outputs": [
    {
     "data": {
      "text/plain": [
       "Index(['Classificacao', 'Evolucao', 'CriterioConfirmacao', 'StatusNotificacao',\n",
       "       'Municipio', 'Bairro', 'FaixaEtaria', 'IdadeNaDataNotificacao', 'Sexo',\n",
       "       'RacaCor', 'Escolaridade', 'Gestante', 'ComorbidadePulmao',\n",
       "       'ComorbidadeCardio', 'ComorbidadeRenal', 'ComorbidadeDiabetes',\n",
       "       'ComorbidadeTabagismo', 'ComorbidadeObesidade', 'FicouInternado',\n",
       "       'ViagemBrasil', 'ViagemInternacional', 'ProfissionalSaude',\n",
       "       'PossuiDeficiencia', 'MoradorDeRua', 'ResultadoRT_PCR',\n",
       "       'ResultadoTesteRapido', 'ResultadoSorologia', 'ResultadoSorologia_IGG',\n",
       "       'TipoTesteRapido', 'Febre_n', 'Tosse_n', 'Coriza_n', 'DorGarganta_n',\n",
       "       'Diarreia_n', 'Cefaleia_n', 'DificuldadeRespiratoria_n',\n",
       "       'dataNotificacao', 'dataCadastro'],\n",
       "      dtype='object')"
      ]
     },
     "execution_count": 163,
     "metadata": {},
     "output_type": "execute_result"
    }
   ],
   "source": [
    "CovidES.columns"
   ]
  },
  {
   "cell_type": "code",
   "execution_count": 164,
   "id": "aa34fa33",
   "metadata": {},
   "outputs": [
    {
     "name": "stdout",
     "output_type": "stream",
     "text": [
      "Valores unicos Comorbidade no Pulmão: ['Não' 'Sim' '-']\n",
      "Valores unicos Comorbidade - Coração: ['Não' 'Sim' '-']\n",
      "Valores unicos Comorbidade - Rins: ['Não' 'Sim' '-']\n",
      "Valores unicos Comorbidade - Diabetes: ['Não' 'Sim' '-']\n",
      "Valores unicos Comorbidade - Tabagismo: ['Sim' 'Não' '-']\n",
      "Valores unicos Comorbidade - Obesidade: ['Não' 'Sim' '-']\n"
     ]
    }
   ],
   "source": [
    "print('Valores unicos Comorbidade no Pulmão:',CovidES['ComorbidadePulmao'].unique())\n",
    "print('Valores unicos Comorbidade - Coração:',CovidES['ComorbidadeCardio'].unique())\n",
    "print('Valores unicos Comorbidade - Rins:',CovidES['ComorbidadeRenal'].unique())\n",
    "print('Valores unicos Comorbidade - Diabetes:',CovidES['ComorbidadeDiabetes'].unique())\n",
    "print('Valores unicos Comorbidade - Tabagismo:',CovidES['ComorbidadeTabagismo'].unique())\n",
    "print('Valores unicos Comorbidade - Obesidade:',CovidES['ComorbidadeObesidade'].unique())\n"
   ]
  },
  {
   "cell_type": "code",
   "execution_count": 165,
   "id": "4eaae385",
   "metadata": {},
   "outputs": [
    {
     "name": "stdout",
     "output_type": "stream",
     "text": [
      "Contagem de valores na coluna Comorbidade Pulmao \n",
      " Não    3272708\n",
      "Sim      71543\n",
      "-         1628\n",
      "Name: ComorbidadePulmao, dtype: int64\n",
      "\n",
      "\n",
      "Contagem de valores na coluna Comorbidade Cardio \n",
      " Não    3055221\n",
      "Sim     289116\n",
      "-         1542\n",
      "Name: ComorbidadeCardio, dtype: int64\n",
      "\n",
      "\n",
      "Contagem de valores na coluna Comorbidade Renal \n",
      " Não    3336179\n",
      "Sim       8377\n",
      "-         1323\n",
      "Name: ComorbidadeRenal, dtype: int64\n",
      "\n",
      "\n",
      "Contagem de valores na coluna Comorbidade Diabetes \n",
      " Não    3246207\n",
      "Sim      98238\n",
      "-         1434\n",
      "Name: ComorbidadeDiabetes, dtype: int64\n",
      "\n",
      "\n",
      "Contagem de valores na coluna Comorbidade Tabagismo \n",
      " Não    3297278\n",
      "Sim      47211\n",
      "-         1390\n",
      "Name: ComorbidadeTabagismo, dtype: int64\n",
      "\n",
      "\n",
      "Contagem de valores na coluna Comorbidade Obesidade \n",
      " Não    3299641\n",
      "Sim      44235\n",
      "-         2003\n",
      "Name: ComorbidadeObesidade, dtype: int64\n",
      "\n",
      "\n"
     ]
    }
   ],
   "source": [
    "print('Contagem de valores na coluna Comorbidade Pulmao \\n',CovidES['ComorbidadePulmao'].value_counts())\n",
    "print('\\n')\n",
    "print('Contagem de valores na coluna Comorbidade Cardio \\n',CovidES['ComorbidadeCardio'].value_counts())\n",
    "print('\\n')\n",
    "print('Contagem de valores na coluna Comorbidade Renal \\n',CovidES['ComorbidadeRenal'].value_counts())\n",
    "print('\\n')\n",
    "print('Contagem de valores na coluna Comorbidade Diabetes \\n',CovidES['ComorbidadeDiabetes'].value_counts())\n",
    "print('\\n')\n",
    "print('Contagem de valores na coluna Comorbidade Tabagismo \\n',CovidES['ComorbidadeTabagismo'].value_counts())\n",
    "print('\\n')\n",
    "print('Contagem de valores na coluna Comorbidade Obesidade \\n',CovidES['ComorbidadeObesidade'].value_counts())\n",
    "print('\\n')"
   ]
  },
  {
   "cell_type": "code",
   "execution_count": 166,
   "id": "cdf7fa04",
   "metadata": {},
   "outputs": [],
   "source": [
    "#removendo dados que nao apresentam relevância em Comorbidade\n",
    "CovidES.drop(CovidES.loc[CovidES['ComorbidadePulmao']=='-'].index, inplace=True)\n",
    "CovidES.drop(CovidES.loc[CovidES['ComorbidadeCardio']=='-'].index, inplace=True)\n",
    "CovidES.drop(CovidES.loc[CovidES['ComorbidadeRenal']=='-'].index, inplace=True)\n",
    "CovidES.drop(CovidES.loc[CovidES['ComorbidadeDiabetes']=='-'].index, inplace=True)\n",
    "CovidES.drop(CovidES.loc[CovidES['ComorbidadeTabagismo']=='-'].index, inplace=True)\n",
    "CovidES.drop(CovidES.loc[CovidES['ComorbidadeObesidade']=='-'].index, inplace=True)\n"
   ]
  },
  {
   "cell_type": "code",
   "execution_count": 167,
   "id": "7c3e334f",
   "metadata": {},
   "outputs": [],
   "source": [
    "#convertendo Comorbidades para numero\n",
    "#Caso 1 - Sim, Caso 0 - Não\n",
    "CovidES['comorbidadePulmao'] = CovidES['ComorbidadePulmao'].apply(convert_to_number)\n",
    "CovidES['comorbidadeCardio'] = CovidES['ComorbidadeCardio'].apply(convert_to_number)\n",
    "CovidES['comorbidadeRenal'] = CovidES['ComorbidadeRenal'].apply(convert_to_number)\n",
    "CovidES['comorbidadeDiabetes'] = CovidES['ComorbidadeDiabetes'].apply(convert_to_number)\n",
    "CovidES['comorbidadeTabagismo'] = CovidES['ComorbidadeTabagismo'].apply(convert_to_number)\n",
    "CovidES['comorbidadeObesidade'] = CovidES['ComorbidadeObesidade'].apply(convert_to_number)"
   ]
  },
  {
   "cell_type": "code",
   "execution_count": 168,
   "id": "b5455079",
   "metadata": {},
   "outputs": [],
   "source": [
    "#removendo as colunas de comorbidades que tiveram os dados convertidos \n",
    "CovidES = CovidES.drop(columns=['ComorbidadePulmao','ComorbidadeCardio', 'ComorbidadeRenal', 'ComorbidadeDiabetes',\n",
    "                                'ComorbidadeTabagismo', 'ComorbidadeObesidade'])"
   ]
  },
  {
   "cell_type": "code",
   "execution_count": 169,
   "id": "cc50fd98",
   "metadata": {},
   "outputs": [
    {
     "name": "stdout",
     "output_type": "stream",
     "text": [
      "Contagem de incidências na coluna de Gestante \n",
      " Não                           1808457\n",
      "Não se aplica                 1507009\n",
      "3º trimeste                     10646\n",
      "Ignorado                         7356\n",
      "2º trimeste                      4793\n",
      "1º trimeste                      3636\n",
      "Idade gestacional ignorada       1015\n",
      "Name: Gestante, dtype: int64\n",
      "\n",
      "\n",
      "Contagem de incidências na coluna de Realizou Viagem Internacional ?\n",
      " Não Informado    1862351\n",
      "Não              1315801\n",
      "Ignorado          161835\n",
      "Sim                 2925\n",
      "Name: ViagemInternacional, dtype: int64\n",
      "\n",
      "\n",
      "Contagem de incidências na coluna de Realizou Viagem no Brasil? \n",
      " Não Informado    1652733\n",
      "Não              1398378\n",
      "Ignorado          182707\n",
      "Sim               109094\n",
      "Name: ViagemBrasil, dtype: int64\n",
      "\n",
      "\n",
      "Contagem de incidências na coluna de Possui deficiência? \n",
      " Não              3271788\n",
      "Sim                41678\n",
      "Não Informado      29446\n",
      "Name: PossuiDeficiencia, dtype: int64\n",
      "\n",
      "\n",
      "Contagem de incidências na coluna Morador de Rua? \n",
      " Não              3291808\n",
      "Não Informado      31771\n",
      "Sim                19333\n",
      "Name: MoradorDeRua, dtype: int64\n",
      "\n",
      "\n",
      "Contagem de incidências na coluna profissional de Saude? \n",
      " Não              2801022\n",
      "Ignorado          368182\n",
      "Sim               171739\n",
      "Não Informado       1969\n",
      "Name: ProfissionalSaude, dtype: int64\n",
      "\n",
      "\n"
     ]
    }
   ],
   "source": [
    "#bloco 3.2.4 do documento\n",
    "print('Contagem de incidências na coluna de Gestante \\n',CovidES['Gestante'].value_counts())\n",
    "print('\\n')\n",
    "print('Contagem de incidências na coluna de Realizou Viagem Internacional ?\\n',CovidES['ViagemInternacional'].value_counts())\n",
    "print('\\n')\n",
    "print('Contagem de incidências na coluna de Realizou Viagem no Brasil? \\n',CovidES['ViagemBrasil'].value_counts())\n",
    "print('\\n')\n",
    "print('Contagem de incidências na coluna de Possui deficiência? \\n',CovidES['PossuiDeficiencia'].value_counts())\n",
    "print('\\n')\n",
    "print('Contagem de incidências na coluna Morador de Rua? \\n',CovidES['MoradorDeRua'].value_counts())\n",
    "print('\\n')\n",
    "print('Contagem de incidências na coluna profissional de Saude? \\n',CovidES['ProfissionalSaude'].value_counts())\n",
    "print('\\n')"
   ]
  },
  {
   "cell_type": "code",
   "execution_count": 170,
   "id": "38bdba05",
   "metadata": {},
   "outputs": [],
   "source": [
    "#excluindo colunas que nao serão utilizadas por nao possuir tanta relevância para o projeto\n",
    "CovidES = CovidES.drop(columns=['Gestante','ViagemInternacional','ViagemBrasil','PossuiDeficiencia',\n",
    "                                'MoradorDeRua','ProfissionalSaude'])"
   ]
  },
  {
   "cell_type": "code",
   "execution_count": 171,
   "id": "6b8978b3",
   "metadata": {},
   "outputs": [
    {
     "name": "stdout",
     "output_type": "stream",
     "text": [
      "Contagem de incidências na coluna Criterio de Confirmação \n",
      " Laboratorial             2793374\n",
      "-                         251847\n",
      "Clinico                   225920\n",
      "Clinico Epdemiologico      71771\n",
      "Name: CriterioConfirmacao, dtype: int64\n",
      "\n",
      "\n",
      "Contagem de incidências na coluna Morador de Status de Notificação? \n",
      " Encerrado    2743664\n",
      "Em Aberto     599248\n",
      "Name: StatusNotificacao, dtype: int64\n",
      "\n",
      "\n",
      "Contagem de incidências na coluna Ficou Internado? \n",
      " Não Informado    1896804\n",
      "Não              1288468\n",
      "Ignorado          134821\n",
      "Sim                22819\n",
      "Name: FicouInternado, dtype: int64\n",
      "\n",
      "\n"
     ]
    }
   ],
   "source": [
    "#bloco 3.2.5 do documento\n",
    "print('Contagem de incidências na coluna Criterio de Confirmação \\n',CovidES['CriterioConfirmacao'].value_counts())\n",
    "print('\\n')\n",
    "print('Contagem de incidências na coluna Morador de Status de Notificação? \\n',CovidES['StatusNotificacao'].value_counts())\n",
    "print('\\n')\n",
    "print('Contagem de incidências na coluna Ficou Internado? \\n',CovidES['FicouInternado'].value_counts())\n",
    "print('\\n')"
   ]
  },
  {
   "cell_type": "code",
   "execution_count": 172,
   "id": "5f958700",
   "metadata": {},
   "outputs": [],
   "source": [
    "#removendo as colunas criterio confirmação e StatusNotificacao\n",
    "CovidES = CovidES.drop(columns=['CriterioConfirmacao','StatusNotificacao','FicouInternado'])"
   ]
  },
  {
   "cell_type": "code",
   "execution_count": 173,
   "id": "d79ae17a",
   "metadata": {},
   "outputs": [
    {
     "name": "stdout",
     "output_type": "stream",
     "text": [
      "Contagem de incidências na coluna classificacao \n",
      " Descartados                         1811827\n",
      "Confirmados                         1011451\n",
      "Suspeito                             490817\n",
      "Síndrome Gripal não Especificada      28817\n",
      "Name: Classificacao, dtype: int64\n",
      "\n",
      "\n",
      "Contagem de incidências na coluna Evolução \n",
      " Ignorado                   1666984\n",
      "Cura                        908475\n",
      "-                           748541\n",
      "Óbito pelo COVID-19          13916\n",
      "Óbito por outras causas       4996\n",
      "Name: Evolucao, dtype: int64\n",
      "\n",
      "\n",
      "Contagem de incidências na coluna Escolaridade \n",
      " Ignorado                                                       1274791\n",
      "Ensino médio completo (antigo colegial ou 2º grau )             684931\n",
      "Educação superior completa                                      410330\n",
      "5ª à 8ª série incompleta do EF (antigo ginásio ou 1º grau)      207050\n",
      "Ensino médio incompleto (antigo colegial ou 2º grau )           157963\n",
      "Ensino fundamental completo (antigo ginásio ou 1º grau)         141927\n",
      "Não se aplica                                                   133294\n",
      "1ª a 4ª série incompleta do EF (antigo primário ou 1º grau)     120130\n",
      "Educação superior incompleta                                     91368\n",
      "4ª série completa do EF (antigo primário ou 1º grau)             76996\n",
      "Analfabeto                                                       44132\n",
      "Name: Escolaridade, dtype: int64\n",
      "\n",
      "\n"
     ]
    }
   ],
   "source": [
    "#bloco 3.2.6 do documento\n",
    "print('Contagem de incidências na coluna classificacao \\n',CovidES['Classificacao'].value_counts())\n",
    "print('\\n')\n",
    "print('Contagem de incidências na coluna Evolução \\n',CovidES['Evolucao'].value_counts())\n",
    "print('\\n')\n",
    "print('Contagem de incidências na coluna Escolaridade \\n',CovidES['Escolaridade'].value_counts())\n",
    "print('\\n')"
   ]
  },
  {
   "cell_type": "code",
   "execution_count": 174,
   "id": "dac58069",
   "metadata": {},
   "outputs": [],
   "source": [
    "#removendo linhas de Sindrome Gripal não especificada de classificações\n",
    "CovidES.drop(CovidES.loc[CovidES['Classificacao']=='Síndrome Gripal não Especificada'].index, inplace=True)"
   ]
  },
  {
   "cell_type": "code",
   "execution_count": 175,
   "id": "a3eab14c",
   "metadata": {},
   "outputs": [],
   "source": [
    "#função que converte classificação para numeros\n",
    "def class_to_number(base):\n",
    "    if(base == 'Confirmados'):\n",
    "        return 0\n",
    "    elif(base == 'Suspeito'):\n",
    "        return 1\n",
    "    elif(base == 'Descartados'):\n",
    "        return 2\n",
    "    else:\n",
    "        return -1"
   ]
  },
  {
   "cell_type": "code",
   "execution_count": 176,
   "id": "0c8275f0",
   "metadata": {},
   "outputs": [],
   "source": [
    "#função que converte a evolução dos casos para numeros\n",
    "def evol_to_number(base):\n",
    "    if(base == 'Cura'):\n",
    "        return 0\n",
    "    elif(base == 'Óbito pelo COVID-19'):\n",
    "        return 1\n",
    "    elif(base == 'Óbito por outras causas'):\n",
    "        return 2\n",
    "    else:\n",
    "        return -1"
   ]
  },
  {
   "cell_type": "code",
   "execution_count": 177,
   "id": "39707a60",
   "metadata": {},
   "outputs": [],
   "source": [
    "#funcao que converte escolaridade para indices numericos\n",
    "def schooling_to_number(base):\n",
    "    if(base == 'Ignorado'):\n",
    "        return 10\n",
    "    elif(base == 'Não se aplica'):\n",
    "        return 9\n",
    "    elif(base  == 'Educação superior incompleta'):\n",
    "        return 8\n",
    "    elif(base == 'Analfabeto'):\n",
    "        return 7\n",
    "    elif(base == '4ª série completa do EF (antigo primário ou 1º grau)'):\n",
    "        return 6\n",
    "    elif(base == '1ª a 4ª série incompleta do EF (antigo primário ou 1º grau)'):\n",
    "        return 5\n",
    "    elif(base == 'Ensino fundamental completo (antigo ginásio ou 1º grau)'):\n",
    "        return 4\n",
    "    elif(base == 'Ensino médio incompleto (antigo colegial ou 2º grau )'):\n",
    "        return 3\n",
    "    elif(base == '5ª à 8ª série incompleta do EF (antigo ginásio ou 1º grau)'):\n",
    "        return 2\n",
    "    elif(base == 'Educação superior completa'):\n",
    "        return 1\n",
    "    elif(base == 'Ensino médio completo (antigo colegial ou 2º grau )'):\n",
    "        return 0 \n",
    "    else:\n",
    "        return -1"
   ]
  },
  {
   "cell_type": "code",
   "execution_count": 178,
   "id": "ea1ed398",
   "metadata": {},
   "outputs": [],
   "source": [
    "#aplicando as funções nas colunas\n",
    "CovidES['classificacao'] = CovidES['Classificacao'].apply(class_to_number)\n",
    "CovidES['evolucao'] = CovidES['Evolucao'].apply(evol_to_number)\n",
    "CovidES['escolaridade'] = CovidES['Escolaridade'].apply(schooling_to_number)"
   ]
  },
  {
   "cell_type": "code",
   "execution_count": 179,
   "id": "abaf6984",
   "metadata": {},
   "outputs": [
    {
     "name": "stdout",
     "output_type": "stream",
     "text": [
      "Contagem de incidências na coluna Sexo? \n",
      " F    1817624\n",
      "M    1495727\n",
      "I        744\n",
      "Name: Sexo, dtype: int64\n",
      "\n",
      "\n"
     ]
    }
   ],
   "source": [
    "#3.2.7 do documento\n",
    "print('Contagem de incidências na coluna Sexo? \\n',CovidES['Sexo'].value_counts())\n",
    "print('\\n')"
   ]
  },
  {
   "cell_type": "code",
   "execution_count": 180,
   "id": "81e33599",
   "metadata": {},
   "outputs": [],
   "source": [
    "#criando uma função para converter sexo para numeros\n",
    "def sex_to_number(base):\n",
    "    if(base == 'F'):\n",
    "        return 0\n",
    "    elif(base =='M'):\n",
    "        return 1\n",
    "    elif(base =='I'):\n",
    "        return 2\n",
    "    else:\n",
    "        np.nan\n",
    "        "
   ]
  },
  {
   "cell_type": "code",
   "execution_count": 181,
   "id": "bf3fab34",
   "metadata": {},
   "outputs": [],
   "source": [
    "#será \n",
    "# 0 - F\n",
    "# 1 - M\n",
    "# 2 - I\n",
    "\n",
    "CovidES['sexo'] = CovidES['Sexo'].apply(sex_to_number)"
   ]
  },
  {
   "cell_type": "code",
   "execution_count": 182,
   "id": "383abd24",
   "metadata": {},
   "outputs": [],
   "source": [
    "#removendo os resultados de testes, pois serao controlados de acordo com a Classificação\n",
    "CovidES = CovidES.drop(columns=['ResultadoRT_PCR', 'ResultadoTesteRapido', 'ResultadoSorologia','ResultadoSorologia_IGG', 'TipoTesteRapido',])"
   ]
  },
  {
   "cell_type": "code",
   "execution_count": 183,
   "id": "ae9130d1",
   "metadata": {},
   "outputs": [
    {
     "data": {
      "text/plain": [
       "Index(['Classificacao', 'Evolucao', 'Municipio', 'Bairro', 'FaixaEtaria',\n",
       "       'IdadeNaDataNotificacao', 'Sexo', 'RacaCor', 'Escolaridade', 'Febre_n',\n",
       "       'Tosse_n', 'Coriza_n', 'DorGarganta_n', 'Diarreia_n', 'Cefaleia_n',\n",
       "       'DificuldadeRespiratoria_n', 'dataNotificacao', 'dataCadastro',\n",
       "       'comorbidadePulmao', 'comorbidadeCardio', 'comorbidadeRenal',\n",
       "       'comorbidadeDiabetes', 'comorbidadeTabagismo', 'comorbidadeObesidade',\n",
       "       'classificacao', 'evolucao', 'escolaridade', 'sexo'],\n",
       "      dtype='object')"
      ]
     },
     "execution_count": 183,
     "metadata": {},
     "output_type": "execute_result"
    }
   ],
   "source": [
    "CovidES.columns"
   ]
  },
  {
   "cell_type": "code",
   "execution_count": 184,
   "id": "7cf8482a",
   "metadata": {},
   "outputs": [
    {
     "name": "stdout",
     "output_type": "stream",
     "text": [
      "Contagem de incidências na coluna Raca Cor? \n",
      " Parda       1127893\n",
      "Branca       932857\n",
      "Ignorado     874958\n",
      "Amarela      192778\n",
      "Preta        178225\n",
      "Indigena       7384\n",
      "Name: RacaCor, dtype: int64\n",
      "\n",
      "\n"
     ]
    }
   ],
   "source": [
    "# 3.2.8 - DO DOCUMENTO\n",
    "print('Contagem de incidências na coluna Raca Cor? \\n',CovidES['RacaCor'].value_counts())\n",
    "print('\\n')"
   ]
  },
  {
   "cell_type": "code",
   "execution_count": 185,
   "id": "d5b182b3",
   "metadata": {},
   "outputs": [],
   "source": [
    "#função que transforma raça e cor para numero\n",
    "def race_to_number(base):\n",
    "    if(base == 'Parda'):\n",
    "        return 0\n",
    "    elif(base == 'Branca'): \n",
    "        return 1\n",
    "    elif(base == 'Ignorado'):\n",
    "        return -1\n",
    "    elif(base == 'Amarela'):\n",
    "        return 2\n",
    "    elif(base == 'Preta'):\n",
    "        return 3\n",
    "    elif(base == 'Indigena'):\n",
    "        return 4\n",
    "    else: \n",
    "        np.nan"
   ]
  },
  {
   "cell_type": "code",
   "execution_count": 186,
   "id": "83ad2740",
   "metadata": {},
   "outputs": [],
   "source": [
    "#aplicando a função na nova coluna\n",
    "CovidES['raca_cor'] = CovidES['RacaCor'].apply(race_to_number)"
   ]
  },
  {
   "cell_type": "code",
   "execution_count": 187,
   "id": "b8db6ccb",
   "metadata": {},
   "outputs": [
    {
     "data": {
      "text/plain": [
       "0      43 anos, 10 meses, 10 dias\n",
       "1       40 anos, 11 meses, 7 dias\n",
       "2       30 anos, 9 meses, 25 dias\n",
       "3       61 anos, 0 meses, 19 dias\n",
       "4       49 anos, 3 meses, 30 dias\n",
       "                  ...            \n",
       "97      15 anos, 5 meses, 21 dias\n",
       "98      30 anos, 2 meses, 14 dias\n",
       "99      37 anos, 5 meses, 12 dias\n",
       "100     32 anos, 9 meses, 15 dias\n",
       "101      35 anos, 0 meses, 2 dias\n",
       "Name: IdadeNaDataNotificacao, Length: 100, dtype: object"
      ]
     },
     "execution_count": 187,
     "metadata": {},
     "output_type": "execute_result"
    }
   ],
   "source": [
    "CovidES.head(100)['IdadeNaDataNotificacao']"
   ]
  },
  {
   "cell_type": "code",
   "execution_count": 188,
   "id": "550e5a68",
   "metadata": {},
   "outputs": [],
   "source": [
    "#importando string \n",
    "import string"
   ]
  },
  {
   "cell_type": "code",
   "execution_count": 189,
   "id": "8c5a18fe",
   "metadata": {},
   "outputs": [],
   "source": [
    "#criando função para recuperar a idade da String\n",
    "def get_idade(base):\n",
    "        base.strip()\n",
    "        idade = base[0:2]\n",
    "        return int(idade)\n",
    "    \n",
    "    "
   ]
  },
  {
   "cell_type": "code",
   "execution_count": 190,
   "id": "77ed984d",
   "metadata": {},
   "outputs": [],
   "source": [
    "#aplicando a função na nova base\n",
    "CovidES['idade'] = CovidES['IdadeNaDataNotificacao'].apply(get_idade)"
   ]
  },
  {
   "cell_type": "code",
   "execution_count": 191,
   "id": "e92a5a63",
   "metadata": {},
   "outputs": [
    {
     "data": {
      "text/html": [
       "<div>\n",
       "<style scoped>\n",
       "    .dataframe tbody tr th:only-of-type {\n",
       "        vertical-align: middle;\n",
       "    }\n",
       "\n",
       "    .dataframe tbody tr th {\n",
       "        vertical-align: top;\n",
       "    }\n",
       "\n",
       "    .dataframe thead th {\n",
       "        text-align: right;\n",
       "    }\n",
       "</style>\n",
       "<table border=\"1\" class=\"dataframe\">\n",
       "  <thead>\n",
       "    <tr style=\"text-align: right;\">\n",
       "      <th></th>\n",
       "      <th>Classificacao</th>\n",
       "      <th>Evolucao</th>\n",
       "      <th>Municipio</th>\n",
       "      <th>Bairro</th>\n",
       "      <th>FaixaEtaria</th>\n",
       "      <th>IdadeNaDataNotificacao</th>\n",
       "      <th>Sexo</th>\n",
       "      <th>RacaCor</th>\n",
       "      <th>Escolaridade</th>\n",
       "      <th>Febre_n</th>\n",
       "      <th>...</th>\n",
       "      <th>comorbidadeRenal</th>\n",
       "      <th>comorbidadeDiabetes</th>\n",
       "      <th>comorbidadeTabagismo</th>\n",
       "      <th>comorbidadeObesidade</th>\n",
       "      <th>classificacao</th>\n",
       "      <th>evolucao</th>\n",
       "      <th>escolaridade</th>\n",
       "      <th>sexo</th>\n",
       "      <th>raca_cor</th>\n",
       "      <th>idade</th>\n",
       "    </tr>\n",
       "  </thead>\n",
       "  <tbody>\n",
       "    <tr>\n",
       "      <th>0</th>\n",
       "      <td>Confirmados</td>\n",
       "      <td>Ignorado</td>\n",
       "      <td>PIUMA</td>\n",
       "      <td>NOVA ESPERANÇA</td>\n",
       "      <td>40 a 49 anos</td>\n",
       "      <td>43 anos, 10 meses, 10 dias</td>\n",
       "      <td>M</td>\n",
       "      <td>Preta</td>\n",
       "      <td>4ª série completa do EF (antigo primário ou 1º...</td>\n",
       "      <td>0</td>\n",
       "      <td>...</td>\n",
       "      <td>0</td>\n",
       "      <td>0</td>\n",
       "      <td>1</td>\n",
       "      <td>0</td>\n",
       "      <td>0</td>\n",
       "      <td>-1</td>\n",
       "      <td>6</td>\n",
       "      <td>1</td>\n",
       "      <td>3</td>\n",
       "      <td>43</td>\n",
       "    </tr>\n",
       "    <tr>\n",
       "      <th>1</th>\n",
       "      <td>Suspeito</td>\n",
       "      <td>Ignorado</td>\n",
       "      <td>SERRA</td>\n",
       "      <td>PARQUE JACARAÍPE</td>\n",
       "      <td>40 a 49 anos</td>\n",
       "      <td>40 anos, 11 meses, 7 dias</td>\n",
       "      <td>F</td>\n",
       "      <td>Ignorado</td>\n",
       "      <td>Ignorado</td>\n",
       "      <td>0</td>\n",
       "      <td>...</td>\n",
       "      <td>0</td>\n",
       "      <td>0</td>\n",
       "      <td>0</td>\n",
       "      <td>0</td>\n",
       "      <td>1</td>\n",
       "      <td>-1</td>\n",
       "      <td>10</td>\n",
       "      <td>0</td>\n",
       "      <td>-1</td>\n",
       "      <td>40</td>\n",
       "    </tr>\n",
       "    <tr>\n",
       "      <th>2</th>\n",
       "      <td>Confirmados</td>\n",
       "      <td>Ignorado</td>\n",
       "      <td>VITORIA</td>\n",
       "      <td>SANTA LÚCIA</td>\n",
       "      <td>30 a 39 anos</td>\n",
       "      <td>30 anos, 9 meses, 25 dias</td>\n",
       "      <td>F</td>\n",
       "      <td>Branca</td>\n",
       "      <td>Ignorado</td>\n",
       "      <td>0</td>\n",
       "      <td>...</td>\n",
       "      <td>0</td>\n",
       "      <td>0</td>\n",
       "      <td>0</td>\n",
       "      <td>0</td>\n",
       "      <td>0</td>\n",
       "      <td>-1</td>\n",
       "      <td>10</td>\n",
       "      <td>0</td>\n",
       "      <td>1</td>\n",
       "      <td>30</td>\n",
       "    </tr>\n",
       "    <tr>\n",
       "      <th>3</th>\n",
       "      <td>Confirmados</td>\n",
       "      <td>Ignorado</td>\n",
       "      <td>PIUMA</td>\n",
       "      <td>JARDIM MAILY</td>\n",
       "      <td>60 a 69 anos</td>\n",
       "      <td>61 anos, 0 meses, 19 dias</td>\n",
       "      <td>F</td>\n",
       "      <td>Branca</td>\n",
       "      <td>4ª série completa do EF (antigo primário ou 1º...</td>\n",
       "      <td>0</td>\n",
       "      <td>...</td>\n",
       "      <td>0</td>\n",
       "      <td>0</td>\n",
       "      <td>0</td>\n",
       "      <td>1</td>\n",
       "      <td>0</td>\n",
       "      <td>-1</td>\n",
       "      <td>6</td>\n",
       "      <td>0</td>\n",
       "      <td>1</td>\n",
       "      <td>61</td>\n",
       "    </tr>\n",
       "    <tr>\n",
       "      <th>4</th>\n",
       "      <td>Suspeito</td>\n",
       "      <td>-</td>\n",
       "      <td>MUNIZ FREIRE</td>\n",
       "      <td>CENTRO</td>\n",
       "      <td>40 a 49 anos</td>\n",
       "      <td>49 anos, 3 meses, 30 dias</td>\n",
       "      <td>F</td>\n",
       "      <td>Parda</td>\n",
       "      <td>Ignorado</td>\n",
       "      <td>0</td>\n",
       "      <td>...</td>\n",
       "      <td>0</td>\n",
       "      <td>0</td>\n",
       "      <td>0</td>\n",
       "      <td>0</td>\n",
       "      <td>1</td>\n",
       "      <td>-1</td>\n",
       "      <td>10</td>\n",
       "      <td>0</td>\n",
       "      <td>0</td>\n",
       "      <td>49</td>\n",
       "    </tr>\n",
       "    <tr>\n",
       "      <th>5</th>\n",
       "      <td>Confirmados</td>\n",
       "      <td>Ignorado</td>\n",
       "      <td>PIUMA</td>\n",
       "      <td>NOVA ESPERANÇA</td>\n",
       "      <td>0 a 4 anos</td>\n",
       "      <td>4 anos, 8 meses, 18 dias</td>\n",
       "      <td>M</td>\n",
       "      <td>Branca</td>\n",
       "      <td>Não se aplica</td>\n",
       "      <td>1</td>\n",
       "      <td>...</td>\n",
       "      <td>0</td>\n",
       "      <td>0</td>\n",
       "      <td>0</td>\n",
       "      <td>0</td>\n",
       "      <td>0</td>\n",
       "      <td>-1</td>\n",
       "      <td>9</td>\n",
       "      <td>1</td>\n",
       "      <td>1</td>\n",
       "      <td>4</td>\n",
       "    </tr>\n",
       "    <tr>\n",
       "      <th>6</th>\n",
       "      <td>Suspeito</td>\n",
       "      <td>-</td>\n",
       "      <td>VITORIA</td>\n",
       "      <td>UNIVERSITÁRIO</td>\n",
       "      <td>40 a 49 anos</td>\n",
       "      <td>40 anos, 9 meses, 15 dias</td>\n",
       "      <td>F</td>\n",
       "      <td>Ignorado</td>\n",
       "      <td>Ignorado</td>\n",
       "      <td>0</td>\n",
       "      <td>...</td>\n",
       "      <td>0</td>\n",
       "      <td>0</td>\n",
       "      <td>0</td>\n",
       "      <td>0</td>\n",
       "      <td>1</td>\n",
       "      <td>-1</td>\n",
       "      <td>10</td>\n",
       "      <td>0</td>\n",
       "      <td>-1</td>\n",
       "      <td>40</td>\n",
       "    </tr>\n",
       "    <tr>\n",
       "      <th>7</th>\n",
       "      <td>Suspeito</td>\n",
       "      <td>Ignorado</td>\n",
       "      <td>PIUMA</td>\n",
       "      <td>NITEROI</td>\n",
       "      <td>40 a 49 anos</td>\n",
       "      <td>45 anos, 9 meses, 20 dias</td>\n",
       "      <td>F</td>\n",
       "      <td>Branca</td>\n",
       "      <td>Ensino médio completo (antigo colegial ou 2º g...</td>\n",
       "      <td>0</td>\n",
       "      <td>...</td>\n",
       "      <td>0</td>\n",
       "      <td>0</td>\n",
       "      <td>0</td>\n",
       "      <td>0</td>\n",
       "      <td>1</td>\n",
       "      <td>-1</td>\n",
       "      <td>-1</td>\n",
       "      <td>0</td>\n",
       "      <td>1</td>\n",
       "      <td>45</td>\n",
       "    </tr>\n",
       "    <tr>\n",
       "      <th>8</th>\n",
       "      <td>Descartados</td>\n",
       "      <td>-</td>\n",
       "      <td>VILA VELHA</td>\n",
       "      <td>ULISSES GUIMARÃES</td>\n",
       "      <td>70 a 79 anos</td>\n",
       "      <td>74 anos, 7 meses, 6 dias</td>\n",
       "      <td>F</td>\n",
       "      <td>Parda</td>\n",
       "      <td>Ensino médio completo (antigo colegial ou 2º g...</td>\n",
       "      <td>0</td>\n",
       "      <td>...</td>\n",
       "      <td>0</td>\n",
       "      <td>1</td>\n",
       "      <td>0</td>\n",
       "      <td>0</td>\n",
       "      <td>2</td>\n",
       "      <td>-1</td>\n",
       "      <td>-1</td>\n",
       "      <td>0</td>\n",
       "      <td>0</td>\n",
       "      <td>74</td>\n",
       "    </tr>\n",
       "    <tr>\n",
       "      <th>9</th>\n",
       "      <td>Suspeito</td>\n",
       "      <td>Ignorado</td>\n",
       "      <td>PIUMA</td>\n",
       "      <td>PRAIA DE ACAIACA</td>\n",
       "      <td>30 a 39 anos</td>\n",
       "      <td>30 anos, 2 meses, 28 dias</td>\n",
       "      <td>M</td>\n",
       "      <td>Branca</td>\n",
       "      <td>Educação superior completa</td>\n",
       "      <td>1</td>\n",
       "      <td>...</td>\n",
       "      <td>0</td>\n",
       "      <td>0</td>\n",
       "      <td>0</td>\n",
       "      <td>0</td>\n",
       "      <td>1</td>\n",
       "      <td>-1</td>\n",
       "      <td>1</td>\n",
       "      <td>1</td>\n",
       "      <td>1</td>\n",
       "      <td>30</td>\n",
       "    </tr>\n",
       "  </tbody>\n",
       "</table>\n",
       "<p>10 rows × 30 columns</p>\n",
       "</div>"
      ],
      "text/plain": [
       "  Classificacao  Evolucao     Municipio             Bairro   FaixaEtaria  \\\n",
       "0   Confirmados  Ignorado         PIUMA     NOVA ESPERANÇA  40 a 49 anos   \n",
       "1      Suspeito  Ignorado         SERRA   PARQUE JACARAÍPE  40 a 49 anos   \n",
       "2   Confirmados  Ignorado       VITORIA        SANTA LÚCIA  30 a 39 anos   \n",
       "3   Confirmados  Ignorado         PIUMA       JARDIM MAILY  60 a 69 anos   \n",
       "4      Suspeito         -  MUNIZ FREIRE             CENTRO  40 a 49 anos   \n",
       "5   Confirmados  Ignorado         PIUMA     NOVA ESPERANÇA    0 a 4 anos   \n",
       "6      Suspeito         -       VITORIA      UNIVERSITÁRIO  40 a 49 anos   \n",
       "7      Suspeito  Ignorado         PIUMA            NITEROI  40 a 49 anos   \n",
       "8   Descartados         -    VILA VELHA  ULISSES GUIMARÃES  70 a 79 anos   \n",
       "9      Suspeito  Ignorado         PIUMA   PRAIA DE ACAIACA  30 a 39 anos   \n",
       "\n",
       "       IdadeNaDataNotificacao Sexo   RacaCor  \\\n",
       "0  43 anos, 10 meses, 10 dias    M     Preta   \n",
       "1   40 anos, 11 meses, 7 dias    F  Ignorado   \n",
       "2   30 anos, 9 meses, 25 dias    F    Branca   \n",
       "3   61 anos, 0 meses, 19 dias    F    Branca   \n",
       "4   49 anos, 3 meses, 30 dias    F     Parda   \n",
       "5    4 anos, 8 meses, 18 dias    M    Branca   \n",
       "6   40 anos, 9 meses, 15 dias    F  Ignorado   \n",
       "7   45 anos, 9 meses, 20 dias    F    Branca   \n",
       "8    74 anos, 7 meses, 6 dias    F     Parda   \n",
       "9   30 anos, 2 meses, 28 dias    M    Branca   \n",
       "\n",
       "                                        Escolaridade  Febre_n  ...  \\\n",
       "0  4ª série completa do EF (antigo primário ou 1º...        0  ...   \n",
       "1                                           Ignorado        0  ...   \n",
       "2                                           Ignorado        0  ...   \n",
       "3  4ª série completa do EF (antigo primário ou 1º...        0  ...   \n",
       "4                                           Ignorado        0  ...   \n",
       "5                                      Não se aplica        1  ...   \n",
       "6                                           Ignorado        0  ...   \n",
       "7  Ensino médio completo (antigo colegial ou 2º g...        0  ...   \n",
       "8  Ensino médio completo (antigo colegial ou 2º g...        0  ...   \n",
       "9                         Educação superior completa        1  ...   \n",
       "\n",
       "   comorbidadeRenal  comorbidadeDiabetes  comorbidadeTabagismo  \\\n",
       "0                 0                    0                     1   \n",
       "1                 0                    0                     0   \n",
       "2                 0                    0                     0   \n",
       "3                 0                    0                     0   \n",
       "4                 0                    0                     0   \n",
       "5                 0                    0                     0   \n",
       "6                 0                    0                     0   \n",
       "7                 0                    0                     0   \n",
       "8                 0                    1                     0   \n",
       "9                 0                    0                     0   \n",
       "\n",
       "   comorbidadeObesidade  classificacao  evolucao escolaridade sexo  raca_cor  \\\n",
       "0                     0              0        -1            6    1         3   \n",
       "1                     0              1        -1           10    0        -1   \n",
       "2                     0              0        -1           10    0         1   \n",
       "3                     1              0        -1            6    0         1   \n",
       "4                     0              1        -1           10    0         0   \n",
       "5                     0              0        -1            9    1         1   \n",
       "6                     0              1        -1           10    0        -1   \n",
       "7                     0              1        -1           -1    0         1   \n",
       "8                     0              2        -1           -1    0         0   \n",
       "9                     0              1        -1            1    1         1   \n",
       "\n",
       "   idade  \n",
       "0     43  \n",
       "1     40  \n",
       "2     30  \n",
       "3     61  \n",
       "4     49  \n",
       "5      4  \n",
       "6     40  \n",
       "7     45  \n",
       "8     74  \n",
       "9     30  \n",
       "\n",
       "[10 rows x 30 columns]"
      ]
     },
     "execution_count": 191,
     "metadata": {},
     "output_type": "execute_result"
    }
   ],
   "source": [
    "CovidES.head(10)"
   ]
  },
  {
   "cell_type": "code",
   "execution_count": 192,
   "id": "b078a432",
   "metadata": {},
   "outputs": [
    {
     "data": {
      "text/plain": [
       "Index(['Classificacao', 'Evolucao', 'Municipio', 'Bairro', 'FaixaEtaria',\n",
       "       'IdadeNaDataNotificacao', 'Sexo', 'RacaCor', 'Escolaridade', 'Febre_n',\n",
       "       'Tosse_n', 'Coriza_n', 'DorGarganta_n', 'Diarreia_n', 'Cefaleia_n',\n",
       "       'DificuldadeRespiratoria_n', 'dataNotificacao', 'dataCadastro',\n",
       "       'comorbidadePulmao', 'comorbidadeCardio', 'comorbidadeRenal',\n",
       "       'comorbidadeDiabetes', 'comorbidadeTabagismo', 'comorbidadeObesidade',\n",
       "       'classificacao', 'evolucao', 'escolaridade', 'sexo', 'raca_cor',\n",
       "       'idade'],\n",
       "      dtype='object')"
      ]
     },
     "execution_count": 192,
     "metadata": {},
     "output_type": "execute_result"
    }
   ],
   "source": [
    "CovidES.columns"
   ]
  },
  {
   "cell_type": "code",
   "execution_count": 193,
   "id": "6d4750bd",
   "metadata": {},
   "outputs": [],
   "source": [
    "CovidES.drop(columns=[ 'Municipio', 'Bairro'],inplace=True)"
   ]
  },
  {
   "cell_type": "code",
   "execution_count": 194,
   "id": "35184833",
   "metadata": {},
   "outputs": [],
   "source": [
    "#remoção de valores duplicados\n",
    "CovidES=CovidES.drop_duplicates()"
   ]
  },
  {
   "cell_type": "code",
   "execution_count": 195,
   "id": "49c11a18",
   "metadata": {},
   "outputs": [
    {
     "name": "stdout",
     "output_type": "stream",
     "text": [
      "<class 'pandas.core.frame.DataFrame'>\n",
      "Int64Index: 3293696 entries, 0 to 3348698\n",
      "Data columns (total 28 columns):\n",
      " #   Column                     Dtype         \n",
      "---  ------                     -----         \n",
      " 0   Classificacao              object        \n",
      " 1   Evolucao                   object        \n",
      " 2   FaixaEtaria                object        \n",
      " 3   IdadeNaDataNotificacao     object        \n",
      " 4   Sexo                       object        \n",
      " 5   RacaCor                    object        \n",
      " 6   Escolaridade               object        \n",
      " 7   Febre_n                    int64         \n",
      " 8   Tosse_n                    int64         \n",
      " 9   Coriza_n                   int64         \n",
      " 10  DorGarganta_n              int64         \n",
      " 11  Diarreia_n                 int64         \n",
      " 12  Cefaleia_n                 int64         \n",
      " 13  DificuldadeRespiratoria_n  int64         \n",
      " 14  dataNotificacao            datetime64[ns]\n",
      " 15  dataCadastro               datetime64[ns]\n",
      " 16  comorbidadePulmao          int64         \n",
      " 17  comorbidadeCardio          int64         \n",
      " 18  comorbidadeRenal           int64         \n",
      " 19  comorbidadeDiabetes        int64         \n",
      " 20  comorbidadeTabagismo       int64         \n",
      " 21  comorbidadeObesidade       int64         \n",
      " 22  classificacao              int64         \n",
      " 23  evolucao                   int64         \n",
      " 24  escolaridade               int64         \n",
      " 25  sexo                       int64         \n",
      " 26  raca_cor                   int64         \n",
      " 27  idade                      int64         \n",
      "dtypes: datetime64[ns](2), int64(19), object(7)\n",
      "memory usage: 728.7+ MB\n"
     ]
    }
   ],
   "source": [
    "#por interesses proprios resolvi guardar algumas colunas que poderiam ter sido eliminadas\n",
    "CovidES.info()"
   ]
  },
  {
   "cell_type": "markdown",
   "id": "f30e7918",
   "metadata": {},
   "source": [
    "# Explorando dados "
   ]
  },
  {
   "cell_type": "code",
   "execution_count": 196,
   "id": "d5df481a",
   "metadata": {},
   "outputs": [],
   "source": [
    "confirmados = CovidES[CovidES['Classificacao']=='Confirmados']"
   ]
  },
  {
   "cell_type": "code",
   "execution_count": 197,
   "id": "665852a8",
   "metadata": {},
   "outputs": [
    {
     "data": {
      "text/plain": [
       "<AxesSubplot:xlabel='dataCadastro'>"
      ]
     },
     "execution_count": 197,
     "metadata": {},
     "output_type": "execute_result"
    },
    {
     "data": {
      "image/png": "[encoded data removed]",
      "text/plain": [
       "<Figure size 864x576 with 1 Axes>"
      ]
     },
     "metadata": {
      "needs_background": "light"
     },
     "output_type": "display_data"
    }
   ],
   "source": [
    "#Cadastros de casos confirmados\n",
    "plt.figure(figsize=(12,8))\n",
    "confirmados.groupby(by='dataCadastro')['Classificacao'].count().plot()"
   ]
  },
  {
   "cell_type": "code",
   "execution_count": 198,
   "id": "c4d7ad62",
   "metadata": {},
   "outputs": [],
   "source": [
    "#Variavel que recebera os dados para analises de series temporais\n",
    "temporal_es = confirmados.groupby(by='dataCadastro')['Classificacao'].count()"
   ]
  },
  {
   "cell_type": "code",
   "execution_count": 199,
   "id": "a4368dbd",
   "metadata": {},
   "outputs": [],
   "source": [
    "temporal_es = pd.DataFrame(temporal_es)"
   ]
  },
  {
   "cell_type": "code",
   "execution_count": 200,
   "id": "e9751fb2",
   "metadata": {},
   "outputs": [
    {
     "data": {
      "text/html": [
       "<div>\n",
       "<style scoped>\n",
       "    .dataframe tbody tr th:only-of-type {\n",
       "        vertical-align: middle;\n",
       "    }\n",
       "\n",
       "    .dataframe tbody tr th {\n",
       "        vertical-align: top;\n",
       "    }\n",
       "\n",
       "    .dataframe thead th {\n",
       "        text-align: right;\n",
       "    }\n",
       "</style>\n",
       "<table border=\"1\" class=\"dataframe\">\n",
       "  <thead>\n",
       "    <tr style=\"text-align: right;\">\n",
       "      <th></th>\n",
       "      <th>Classificacao</th>\n",
       "    </tr>\n",
       "    <tr>\n",
       "      <th>dataCadastro</th>\n",
       "      <th></th>\n",
       "    </tr>\n",
       "  </thead>\n",
       "  <tbody>\n",
       "    <tr>\n",
       "      <th>2020-03-26</th>\n",
       "      <td>1</td>\n",
       "    </tr>\n",
       "    <tr>\n",
       "      <th>2020-03-30</th>\n",
       "      <td>20</td>\n",
       "    </tr>\n",
       "    <tr>\n",
       "      <th>2020-03-31</th>\n",
       "      <td>15</td>\n",
       "    </tr>\n",
       "    <tr>\n",
       "      <th>2020-04-01</th>\n",
       "      <td>18</td>\n",
       "    </tr>\n",
       "    <tr>\n",
       "      <th>2020-04-02</th>\n",
       "      <td>14</td>\n",
       "    </tr>\n",
       "    <tr>\n",
       "      <th>...</th>\n",
       "      <td>...</td>\n",
       "    </tr>\n",
       "    <tr>\n",
       "      <th>2022-02-18</th>\n",
       "      <td>3658</td>\n",
       "    </tr>\n",
       "    <tr>\n",
       "      <th>2022-02-19</th>\n",
       "      <td>866</td>\n",
       "    </tr>\n",
       "    <tr>\n",
       "      <th>2022-02-20</th>\n",
       "      <td>706</td>\n",
       "    </tr>\n",
       "    <tr>\n",
       "      <th>2022-02-21</th>\n",
       "      <td>4119</td>\n",
       "    </tr>\n",
       "    <tr>\n",
       "      <th>2022-02-22</th>\n",
       "      <td>2537</td>\n",
       "    </tr>\n",
       "  </tbody>\n",
       "</table>\n",
       "<p>696 rows × 1 columns</p>\n",
       "</div>"
      ],
      "text/plain": [
       "              Classificacao\n",
       "dataCadastro               \n",
       "2020-03-26                1\n",
       "2020-03-30               20\n",
       "2020-03-31               15\n",
       "2020-04-01               18\n",
       "2020-04-02               14\n",
       "...                     ...\n",
       "2022-02-18             3658\n",
       "2022-02-19              866\n",
       "2022-02-20              706\n",
       "2022-02-21             4119\n",
       "2022-02-22             2537\n",
       "\n",
       "[696 rows x 1 columns]"
      ]
     },
     "execution_count": 200,
     "metadata": {},
     "output_type": "execute_result"
    }
   ],
   "source": [
    "temporal_es"
   ]
  },
  {
   "cell_type": "code",
   "execution_count": 201,
   "id": "43d5838b",
   "metadata": {},
   "outputs": [
    {
     "data": {
      "text/plain": [
       "<AxesSubplot:xlabel='idade', ylabel='Count'>"
      ]
     },
     "execution_count": 201,
     "metadata": {},
     "output_type": "execute_result"
    },
    {
     "data": {
      "image/png": "[encoded data removed]",
      "text/plain": [
       "<Figure size 576x432 with 1 Axes>"
      ]
     },
     "metadata": {
      "needs_background": "light"
     },
     "output_type": "display_data"
    }
   ],
   "source": [
    "#histograma de idade\n",
    "plt.figure(figsize=(8,6))\n",
    "sns.histplot(x='idade',data=confirmados)"
   ]
  },
  {
   "cell_type": "code",
   "execution_count": 202,
   "id": "d6513bbe",
   "metadata": {},
   "outputs": [
    {
     "data": {
      "text/plain": [
       "<AxesSubplot:xlabel='RacaCor', ylabel='count'>"
      ]
     },
     "execution_count": 202,
     "metadata": {},
     "output_type": "execute_result"
    },
    {
     "data": {
      "image/png": "[encoded data removed]",
      "text/plain": [
       "<Figure size 576x432 with 1 Axes>"
      ]
     },
     "metadata": {
      "needs_background": "light"
     },
     "output_type": "display_data"
    }
   ],
   "source": [
    "#Raça\n",
    "plt.figure(figsize=(8,6))\n",
    "sns.countplot(x=confirmados['RacaCor'],data=CovidES)"
   ]
  },
  {
   "cell_type": "code",
   "execution_count": 203,
   "id": "c91dd816",
   "metadata": {},
   "outputs": [
    {
     "data": {
      "text/plain": [
       "<AxesSubplot:xlabel='Febre_n', ylabel='count'>"
      ]
     },
     "execution_count": 203,
     "metadata": {},
     "output_type": "execute_result"
    },
    {
     "data": {
      "image/png": "[encoded data removed]",
      "text/plain": [
       "<Figure size 432x288 with 1 Axes>"
      ]
     },
     "metadata": {
      "needs_background": "light"
     },
     "output_type": "display_data"
    }
   ],
   "source": [
    "#Sintoma - Febre\n",
    "sns.countplot(x='Febre_n',data=confirmados)"
   ]
  },
  {
   "cell_type": "code",
   "execution_count": 204,
   "id": "a8fb1d2e",
   "metadata": {},
   "outputs": [
    {
     "data": {
      "text/plain": [
       "<AxesSubplot:xlabel='Tosse_n', ylabel='count'>"
      ]
     },
     "execution_count": 204,
     "metadata": {},
     "output_type": "execute_result"
    },
    {
     "data": {
      "image/png": "[encoded data removed]",
      "text/plain": [
       "<Figure size 432x288 with 1 Axes>"
      ]
     },
     "metadata": {
      "needs_background": "light"
     },
     "output_type": "display_data"
    }
   ],
   "source": [
    "#Sintoma - Tosse\n",
    "sns.countplot(x='Tosse_n',data=confirmados)"
   ]
  },
  {
   "cell_type": "code",
   "execution_count": 205,
   "id": "dfb48a6a",
   "metadata": {},
   "outputs": [
    {
     "data": {
      "text/plain": [
       "<AxesSubplot:xlabel='Coriza_n', ylabel='count'>"
      ]
     },
     "execution_count": 205,
     "metadata": {},
     "output_type": "execute_result"
    },
    {
     "data": {
      "image/png": "[encoded data removed]",
      "text/plain": [
       "<Figure size 432x288 with 1 Axes>"
      ]
     },
     "metadata": {
      "needs_background": "light"
     },
     "output_type": "display_data"
    }
   ],
   "source": [
    "#Sintoma - Coriza\n",
    "sns.countplot(x='Coriza_n',data=confirmados)"
   ]
  },
  {
   "cell_type": "code",
   "execution_count": 206,
   "id": "d4905363",
   "metadata": {},
   "outputs": [
    {
     "data": {
      "text/plain": [
       "<AxesSubplot:xlabel='Diarreia_n', ylabel='count'>"
      ]
     },
     "execution_count": 206,
     "metadata": {},
     "output_type": "execute_result"
    },
    {
     "data": {
      "image/png": "[encoded data removed]",
      "text/plain": [
       "<Figure size 432x288 with 1 Axes>"
      ]
     },
     "metadata": {
      "needs_background": "light"
     },
     "output_type": "display_data"
    }
   ],
   "source": [
    "#Sintoma - Diarreia\n",
    "sns.countplot(x='Diarreia_n',data=confirmados)"
   ]
  },
  {
   "cell_type": "code",
   "execution_count": 207,
   "id": "9de40177",
   "metadata": {},
   "outputs": [
    {
     "data": {
      "text/plain": [
       "<AxesSubplot:xlabel='DorGarganta_n', ylabel='count'>"
      ]
     },
     "execution_count": 207,
     "metadata": {},
     "output_type": "execute_result"
    },
    {
     "data": {
      "image/png": "[encoded data removed]",
      "text/plain": [
       "<Figure size 432x288 with 1 Axes>"
      ]
     },
     "metadata": {
      "needs_background": "light"
     },
     "output_type": "display_data"
    }
   ],
   "source": [
    "#Sintoma - Dor de garganta\n",
    "sns.countplot(x='DorGarganta_n',data=confirmados)"
   ]
  },
  {
   "cell_type": "code",
   "execution_count": 208,
   "id": "7f97077f",
   "metadata": {},
   "outputs": [
    {
     "data": {
      "text/plain": [
       "<AxesSubplot:xlabel='Cefaleia_n', ylabel='count'>"
      ]
     },
     "execution_count": 208,
     "metadata": {},
     "output_type": "execute_result"
    },
    {
     "data": {
      "image/png": "[encoded data removed]",
      "text/plain": [
       "<Figure size 432x288 with 1 Axes>"
      ]
     },
     "metadata": {
      "needs_background": "light"
     },
     "output_type": "display_data"
    }
   ],
   "source": [
    "#Sintoma -Cefaleia\n",
    "sns.countplot(x='Cefaleia_n',data=confirmados)"
   ]
  },
  {
   "cell_type": "code",
   "execution_count": 209,
   "id": "2fa2c996",
   "metadata": {},
   "outputs": [
    {
     "data": {
      "text/plain": [
       "<AxesSubplot:xlabel='DificuldadeRespiratoria_n', ylabel='count'>"
      ]
     },
     "execution_count": 209,
     "metadata": {},
     "output_type": "execute_result"
    },
    {
     "data": {
      "image/png": "[encoded data removed]",
      "text/plain": [
       "<Figure size 432x288 with 1 Axes>"
      ]
     },
     "metadata": {
      "needs_background": "light"
     },
     "output_type": "display_data"
    }
   ],
   "source": [
    "#Sintoma - Dificuldade Respiratória\n",
    "sns.countplot(x='DificuldadeRespiratoria_n',data=confirmados)"
   ]
  },
  {
   "cell_type": "code",
   "execution_count": 210,
   "id": "5059f858",
   "metadata": {},
   "outputs": [
    {
     "data": {
      "text/plain": [
       "<AxesSubplot:xlabel='comorbidadePulmao', ylabel='count'>"
      ]
     },
     "execution_count": 210,
     "metadata": {},
     "output_type": "execute_result"
    },
    {
     "data": {
      "image/png": "[encoded data removed]",
      "text/plain": [
       "<Figure size 432x288 with 1 Axes>"
      ]
     },
     "metadata": {
      "needs_background": "light"
     },
     "output_type": "display_data"
    }
   ],
   "source": [
    "#Comorbidade - Pulmonar\n",
    "sns.countplot(x='comorbidadePulmao',data=CovidES)"
   ]
  },
  {
   "cell_type": "code",
   "execution_count": 211,
   "id": "f654754b",
   "metadata": {},
   "outputs": [
    {
     "data": {
      "text/plain": [
       "<AxesSubplot:xlabel='comorbidadeCardio', ylabel='count'>"
      ]
     },
     "execution_count": 211,
     "metadata": {},
     "output_type": "execute_result"
    },
    {
     "data": {
      "image/png": "[encoded data removed]",
      "text/plain": [
       "<Figure size 432x288 with 1 Axes>"
      ]
     },
     "metadata": {
      "needs_background": "light"
     },
     "output_type": "display_data"
    }
   ],
   "source": [
    "#Comorbidade - Cardiaca\n",
    "sns.countplot(x='comorbidadeCardio',data=CovidES)"
   ]
  },
  {
   "cell_type": "code",
   "execution_count": 212,
   "id": "4e0e7ecd",
   "metadata": {},
   "outputs": [
    {
     "data": {
      "text/plain": [
       "<AxesSubplot:xlabel='comorbidadeRenal', ylabel='count'>"
      ]
     },
     "execution_count": 212,
     "metadata": {},
     "output_type": "execute_result"
    },
    {
     "data": {
      "image/png": "[encoded data removed]",
      "text/plain": [
       "<Figure size 432x288 with 1 Axes>"
      ]
     },
     "metadata": {
      "needs_background": "light"
     },
     "output_type": "display_data"
    }
   ],
   "source": [
    "#Comorbidade - Renal\n",
    "sns.countplot(x='comorbidadeRenal',data=CovidES)"
   ]
  },
  {
   "cell_type": "code",
   "execution_count": 213,
   "id": "dccf089f",
   "metadata": {},
   "outputs": [
    {
     "data": {
      "text/plain": [
       "<AxesSubplot:xlabel='comorbidadeDiabetes', ylabel='count'>"
      ]
     },
     "execution_count": 213,
     "metadata": {},
     "output_type": "execute_result"
    },
    {
     "data": {
      "image/png": "[encoded data removed]",
      "text/plain": [
       "<Figure size 432x288 with 1 Axes>"
      ]
     },
     "metadata": {
      "needs_background": "light"
     },
     "output_type": "display_data"
    }
   ],
   "source": [
    "#Comorbidade - Diabetes\n",
    "sns.countplot(x='comorbidadeDiabetes',data=CovidES)"
   ]
  },
  {
   "cell_type": "code",
   "execution_count": 214,
   "id": "40d5b191",
   "metadata": {},
   "outputs": [
    {
     "data": {
      "text/plain": [
       "<AxesSubplot:xlabel='comorbidadeTabagismo', ylabel='count'>"
      ]
     },
     "execution_count": 214,
     "metadata": {},
     "output_type": "execute_result"
    },
    {
     "data": {
      "image/png": "[encoded data removed]",
      "text/plain": [
       "<Figure size 432x288 with 1 Axes>"
      ]
     },
     "metadata": {
      "needs_background": "light"
     },
     "output_type": "display_data"
    }
   ],
   "source": [
    "#Comorbidade Tabagismo\n",
    "sns.countplot(x='comorbidadeTabagismo',data=CovidES)"
   ]
  },
  {
   "cell_type": "code",
   "execution_count": 215,
   "id": "91e7599c",
   "metadata": {},
   "outputs": [
    {
     "data": {
      "text/plain": [
       "<AxesSubplot:xlabel='comorbidadeObesidade', ylabel='count'>"
      ]
     },
     "execution_count": 215,
     "metadata": {},
     "output_type": "execute_result"
    },
    {
     "data": {
      "image/png": "[encoded data removed]",
      "text/plain": [
       "<Figure size 432x288 with 1 Axes>"
      ]
     },
     "metadata": {
      "needs_background": "light"
     },
     "output_type": "display_data"
    }
   ],
   "source": [
    "#Comorbidade Obesidade\n",
    "sns.countplot(x='comorbidadeObesidade',data=CovidES)"
   ]
  },
  {
   "cell_type": "markdown",
   "id": "b25265fc",
   "metadata": {},
   "source": [
    "# Aplicando o modelo"
   ]
  },
  {
   "cell_type": "code",
   "execution_count": 216,
   "id": "f16491ef",
   "metadata": {},
   "outputs": [],
   "source": [
    "correlacao = CovidES.corr()"
   ]
  },
  {
   "cell_type": "code",
   "execution_count": 217,
   "id": "cb000808",
   "metadata": {},
   "outputs": [
    {
     "data": {
      "text/plain": [
       "<AxesSubplot:>"
      ]
     },
     "execution_count": 217,
     "metadata": {},
     "output_type": "execute_result"
    },
    {
     "data": {
      "image/png": "[encoded data removed]",
      "text/plain": [
       "<Figure size 1008x576 with 2 Axes>"
      ]
     },
     "metadata": {
      "needs_background": "light"
     },
     "output_type": "display_data"
    }
   ],
   "source": [
    "plt.figure(figsize=(14,8))\n",
    "plot = sns.heatmap(correlacao, annot = True, fmt=\".1f\", linewidths=.6)\n",
    "plot"
   ]
  },
  {
   "cell_type": "code",
   "execution_count": 218,
   "id": "bd3c6e0d",
   "metadata": {},
   "outputs": [
    {
     "data": {
      "text/plain": [
       "2    1795808\n",
       "0    1009355\n",
       "1     488533\n",
       "Name: classificacao, dtype: int64"
      ]
     },
     "execution_count": 218,
     "metadata": {},
     "output_type": "execute_result"
    }
   ],
   "source": [
    "CovidES['classificacao'].value_counts()"
   ]
  },
  {
   "cell_type": "code",
   "execution_count": 219,
   "id": "4d3269d9",
   "metadata": {},
   "outputs": [],
   "source": [
    "#criando um novo dataset com valores padronizados de classificação\n",
    "classifier_covid  = CovidES[CovidES['classificacao']==0].sample(n=500000)"
   ]
  },
  {
   "cell_type": "code",
   "execution_count": 220,
   "id": "84e5348c",
   "metadata": {},
   "outputs": [],
   "source": [
    "#adicionando o mesmo numero de confirmados de forma aleatoria\n",
    "\n",
    "classifier_covid = classifier_covid.append(CovidES[CovidES['classificacao'] == 2].sample(n=500000))"
   ]
  },
  {
   "cell_type": "code",
   "execution_count": 221,
   "id": "6e821457",
   "metadata": {},
   "outputs": [
    {
     "data": {
      "text/plain": [
       "0    500000\n",
       "2    500000\n",
       "Name: classificacao, dtype: int64"
      ]
     },
     "execution_count": 221,
     "metadata": {},
     "output_type": "execute_result"
    }
   ],
   "source": [
    "#validando os valores\n",
    "classifier_covid['classificacao'].value_counts()"
   ]
  },
  {
   "cell_type": "code",
   "execution_count": 222,
   "id": "8120f928",
   "metadata": {},
   "outputs": [
    {
     "data": {
      "text/plain": [
       "Index(['Classificacao', 'Evolucao', 'FaixaEtaria', 'IdadeNaDataNotificacao',\n",
       "       'Sexo', 'RacaCor', 'Escolaridade', 'Febre_n', 'Tosse_n', 'Coriza_n',\n",
       "       'DorGarganta_n', 'Diarreia_n', 'Cefaleia_n',\n",
       "       'DificuldadeRespiratoria_n', 'dataNotificacao', 'dataCadastro',\n",
       "       'comorbidadePulmao', 'comorbidadeCardio', 'comorbidadeRenal',\n",
       "       'comorbidadeDiabetes', 'comorbidadeTabagismo', 'comorbidadeObesidade',\n",
       "       'classificacao', 'evolucao', 'escolaridade', 'sexo', 'raca_cor',\n",
       "       'idade'],\n",
       "      dtype='object')"
      ]
     },
     "execution_count": 222,
     "metadata": {},
     "output_type": "execute_result"
    }
   ],
   "source": [
    "classifier_covid.columns"
   ]
  },
  {
   "cell_type": "code",
   "execution_count": 223,
   "id": "03637b83",
   "metadata": {},
   "outputs": [],
   "source": [
    "#removendo colunas que nao serão utilizadas\n",
    "classifier_covid.drop(columns=['Classificacao', 'Evolucao', 'FaixaEtaria','IdadeNaDataNotificacao', 'Sexo', 'RacaCor', 'Escolaridade'],inplace=True)"
   ]
  },
  {
   "cell_type": "code",
   "execution_count": 225,
   "id": "3fbb4c8b",
   "metadata": {},
   "outputs": [],
   "source": [
    "#excluindo outras colunas que nao serao utilizadas no modelo\n",
    "classifier_covid.drop(columns=['dataCadastro','dataNotificacao'],inplace=True)"
   ]
  },
  {
   "cell_type": "code",
   "execution_count": 226,
   "id": "d9758c2c",
   "metadata": {},
   "outputs": [],
   "source": [
    "#removendo valores nulos\n",
    "classifier_covid.dropna(inplace=True)"
   ]
  },
  {
   "cell_type": "code",
   "execution_count": 227,
   "id": "d5edbce2",
   "metadata": {},
   "outputs": [
    {
     "data": {
      "text/plain": [
       "0    500000\n",
       "2    500000\n",
       "Name: classificacao, dtype: int64"
      ]
     },
     "execution_count": 227,
     "metadata": {},
     "output_type": "execute_result"
    }
   ],
   "source": [
    "#validando os valores\n",
    "classifier_covid['classificacao'].value_counts()"
   ]
  },
  {
   "cell_type": "code",
   "execution_count": 228,
   "id": "75b0cb26",
   "metadata": {},
   "outputs": [
    {
     "data": {
      "text/plain": [
       "Index(['Febre_n', 'Tosse_n', 'Coriza_n', 'DorGarganta_n', 'Diarreia_n',\n",
       "       'Cefaleia_n', 'DificuldadeRespiratoria_n', 'comorbidadePulmao',\n",
       "       'comorbidadeCardio', 'comorbidadeRenal', 'comorbidadeDiabetes',\n",
       "       'comorbidadeTabagismo', 'comorbidadeObesidade', 'classificacao',\n",
       "       'evolucao', 'escolaridade', 'sexo', 'raca_cor', 'idade'],\n",
       "      dtype='object')"
      ]
     },
     "execution_count": 228,
     "metadata": {},
     "output_type": "execute_result"
    }
   ],
   "source": [
    "classifier_covid.columns"
   ]
  },
  {
   "cell_type": "code",
   "execution_count": 229,
   "id": "eb573365",
   "metadata": {},
   "outputs": [],
   "source": [
    "#importando o train test split - Cria as bases de teste e treino do modelo\n",
    "from sklearn.model_selection import train_test_split"
   ]
  },
  {
   "cell_type": "code",
   "execution_count": 230,
   "id": "e163045d",
   "metadata": {},
   "outputs": [],
   "source": [
    "#criando as variaveis que receberão os valores de treino e test\n",
    "x_train,x_test,y_train,y_test = train_test_split(classifier_covid.drop(columns=['classificacao','escolaridade','evolucao','escolaridade','comorbidadeCardio','comorbidadeDiabetes','comorbidadeTabagismo','comorbidadeObesidade','comorbidadeRenal','comorbidadePulmao']),classifier_covid['classificacao'],test_size=0.3,random_state=42)"
   ]
  },
  {
   "cell_type": "code",
   "execution_count": 231,
   "id": "e685e0a7",
   "metadata": {},
   "outputs": [
    {
     "data": {
      "text/html": [
       "<div>\n",
       "<style scoped>\n",
       "    .dataframe tbody tr th:only-of-type {\n",
       "        vertical-align: middle;\n",
       "    }\n",
       "\n",
       "    .dataframe tbody tr th {\n",
       "        vertical-align: top;\n",
       "    }\n",
       "\n",
       "    .dataframe thead th {\n",
       "        text-align: right;\n",
       "    }\n",
       "</style>\n",
       "<table border=\"1\" class=\"dataframe\">\n",
       "  <thead>\n",
       "    <tr style=\"text-align: right;\">\n",
       "      <th></th>\n",
       "      <th>Febre_n</th>\n",
       "      <th>Tosse_n</th>\n",
       "      <th>Coriza_n</th>\n",
       "      <th>DorGarganta_n</th>\n",
       "      <th>Diarreia_n</th>\n",
       "      <th>Cefaleia_n</th>\n",
       "      <th>DificuldadeRespiratoria_n</th>\n",
       "      <th>sexo</th>\n",
       "      <th>raca_cor</th>\n",
       "      <th>idade</th>\n",
       "    </tr>\n",
       "  </thead>\n",
       "  <tbody>\n",
       "    <tr>\n",
       "      <th>266180</th>\n",
       "      <td>0</td>\n",
       "      <td>0</td>\n",
       "      <td>0</td>\n",
       "      <td>0</td>\n",
       "      <td>0</td>\n",
       "      <td>0</td>\n",
       "      <td>0</td>\n",
       "      <td>1</td>\n",
       "      <td>3</td>\n",
       "      <td>63</td>\n",
       "    </tr>\n",
       "    <tr>\n",
       "      <th>1530447</th>\n",
       "      <td>0</td>\n",
       "      <td>0</td>\n",
       "      <td>0</td>\n",
       "      <td>1</td>\n",
       "      <td>0</td>\n",
       "      <td>1</td>\n",
       "      <td>0</td>\n",
       "      <td>1</td>\n",
       "      <td>-1</td>\n",
       "      <td>53</td>\n",
       "    </tr>\n",
       "    <tr>\n",
       "      <th>1966135</th>\n",
       "      <td>0</td>\n",
       "      <td>0</td>\n",
       "      <td>0</td>\n",
       "      <td>0</td>\n",
       "      <td>0</td>\n",
       "      <td>0</td>\n",
       "      <td>0</td>\n",
       "      <td>1</td>\n",
       "      <td>-1</td>\n",
       "      <td>25</td>\n",
       "    </tr>\n",
       "    <tr>\n",
       "      <th>1079310</th>\n",
       "      <td>0</td>\n",
       "      <td>0</td>\n",
       "      <td>0</td>\n",
       "      <td>0</td>\n",
       "      <td>0</td>\n",
       "      <td>0</td>\n",
       "      <td>0</td>\n",
       "      <td>0</td>\n",
       "      <td>0</td>\n",
       "      <td>33</td>\n",
       "    </tr>\n",
       "    <tr>\n",
       "      <th>3029475</th>\n",
       "      <td>1</td>\n",
       "      <td>1</td>\n",
       "      <td>1</td>\n",
       "      <td>1</td>\n",
       "      <td>0</td>\n",
       "      <td>1</td>\n",
       "      <td>0</td>\n",
       "      <td>1</td>\n",
       "      <td>1</td>\n",
       "      <td>28</td>\n",
       "    </tr>\n",
       "    <tr>\n",
       "      <th>...</th>\n",
       "      <td>...</td>\n",
       "      <td>...</td>\n",
       "      <td>...</td>\n",
       "      <td>...</td>\n",
       "      <td>...</td>\n",
       "      <td>...</td>\n",
       "      <td>...</td>\n",
       "      <td>...</td>\n",
       "      <td>...</td>\n",
       "      <td>...</td>\n",
       "    </tr>\n",
       "    <tr>\n",
       "      <th>2661483</th>\n",
       "      <td>1</td>\n",
       "      <td>0</td>\n",
       "      <td>0</td>\n",
       "      <td>1</td>\n",
       "      <td>0</td>\n",
       "      <td>1</td>\n",
       "      <td>0</td>\n",
       "      <td>1</td>\n",
       "      <td>2</td>\n",
       "      <td>17</td>\n",
       "    </tr>\n",
       "    <tr>\n",
       "      <th>843219</th>\n",
       "      <td>0</td>\n",
       "      <td>0</td>\n",
       "      <td>0</td>\n",
       "      <td>0</td>\n",
       "      <td>0</td>\n",
       "      <td>0</td>\n",
       "      <td>0</td>\n",
       "      <td>1</td>\n",
       "      <td>0</td>\n",
       "      <td>54</td>\n",
       "    </tr>\n",
       "    <tr>\n",
       "      <th>824177</th>\n",
       "      <td>1</td>\n",
       "      <td>1</td>\n",
       "      <td>1</td>\n",
       "      <td>0</td>\n",
       "      <td>0</td>\n",
       "      <td>1</td>\n",
       "      <td>0</td>\n",
       "      <td>1</td>\n",
       "      <td>3</td>\n",
       "      <td>32</td>\n",
       "    </tr>\n",
       "    <tr>\n",
       "      <th>1697603</th>\n",
       "      <td>0</td>\n",
       "      <td>0</td>\n",
       "      <td>0</td>\n",
       "      <td>0</td>\n",
       "      <td>0</td>\n",
       "      <td>0</td>\n",
       "      <td>0</td>\n",
       "      <td>1</td>\n",
       "      <td>-1</td>\n",
       "      <td>34</td>\n",
       "    </tr>\n",
       "    <tr>\n",
       "      <th>2511802</th>\n",
       "      <td>1</td>\n",
       "      <td>0</td>\n",
       "      <td>0</td>\n",
       "      <td>0</td>\n",
       "      <td>0</td>\n",
       "      <td>1</td>\n",
       "      <td>0</td>\n",
       "      <td>0</td>\n",
       "      <td>0</td>\n",
       "      <td>41</td>\n",
       "    </tr>\n",
       "  </tbody>\n",
       "</table>\n",
       "<p>700000 rows × 10 columns</p>\n",
       "</div>"
      ],
      "text/plain": [
       "         Febre_n  Tosse_n  Coriza_n  DorGarganta_n  Diarreia_n  Cefaleia_n  \\\n",
       "266180         0        0         0              0           0           0   \n",
       "1530447        0        0         0              1           0           1   \n",
       "1966135        0        0         0              0           0           0   \n",
       "1079310        0        0         0              0           0           0   \n",
       "3029475        1        1         1              1           0           1   \n",
       "...          ...      ...       ...            ...         ...         ...   \n",
       "2661483        1        0         0              1           0           1   \n",
       "843219         0        0         0              0           0           0   \n",
       "824177         1        1         1              0           0           1   \n",
       "1697603        0        0         0              0           0           0   \n",
       "2511802        1        0         0              0           0           1   \n",
       "\n",
       "         DificuldadeRespiratoria_n  sexo  raca_cor  idade  \n",
       "266180                           0     1         3     63  \n",
       "1530447                          0     1        -1     53  \n",
       "1966135                          0     1        -1     25  \n",
       "1079310                          0     0         0     33  \n",
       "3029475                          0     1         1     28  \n",
       "...                            ...   ...       ...    ...  \n",
       "2661483                          0     1         2     17  \n",
       "843219                           0     1         0     54  \n",
       "824177                           0     1         3     32  \n",
       "1697603                          0     1        -1     34  \n",
       "2511802                          0     0         0     41  \n",
       "\n",
       "[700000 rows x 10 columns]"
      ]
     },
     "execution_count": 231,
     "metadata": {},
     "output_type": "execute_result"
    }
   ],
   "source": [
    "x_train"
   ]
  },
  {
   "cell_type": "code",
   "execution_count": 232,
   "id": "40e4c6e3",
   "metadata": {},
   "outputs": [],
   "source": [
    "#importando a biblioteca Naive Bayes Gaussiano\n",
    "from sklearn.naive_bayes import GaussianNB"
   ]
  },
  {
   "cell_type": "code",
   "execution_count": 233,
   "id": "3a25bb96",
   "metadata": {},
   "outputs": [],
   "source": [
    "#criando uma variavel para o modelo\n",
    "model = GaussianNB()"
   ]
  },
  {
   "cell_type": "code",
   "execution_count": 234,
   "id": "822cd807",
   "metadata": {},
   "outputs": [
    {
     "data": {
      "text/plain": [
       "GaussianNB()"
      ]
     },
     "execution_count": 234,
     "metadata": {},
     "output_type": "execute_result"
    }
   ],
   "source": [
    "#treinando o modelo\n",
    "model.fit(x_train,y_train)"
   ]
  },
  {
   "cell_type": "code",
   "execution_count": 235,
   "id": "f3f40255",
   "metadata": {},
   "outputs": [],
   "source": [
    "#prevendo os valores com o modelo\n",
    "predicted = model.predict(x_test)"
   ]
  },
  {
   "cell_type": "code",
   "execution_count": 236,
   "id": "17466763",
   "metadata": {},
   "outputs": [],
   "source": [
    "#analisando o desempenho do modelo\n",
    "from sklearn.metrics import classification_report, confusion_matrix, accuracy_score"
   ]
  },
  {
   "cell_type": "code",
   "execution_count": 237,
   "id": "a9edf3a7",
   "metadata": {},
   "outputs": [
    {
     "name": "stdout",
     "output_type": "stream",
     "text": [
      "              precision    recall  f1-score   support\n",
      "\n",
      "           0       0.58      0.55      0.56    149813\n",
      "           2       0.57      0.60      0.59    150187\n",
      "\n",
      "    accuracy                           0.58    300000\n",
      "   macro avg       0.58      0.58      0.58    300000\n",
      "weighted avg       0.58      0.58      0.58    300000\n",
      "\n"
     ]
    }
   ],
   "source": [
    "# imprimindo o relatorio de classsificação\n",
    "print(classification_report(y_test,predicted))"
   ]
  },
  {
   "cell_type": "code",
   "execution_count": 238,
   "id": "fd9fe12c",
   "metadata": {},
   "outputs": [
    {
     "name": "stdout",
     "output_type": "stream",
     "text": [
      "0.5764466666666667\n"
     ]
    }
   ],
   "source": [
    "print(accuracy_score(y_test,predicted))"
   ]
  },
  {
   "cell_type": "markdown",
   "id": "3c0df119",
   "metadata": {},
   "source": [
    "## Análise de Série Temporal"
   ]
  },
  {
   "cell_type": "code",
   "execution_count": 239,
   "id": "d044b5f6",
   "metadata": {},
   "outputs": [
    {
     "name": "stdout",
     "output_type": "stream",
     "text": [
      "Requirement already satisfied: pmdarima in c:\\programdata\\anaconda3\\lib\\site-packages (1.8.5)\n",
      "Requirement already satisfied: scikit-learn>=0.22 in c:\\programdata\\anaconda3\\lib\\site-packages (from pmdarima) (0.24.1)\n",
      "Requirement already satisfied: numpy>=1.19.3 in c:\\programdata\\anaconda3\\lib\\site-packages (from pmdarima) (1.19.5)\n",
      "Requirement already satisfied: joblib>=0.11 in c:\\programdata\\anaconda3\\lib\\site-packages (from pmdarima) (1.0.1)\n",
      "Requirement already satisfied: scipy>=1.3.2 in c:\\programdata\\anaconda3\\lib\\site-packages (from pmdarima) (1.6.2)\n",
      "Requirement already satisfied: setuptools!=50.0.0,>=38.6.0 in c:\\programdata\\anaconda3\\lib\\site-packages (from pmdarima) (60.9.3)\n",
      "Requirement already satisfied: urllib3 in c:\\programdata\\anaconda3\\lib\\site-packages (from pmdarima) (1.26.4)\n",
      "Requirement already satisfied: statsmodels!=0.12.0,>=0.11 in c:\\programdata\\anaconda3\\lib\\site-packages (from pmdarima) (0.12.2)\n",
      "Requirement already satisfied: pandas>=0.19 in c:\\programdata\\anaconda3\\lib\\site-packages (from pmdarima) (1.2.4)\n",
      "Requirement already satisfied: Cython!=0.29.18,>=0.29 in c:\\programdata\\anaconda3\\lib\\site-packages (from pmdarima) (0.29.23)\n",
      "Requirement already satisfied: python-dateutil>=2.7.3 in c:\\programdata\\anaconda3\\lib\\site-packages (from pandas>=0.19->pmdarima) (2.8.1)\n",
      "Requirement already satisfied: pytz>=2017.3 in c:\\programdata\\anaconda3\\lib\\site-packages (from pandas>=0.19->pmdarima) (2021.1)\n",
      "Requirement already satisfied: six>=1.5 in c:\\programdata\\anaconda3\\lib\\site-packages (from python-dateutil>=2.7.3->pandas>=0.19->pmdarima) (1.15.0)\n",
      "Requirement already satisfied: threadpoolctl>=2.0.0 in c:\\programdata\\anaconda3\\lib\\site-packages (from scikit-learn>=0.22->pmdarima) (2.1.0)\n",
      "Requirement already satisfied: patsy>=0.5 in c:\\programdata\\anaconda3\\lib\\site-packages (from statsmodels!=0.12.0,>=0.11->pmdarima) (0.5.1)\n"
     ]
    }
   ],
   "source": [
    "#caso nao possua, é necessario realizar a instalação do pmd_arima\n",
    "!pip install pmdarima"
   ]
  },
  {
   "cell_type": "code",
   "execution_count": 240,
   "id": "950ff0f4",
   "metadata": {},
   "outputs": [],
   "source": [
    "#importando a bilioteca auto_arima\n",
    "from pmdarima.arima import auto_arima"
   ]
  },
  {
   "cell_type": "code",
   "execution_count": 241,
   "id": "e82d5118",
   "metadata": {},
   "outputs": [],
   "source": [
    "#executando o modelo\n",
    "prev_arima = auto_arima(temporal_es)"
   ]
  },
  {
   "cell_type": "code",
   "execution_count": 85,
   "id": "2271f754",
   "metadata": {},
   "outputs": [
    {
     "data": {
      "text/plain": [
       "696"
      ]
     },
     "execution_count": 85,
     "metadata": {},
     "output_type": "execute_result"
    }
   ],
   "source": [
    "#analisando tamanho da base\n",
    "len(temporal_es)"
   ]
  },
  {
   "cell_type": "code",
   "execution_count": 124,
   "id": "2dbca571",
   "metadata": {},
   "outputs": [
    {
     "data": {
      "text/plain": [
       "(660, 1)"
      ]
     },
     "execution_count": 124,
     "metadata": {},
     "output_type": "execute_result"
    }
   ],
   "source": [
    "#criando variavel de treino\n",
    "train = temporal_es[:660]\n",
    "train.shape"
   ]
  },
  {
   "cell_type": "code",
   "execution_count": 125,
   "id": "473f6afe",
   "metadata": {},
   "outputs": [
    {
     "data": {
      "text/plain": [
       "(36, 1)"
      ]
     },
     "execution_count": 125,
     "metadata": {},
     "output_type": "execute_result"
    }
   ],
   "source": [
    "#criando variavel de teste\n",
    "test = temporal_es[660:]\n",
    "test.shape"
   ]
  },
  {
   "cell_type": "code",
   "execution_count": 126,
   "id": "82e1b449",
   "metadata": {},
   "outputs": [],
   "source": [
    "#criando a variavel que recebera o resultado do treino\n",
    "novo_modelo = auto_arima(train,suppress_warnings=True)"
   ]
  },
  {
   "cell_type": "code",
   "execution_count": 127,
   "id": "08b1e094",
   "metadata": {},
   "outputs": [],
   "source": [
    "#criando o Dataframe que receberá o resultado da predição dos periodos\n",
    "valores_previstos = pd.DataFrame(novo_modelo.predict(n_periods=36),index=test.index)\n",
    "valores_previstos.columns = ['Classificacao']"
   ]
  },
  {
   "cell_type": "code",
   "execution_count": 129,
   "id": "ae121fb1",
   "metadata": {},
   "outputs": [
    {
     "data": {
      "image/png": "[encoded data removed]",
      "text/plain": [
       "<Figure size 864x576 with 1 Axes>"
      ]
     },
     "metadata": {
      "needs_background": "light"
     },
     "output_type": "display_data"
    }
   ],
   "source": [
    "#Plotando grafico de comparação de valores previstos e valores reais\n",
    "plt.figure(figsize=(12,8))\n",
    "plt.plot(train, label = 'Valores de Treino')\n",
    "plt.plot(test, label = 'valores de Teste')\n",
    "plt.plot(valores_previstos, label = 'Valores Previstos')\n",
    "plt.legend();"
   ]
  },
  {
   "cell_type": "code",
   "execution_count": 142,
   "id": "ead12008",
   "metadata": {},
   "outputs": [
    {
     "data": {
      "text/plain": [
       "(500, 1)"
      ]
     },
     "execution_count": 142,
     "metadata": {},
     "output_type": "execute_result"
    }
   ],
   "source": [
    "#realizando uma nova tentativa com um periodo mais ao centro do modelo\n",
    "train_1 = temporal_es[:500]\n",
    "train_1.shape"
   ]
  },
  {
   "cell_type": "code",
   "execution_count": 143,
   "id": "e4991d25",
   "metadata": {},
   "outputs": [
    {
     "data": {
      "text/plain": [
       "(100, 1)"
      ]
     },
     "execution_count": 143,
     "metadata": {},
     "output_type": "execute_result"
    }
   ],
   "source": [
    "test_1 = temporal_es[500:600]\n",
    "test_1.shape"
   ]
  },
  {
   "cell_type": "code",
   "execution_count": 144,
   "id": "8138e6cc",
   "metadata": {},
   "outputs": [],
   "source": [
    "novo_modelo_1 = auto_arima(train_1,suppress_warnings=True)"
   ]
  },
  {
   "cell_type": "code",
   "execution_count": 145,
   "id": "4ee5622a",
   "metadata": {},
   "outputs": [],
   "source": [
    "valores_previstos_1 = pd.DataFrame(novo_modelo_1.predict(n_periods=100),index=test_1.index)\n",
    "valores_previstos_1.columns = ['Classificacao']"
   ]
  },
  {
   "cell_type": "code",
   "execution_count": 146,
   "id": "2f0e8a3b",
   "metadata": {},
   "outputs": [
    {
     "data": {
      "image/png": "[encoded data removed]",
      "text/plain": [
       "<Figure size 864x576 with 1 Axes>"
      ]
     },
     "metadata": {
      "needs_background": "light"
     },
     "output_type": "display_data"
    }
   ],
   "source": [
    "#plotando o grafico da segunda analise\n",
    "plt.figure(figsize=(12,8))\n",
    "plt.plot(train_1, label = 'Valores de Treino')\n",
    "plt.plot(test_1, label = 'valores de Teste')\n",
    "plt.plot(valores_previstos_1, label = 'Valores Previstos')\n",
    "plt.legend();"
   ]
  },
  {
   "cell_type": "code",
   "execution_count": null,
   "id": "0e649865",
   "metadata": {},
   "outputs": [],
   "source": []
  }
 ],
 "metadata": {
  "kernelspec": {
   "display_name": "Python 3",
   "language": "python",
   "name": "python3"
  },
  "language_info": {
   "codemirror_mode": {
    "name": "ipython",
    "version": 3
   },
   "file_extension": ".py",
   "mimetype": "text/x-python",
   "name": "python",
   "nbconvert_exporter": "python",
   "pygments_lexer": "ipython3",
   "version": "3.8.8"
  }
 },
 "nbformat": 4,
 "nbformat_minor": 5
}
