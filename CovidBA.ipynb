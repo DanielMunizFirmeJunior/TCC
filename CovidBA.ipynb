{
 "cells": [
  {
   "cell_type": "code",
   "execution_count": 62,
   "id": "33075ca1",
   "metadata": {},
   "outputs": [],
   "source": [
    "#importando bibliotecas base do projeto\n",
    "import pandas as pd\n",
    "import numpy as np"
   ]
  },
  {
   "cell_type": "code",
   "execution_count": 63,
   "id": "ac22ee4f",
   "metadata": {},
   "outputs": [],
   "source": [
    "#bibliotecas para plotagem gráfica\n",
    "import seaborn as sns\n",
    "import matplotlib.pyplot as plt"
   ]
  },
  {
   "cell_type": "code",
   "execution_count": 64,
   "id": "9b5bbfee",
   "metadata": {},
   "outputs": [],
   "source": [
    "#carregando o dataset de dados da Bahia\n",
    "CovidBA_Confirmado = pd.read_csv('dadoscovidES/DadosCovidBA_Confirmados.csv', sep=';',skip_blank_lines = True, encoding = \"latin-1\")"
   ]
  },
  {
   "cell_type": "code",
   "execution_count": 65,
   "id": "800c5375",
   "metadata": {},
   "outputs": [
    {
     "data": {
      "text/html": [
       "<div>\n",
       "<style scoped>\n",
       "    .dataframe tbody tr th:only-of-type {\n",
       "        vertical-align: middle;\n",
       "    }\n",
       "\n",
       "    .dataframe tbody tr th {\n",
       "        vertical-align: top;\n",
       "    }\n",
       "\n",
       "    .dataframe thead th {\n",
       "        text-align: right;\n",
       "    }\n",
       "</style>\n",
       "<table border=\"1\" class=\"dataframe\">\n",
       "  <thead>\n",
       "    <tr style=\"text-align: right;\">\n",
       "      <th></th>\n",
       "      <th>DATA DA NOTIFICACAO</th>\n",
       "      <th>DOR DE GARGANTA</th>\n",
       "      <th>DISPNEIA</th>\n",
       "      <th>FEBRE</th>\n",
       "      <th>TOSSE</th>\n",
       "      <th>OUTROS</th>\n",
       "      <th>E PROFISSIONAL DE SAUDE?</th>\n",
       "      <th>DATA DO INICIO DOS SINTOMAS</th>\n",
       "      <th>DOENCAS RESPIRATORIAS CRONICAS DESCOMPENSADAS</th>\n",
       "      <th>DOENCAS CARDIACAS CRONICAS</th>\n",
       "      <th>...</th>\n",
       "      <th>TIPO IDADE</th>\n",
       "      <th>TIPO DE TESTE</th>\n",
       "      <th>RESULTADO DO TESTE</th>\n",
       "      <th>SEXO</th>\n",
       "      <th>BAIRRO</th>\n",
       "      <th>ESTADO DE RESIDENCIA</th>\n",
       "      <th>MUNICIPIO DE RESIDENCIA</th>\n",
       "      <th>BANCO</th>\n",
       "      <th>RACA/COR</th>\n",
       "      <th>EPIDEMIA</th>\n",
       "    </tr>\n",
       "  </thead>\n",
       "  <tbody>\n",
       "    <tr>\n",
       "      <th>0</th>\n",
       "      <td>04/05/2020</td>\n",
       "      <td>NAO</td>\n",
       "      <td>NAO</td>\n",
       "      <td>NAO</td>\n",
       "      <td>NAO</td>\n",
       "      <td>SIM</td>\n",
       "      <td>NAO</td>\n",
       "      <td>29/04/2020</td>\n",
       "      <td>NAO</td>\n",
       "      <td>NAO</td>\n",
       "      <td>...</td>\n",
       "      <td>ANO(S)</td>\n",
       "      <td>RT-PCR</td>\n",
       "      <td>POSITIVO</td>\n",
       "      <td>MASCULINO</td>\n",
       "      <td>ZONA RURAL</td>\n",
       "      <td>BAHIA</td>\n",
       "      <td>CASTRO ALVES</td>\n",
       "      <td>BASELINE</td>\n",
       "      <td>PARDA</td>\n",
       "      <td>COVID-19</td>\n",
       "    </tr>\n",
       "    <tr>\n",
       "      <th>1</th>\n",
       "      <td>04/05/2020</td>\n",
       "      <td>SIM</td>\n",
       "      <td>NAO</td>\n",
       "      <td>SIM</td>\n",
       "      <td>SIM</td>\n",
       "      <td>NAO</td>\n",
       "      <td>NAO</td>\n",
       "      <td>25/04/2020</td>\n",
       "      <td>NAO</td>\n",
       "      <td>NAO</td>\n",
       "      <td>...</td>\n",
       "      <td>ANO(S)</td>\n",
       "      <td>RT-PCR</td>\n",
       "      <td>POSITIVO</td>\n",
       "      <td>MASCULINO</td>\n",
       "      <td>NaN</td>\n",
       "      <td>BAHIA</td>\n",
       "      <td>ITABUNA</td>\n",
       "      <td>BASELINE</td>\n",
       "      <td>PARDA</td>\n",
       "      <td>COVID-19</td>\n",
       "    </tr>\n",
       "    <tr>\n",
       "      <th>2</th>\n",
       "      <td>24/04/2020</td>\n",
       "      <td>SIM</td>\n",
       "      <td>NAO</td>\n",
       "      <td>SIM</td>\n",
       "      <td>NAO</td>\n",
       "      <td>SIM</td>\n",
       "      <td>SIM</td>\n",
       "      <td>30/04/2020</td>\n",
       "      <td>NAO</td>\n",
       "      <td>NAO</td>\n",
       "      <td>...</td>\n",
       "      <td>ANO(S)</td>\n",
       "      <td>RT-PCR</td>\n",
       "      <td>POSITIVO</td>\n",
       "      <td>MASCULINO</td>\n",
       "      <td>FATIMA</td>\n",
       "      <td>BAHIA</td>\n",
       "      <td>ITABUNA</td>\n",
       "      <td>BASELINE</td>\n",
       "      <td>PARDA</td>\n",
       "      <td>COVID-19</td>\n",
       "    </tr>\n",
       "    <tr>\n",
       "      <th>3</th>\n",
       "      <td>27/04/2020</td>\n",
       "      <td>NAO</td>\n",
       "      <td>NAO</td>\n",
       "      <td>SIM</td>\n",
       "      <td>SIM</td>\n",
       "      <td>SIM</td>\n",
       "      <td>NAO</td>\n",
       "      <td>25/04/2020</td>\n",
       "      <td>NAO</td>\n",
       "      <td>NAO</td>\n",
       "      <td>...</td>\n",
       "      <td>ANO(S)</td>\n",
       "      <td>RT-PCR</td>\n",
       "      <td>POSITIVO</td>\n",
       "      <td>FEMININO</td>\n",
       "      <td>ZONA RURAL</td>\n",
       "      <td>BAHIA</td>\n",
       "      <td>SANTA BARBARA</td>\n",
       "      <td>BASELINE</td>\n",
       "      <td>PARDA</td>\n",
       "      <td>COVID-19</td>\n",
       "    </tr>\n",
       "    <tr>\n",
       "      <th>4</th>\n",
       "      <td>30/04/2020</td>\n",
       "      <td>NAO</td>\n",
       "      <td>NAO</td>\n",
       "      <td>SIM</td>\n",
       "      <td>SIM</td>\n",
       "      <td>SIM</td>\n",
       "      <td>NAO</td>\n",
       "      <td>25/04/2020</td>\n",
       "      <td>NAO</td>\n",
       "      <td>NAO</td>\n",
       "      <td>...</td>\n",
       "      <td>ANO(S)</td>\n",
       "      <td>RT-PCR</td>\n",
       "      <td>POSITIVO</td>\n",
       "      <td>MASCULINO</td>\n",
       "      <td>SANTA RITA</td>\n",
       "      <td>BAHIA</td>\n",
       "      <td>NAZARE</td>\n",
       "      <td>BASELINE</td>\n",
       "      <td>PARDA</td>\n",
       "      <td>COVID-19</td>\n",
       "    </tr>\n",
       "    <tr>\n",
       "      <th>...</th>\n",
       "      <td>...</td>\n",
       "      <td>...</td>\n",
       "      <td>...</td>\n",
       "      <td>...</td>\n",
       "      <td>...</td>\n",
       "      <td>...</td>\n",
       "      <td>...</td>\n",
       "      <td>...</td>\n",
       "      <td>...</td>\n",
       "      <td>...</td>\n",
       "      <td>...</td>\n",
       "      <td>...</td>\n",
       "      <td>...</td>\n",
       "      <td>...</td>\n",
       "      <td>...</td>\n",
       "      <td>...</td>\n",
       "      <td>...</td>\n",
       "      <td>...</td>\n",
       "      <td>...</td>\n",
       "      <td>...</td>\n",
       "      <td>...</td>\n",
       "    </tr>\n",
       "    <tr>\n",
       "      <th>1489589</th>\n",
       "      <td>02/03/2021</td>\n",
       "      <td>NAO</td>\n",
       "      <td>SIM</td>\n",
       "      <td>NAO</td>\n",
       "      <td>SIM</td>\n",
       "      <td>NAO</td>\n",
       "      <td>NaN</td>\n",
       "      <td>26/02/2021</td>\n",
       "      <td>IGNORADA</td>\n",
       "      <td>IGNORADA</td>\n",
       "      <td>...</td>\n",
       "      <td>ANO(S)</td>\n",
       "      <td>NaN</td>\n",
       "      <td>NaN</td>\n",
       "      <td>FEMININO</td>\n",
       "      <td>NaN</td>\n",
       "      <td>BAHIA</td>\n",
       "      <td>SALVADOR</td>\n",
       "      <td>SIVEPGRIPE</td>\n",
       "      <td>IGNORADA</td>\n",
       "      <td>COVID-19</td>\n",
       "    </tr>\n",
       "    <tr>\n",
       "      <th>1489590</th>\n",
       "      <td>02/03/2021</td>\n",
       "      <td>NAO</td>\n",
       "      <td>SIM</td>\n",
       "      <td>SIM</td>\n",
       "      <td>SIM</td>\n",
       "      <td>NAO</td>\n",
       "      <td>NaN</td>\n",
       "      <td>22/02/2021</td>\n",
       "      <td>NAO</td>\n",
       "      <td>SIM</td>\n",
       "      <td>...</td>\n",
       "      <td>ANO(S)</td>\n",
       "      <td>NaN</td>\n",
       "      <td>NaN</td>\n",
       "      <td>FEMININO</td>\n",
       "      <td>CANDEAL</td>\n",
       "      <td>BAHIA</td>\n",
       "      <td>SALVADOR</td>\n",
       "      <td>SIVEPGRIPE</td>\n",
       "      <td>IGNORADA</td>\n",
       "      <td>COVID-19</td>\n",
       "    </tr>\n",
       "    <tr>\n",
       "      <th>1489591</th>\n",
       "      <td>02/03/2021</td>\n",
       "      <td>NAO</td>\n",
       "      <td>NAO</td>\n",
       "      <td>SIM</td>\n",
       "      <td>SIM</td>\n",
       "      <td>SIM</td>\n",
       "      <td>NAO</td>\n",
       "      <td>22/02/2021</td>\n",
       "      <td>IGNORADA</td>\n",
       "      <td>IGNORADA</td>\n",
       "      <td>...</td>\n",
       "      <td>ANO(S)</td>\n",
       "      <td>RT-PCR</td>\n",
       "      <td>POSITIVO</td>\n",
       "      <td>MASCULINO</td>\n",
       "      <td>CANDEAL</td>\n",
       "      <td>BAHIA</td>\n",
       "      <td>SALVADOR</td>\n",
       "      <td>SIVEPGRIPE</td>\n",
       "      <td>IGNORADA</td>\n",
       "      <td>COVID-19</td>\n",
       "    </tr>\n",
       "    <tr>\n",
       "      <th>1489592</th>\n",
       "      <td>02/03/2021</td>\n",
       "      <td>NAO</td>\n",
       "      <td>SIM</td>\n",
       "      <td>SIM</td>\n",
       "      <td>SIM</td>\n",
       "      <td>NAO</td>\n",
       "      <td>NAO</td>\n",
       "      <td>15/02/2021</td>\n",
       "      <td>NAO</td>\n",
       "      <td>SIM</td>\n",
       "      <td>...</td>\n",
       "      <td>ANO(S)</td>\n",
       "      <td>RT-PCR</td>\n",
       "      <td>POSITIVO</td>\n",
       "      <td>FEMININO</td>\n",
       "      <td>ARRAIAL DO RETIRO</td>\n",
       "      <td>BAHIA</td>\n",
       "      <td>SALVADOR</td>\n",
       "      <td>SIVEPGRIPE</td>\n",
       "      <td>PARDA</td>\n",
       "      <td>COVID-19</td>\n",
       "    </tr>\n",
       "    <tr>\n",
       "      <th>1489593</th>\n",
       "      <td>27/02/2021</td>\n",
       "      <td>NAO</td>\n",
       "      <td>SIM</td>\n",
       "      <td>SIM</td>\n",
       "      <td>SIM</td>\n",
       "      <td>SIM</td>\n",
       "      <td>NAO</td>\n",
       "      <td>21/02/2021</td>\n",
       "      <td>IGNORADA</td>\n",
       "      <td>IGNORADA</td>\n",
       "      <td>...</td>\n",
       "      <td>ANO(S)</td>\n",
       "      <td>RT-PCR</td>\n",
       "      <td>POSITIVO</td>\n",
       "      <td>MASCULINO</td>\n",
       "      <td>LUIZ ANSELMO</td>\n",
       "      <td>BAHIA</td>\n",
       "      <td>SALVADOR</td>\n",
       "      <td>SIVEPGRIPE</td>\n",
       "      <td>IGNORADA</td>\n",
       "      <td>COVID-19</td>\n",
       "    </tr>\n",
       "  </tbody>\n",
       "</table>\n",
       "<p>1489594 rows × 31 columns</p>\n",
       "</div>"
      ],
      "text/plain": [
       "        DATA DA NOTIFICACAO DOR DE GARGANTA DISPNEIA FEBRE TOSSE OUTROS  \\\n",
       "0                04/05/2020             NAO      NAO   NAO   NAO    SIM   \n",
       "1                04/05/2020             SIM      NAO   SIM   SIM    NAO   \n",
       "2                24/04/2020             SIM      NAO   SIM   NAO    SIM   \n",
       "3                27/04/2020             NAO      NAO   SIM   SIM    SIM   \n",
       "4                30/04/2020             NAO      NAO   SIM   SIM    SIM   \n",
       "...                     ...             ...      ...   ...   ...    ...   \n",
       "1489589          02/03/2021             NAO      SIM   NAO   SIM    NAO   \n",
       "1489590          02/03/2021             NAO      SIM   SIM   SIM    NAO   \n",
       "1489591          02/03/2021             NAO      NAO   SIM   SIM    SIM   \n",
       "1489592          02/03/2021             NAO      SIM   SIM   SIM    NAO   \n",
       "1489593          27/02/2021             NAO      SIM   SIM   SIM    SIM   \n",
       "\n",
       "        E PROFISSIONAL DE SAUDE? DATA DO INICIO DOS SINTOMAS  \\\n",
       "0                            NAO                  29/04/2020   \n",
       "1                            NAO                  25/04/2020   \n",
       "2                            SIM                  30/04/2020   \n",
       "3                            NAO                  25/04/2020   \n",
       "4                            NAO                  25/04/2020   \n",
       "...                          ...                         ...   \n",
       "1489589                      NaN                  26/02/2021   \n",
       "1489590                      NaN                  22/02/2021   \n",
       "1489591                      NAO                  22/02/2021   \n",
       "1489592                      NAO                  15/02/2021   \n",
       "1489593                      NAO                  21/02/2021   \n",
       "\n",
       "        DOENCAS RESPIRATORIAS CRONICAS DESCOMPENSADAS  \\\n",
       "0                                                 NAO   \n",
       "1                                                 NAO   \n",
       "2                                                 NAO   \n",
       "3                                                 NAO   \n",
       "4                                                 NAO   \n",
       "...                                               ...   \n",
       "1489589                                      IGNORADA   \n",
       "1489590                                           NAO   \n",
       "1489591                                      IGNORADA   \n",
       "1489592                                           NAO   \n",
       "1489593                                      IGNORADA   \n",
       "\n",
       "        DOENCAS CARDIACAS CRONICAS  ... TIPO IDADE TIPO DE TESTE  \\\n",
       "0                              NAO  ...     ANO(S)        RT-PCR   \n",
       "1                              NAO  ...     ANO(S)        RT-PCR   \n",
       "2                              NAO  ...     ANO(S)        RT-PCR   \n",
       "3                              NAO  ...     ANO(S)        RT-PCR   \n",
       "4                              NAO  ...     ANO(S)        RT-PCR   \n",
       "...                            ...  ...        ...           ...   \n",
       "1489589                   IGNORADA  ...     ANO(S)           NaN   \n",
       "1489590                        SIM  ...     ANO(S)           NaN   \n",
       "1489591                   IGNORADA  ...     ANO(S)        RT-PCR   \n",
       "1489592                        SIM  ...     ANO(S)        RT-PCR   \n",
       "1489593                   IGNORADA  ...     ANO(S)        RT-PCR   \n",
       "\n",
       "        RESULTADO DO TESTE       SEXO             BAIRRO ESTADO DE RESIDENCIA  \\\n",
       "0                 POSITIVO  MASCULINO         ZONA RURAL                BAHIA   \n",
       "1                 POSITIVO  MASCULINO                NaN                BAHIA   \n",
       "2                 POSITIVO  MASCULINO             FATIMA                BAHIA   \n",
       "3                 POSITIVO   FEMININO         ZONA RURAL                BAHIA   \n",
       "4                 POSITIVO  MASCULINO         SANTA RITA                BAHIA   \n",
       "...                    ...        ...                ...                  ...   \n",
       "1489589                NaN   FEMININO                NaN                BAHIA   \n",
       "1489590                NaN   FEMININO            CANDEAL                BAHIA   \n",
       "1489591           POSITIVO  MASCULINO            CANDEAL                BAHIA   \n",
       "1489592           POSITIVO   FEMININO  ARRAIAL DO RETIRO                BAHIA   \n",
       "1489593           POSITIVO  MASCULINO       LUIZ ANSELMO                BAHIA   \n",
       "\n",
       "        MUNICIPIO DE RESIDENCIA       BANCO  RACA/COR  EPIDEMIA  \n",
       "0                  CASTRO ALVES    BASELINE     PARDA  COVID-19  \n",
       "1                       ITABUNA    BASELINE     PARDA  COVID-19  \n",
       "2                       ITABUNA    BASELINE     PARDA  COVID-19  \n",
       "3                 SANTA BARBARA    BASELINE     PARDA  COVID-19  \n",
       "4                        NAZARE    BASELINE     PARDA  COVID-19  \n",
       "...                         ...         ...       ...       ...  \n",
       "1489589                SALVADOR  SIVEPGRIPE  IGNORADA  COVID-19  \n",
       "1489590                SALVADOR  SIVEPGRIPE  IGNORADA  COVID-19  \n",
       "1489591                SALVADOR  SIVEPGRIPE  IGNORADA  COVID-19  \n",
       "1489592                SALVADOR  SIVEPGRIPE     PARDA  COVID-19  \n",
       "1489593                SALVADOR  SIVEPGRIPE  IGNORADA  COVID-19  \n",
       "\n",
       "[1489594 rows x 31 columns]"
      ]
     },
     "execution_count": 65,
     "metadata": {},
     "output_type": "execute_result"
    }
   ],
   "source": [
    "CovidBA_Confirmado"
   ]
  },
  {
   "cell_type": "code",
   "execution_count": 66,
   "id": "95affe6e",
   "metadata": {},
   "outputs": [
    {
     "data": {
      "text/html": [
       "<div>\n",
       "<style scoped>\n",
       "    .dataframe tbody tr th:only-of-type {\n",
       "        vertical-align: middle;\n",
       "    }\n",
       "\n",
       "    .dataframe tbody tr th {\n",
       "        vertical-align: top;\n",
       "    }\n",
       "\n",
       "    .dataframe thead th {\n",
       "        text-align: right;\n",
       "    }\n",
       "</style>\n",
       "<table border=\"1\" class=\"dataframe\">\n",
       "  <thead>\n",
       "    <tr style=\"text-align: right;\">\n",
       "      <th></th>\n",
       "      <th>DATA DA NOTIFICACAO</th>\n",
       "      <th>DOR DE GARGANTA</th>\n",
       "      <th>DISPNEIA</th>\n",
       "      <th>FEBRE</th>\n",
       "      <th>TOSSE</th>\n",
       "      <th>OUTROS</th>\n",
       "      <th>E PROFISSIONAL DE SAUDE?</th>\n",
       "      <th>DATA DO INICIO DOS SINTOMAS</th>\n",
       "      <th>DOENCAS RESPIRATORIAS CRONICAS DESCOMPENSADAS</th>\n",
       "      <th>DOENCAS CARDIACAS CRONICAS</th>\n",
       "      <th>...</th>\n",
       "      <th>TIPO IDADE</th>\n",
       "      <th>TIPO DE TESTE</th>\n",
       "      <th>RESULTADO DO TESTE</th>\n",
       "      <th>SEXO</th>\n",
       "      <th>BAIRRO</th>\n",
       "      <th>ESTADO DE RESIDENCIA</th>\n",
       "      <th>MUNICIPIO DE RESIDENCIA</th>\n",
       "      <th>BANCO</th>\n",
       "      <th>RACA/COR</th>\n",
       "      <th>EPIDEMIA</th>\n",
       "    </tr>\n",
       "  </thead>\n",
       "  <tbody>\n",
       "    <tr>\n",
       "      <th>0</th>\n",
       "      <td>04/05/2020</td>\n",
       "      <td>NAO</td>\n",
       "      <td>NAO</td>\n",
       "      <td>NAO</td>\n",
       "      <td>NAO</td>\n",
       "      <td>SIM</td>\n",
       "      <td>NAO</td>\n",
       "      <td>29/04/2020</td>\n",
       "      <td>NAO</td>\n",
       "      <td>NAO</td>\n",
       "      <td>...</td>\n",
       "      <td>ANO(S)</td>\n",
       "      <td>RT-PCR</td>\n",
       "      <td>POSITIVO</td>\n",
       "      <td>MASCULINO</td>\n",
       "      <td>ZONA RURAL</td>\n",
       "      <td>BAHIA</td>\n",
       "      <td>CASTRO ALVES</td>\n",
       "      <td>BASELINE</td>\n",
       "      <td>PARDA</td>\n",
       "      <td>COVID-19</td>\n",
       "    </tr>\n",
       "    <tr>\n",
       "      <th>1</th>\n",
       "      <td>04/05/2020</td>\n",
       "      <td>SIM</td>\n",
       "      <td>NAO</td>\n",
       "      <td>SIM</td>\n",
       "      <td>SIM</td>\n",
       "      <td>NAO</td>\n",
       "      <td>NAO</td>\n",
       "      <td>25/04/2020</td>\n",
       "      <td>NAO</td>\n",
       "      <td>NAO</td>\n",
       "      <td>...</td>\n",
       "      <td>ANO(S)</td>\n",
       "      <td>RT-PCR</td>\n",
       "      <td>POSITIVO</td>\n",
       "      <td>MASCULINO</td>\n",
       "      <td>NaN</td>\n",
       "      <td>BAHIA</td>\n",
       "      <td>ITABUNA</td>\n",
       "      <td>BASELINE</td>\n",
       "      <td>PARDA</td>\n",
       "      <td>COVID-19</td>\n",
       "    </tr>\n",
       "    <tr>\n",
       "      <th>2</th>\n",
       "      <td>24/04/2020</td>\n",
       "      <td>SIM</td>\n",
       "      <td>NAO</td>\n",
       "      <td>SIM</td>\n",
       "      <td>NAO</td>\n",
       "      <td>SIM</td>\n",
       "      <td>SIM</td>\n",
       "      <td>30/04/2020</td>\n",
       "      <td>NAO</td>\n",
       "      <td>NAO</td>\n",
       "      <td>...</td>\n",
       "      <td>ANO(S)</td>\n",
       "      <td>RT-PCR</td>\n",
       "      <td>POSITIVO</td>\n",
       "      <td>MASCULINO</td>\n",
       "      <td>FATIMA</td>\n",
       "      <td>BAHIA</td>\n",
       "      <td>ITABUNA</td>\n",
       "      <td>BASELINE</td>\n",
       "      <td>PARDA</td>\n",
       "      <td>COVID-19</td>\n",
       "    </tr>\n",
       "    <tr>\n",
       "      <th>3</th>\n",
       "      <td>27/04/2020</td>\n",
       "      <td>NAO</td>\n",
       "      <td>NAO</td>\n",
       "      <td>SIM</td>\n",
       "      <td>SIM</td>\n",
       "      <td>SIM</td>\n",
       "      <td>NAO</td>\n",
       "      <td>25/04/2020</td>\n",
       "      <td>NAO</td>\n",
       "      <td>NAO</td>\n",
       "      <td>...</td>\n",
       "      <td>ANO(S)</td>\n",
       "      <td>RT-PCR</td>\n",
       "      <td>POSITIVO</td>\n",
       "      <td>FEMININO</td>\n",
       "      <td>ZONA RURAL</td>\n",
       "      <td>BAHIA</td>\n",
       "      <td>SANTA BARBARA</td>\n",
       "      <td>BASELINE</td>\n",
       "      <td>PARDA</td>\n",
       "      <td>COVID-19</td>\n",
       "    </tr>\n",
       "    <tr>\n",
       "      <th>4</th>\n",
       "      <td>30/04/2020</td>\n",
       "      <td>NAO</td>\n",
       "      <td>NAO</td>\n",
       "      <td>SIM</td>\n",
       "      <td>SIM</td>\n",
       "      <td>SIM</td>\n",
       "      <td>NAO</td>\n",
       "      <td>25/04/2020</td>\n",
       "      <td>NAO</td>\n",
       "      <td>NAO</td>\n",
       "      <td>...</td>\n",
       "      <td>ANO(S)</td>\n",
       "      <td>RT-PCR</td>\n",
       "      <td>POSITIVO</td>\n",
       "      <td>MASCULINO</td>\n",
       "      <td>SANTA RITA</td>\n",
       "      <td>BAHIA</td>\n",
       "      <td>NAZARE</td>\n",
       "      <td>BASELINE</td>\n",
       "      <td>PARDA</td>\n",
       "      <td>COVID-19</td>\n",
       "    </tr>\n",
       "  </tbody>\n",
       "</table>\n",
       "<p>5 rows × 31 columns</p>\n",
       "</div>"
      ],
      "text/plain": [
       "  DATA DA NOTIFICACAO DOR DE GARGANTA DISPNEIA FEBRE TOSSE OUTROS  \\\n",
       "0          04/05/2020             NAO      NAO   NAO   NAO    SIM   \n",
       "1          04/05/2020             SIM      NAO   SIM   SIM    NAO   \n",
       "2          24/04/2020             SIM      NAO   SIM   NAO    SIM   \n",
       "3          27/04/2020             NAO      NAO   SIM   SIM    SIM   \n",
       "4          30/04/2020             NAO      NAO   SIM   SIM    SIM   \n",
       "\n",
       "  E PROFISSIONAL DE SAUDE? DATA DO INICIO DOS SINTOMAS  \\\n",
       "0                      NAO                  29/04/2020   \n",
       "1                      NAO                  25/04/2020   \n",
       "2                      SIM                  30/04/2020   \n",
       "3                      NAO                  25/04/2020   \n",
       "4                      NAO                  25/04/2020   \n",
       "\n",
       "  DOENCAS RESPIRATORIAS CRONICAS DESCOMPENSADAS DOENCAS CARDIACAS CRONICAS  \\\n",
       "0                                           NAO                        NAO   \n",
       "1                                           NAO                        NAO   \n",
       "2                                           NAO                        NAO   \n",
       "3                                           NAO                        NAO   \n",
       "4                                           NAO                        NAO   \n",
       "\n",
       "   ... TIPO IDADE TIPO DE TESTE RESULTADO DO TESTE       SEXO      BAIRRO  \\\n",
       "0  ...     ANO(S)        RT-PCR           POSITIVO  MASCULINO  ZONA RURAL   \n",
       "1  ...     ANO(S)        RT-PCR           POSITIVO  MASCULINO         NaN   \n",
       "2  ...     ANO(S)        RT-PCR           POSITIVO  MASCULINO      FATIMA   \n",
       "3  ...     ANO(S)        RT-PCR           POSITIVO   FEMININO  ZONA RURAL   \n",
       "4  ...     ANO(S)        RT-PCR           POSITIVO  MASCULINO  SANTA RITA   \n",
       "\n",
       "  ESTADO DE RESIDENCIA MUNICIPIO DE RESIDENCIA     BANCO RACA/COR  EPIDEMIA  \n",
       "0                BAHIA            CASTRO ALVES  BASELINE    PARDA  COVID-19  \n",
       "1                BAHIA                 ITABUNA  BASELINE    PARDA  COVID-19  \n",
       "2                BAHIA                 ITABUNA  BASELINE    PARDA  COVID-19  \n",
       "3                BAHIA           SANTA BARBARA  BASELINE    PARDA  COVID-19  \n",
       "4                BAHIA                  NAZARE  BASELINE    PARDA  COVID-19  \n",
       "\n",
       "[5 rows x 31 columns]"
      ]
     },
     "execution_count": 66,
     "metadata": {},
     "output_type": "execute_result"
    }
   ],
   "source": [
    "CovidBA_Confirmado.head()"
   ]
  },
  {
   "cell_type": "code",
   "execution_count": 67,
   "id": "52786d51",
   "metadata": {},
   "outputs": [
    {
     "name": "stdout",
     "output_type": "stream",
     "text": [
      "<class 'pandas.core.frame.DataFrame'>\n",
      "RangeIndex: 1489594 entries, 0 to 1489593\n",
      "Data columns (total 31 columns):\n",
      " #   Column                                                            Non-Null Count    Dtype  \n",
      "---  ------                                                            --------------    -----  \n",
      " 0   DATA DA NOTIFICACAO                                               1488389 non-null  object \n",
      " 1   DOR DE GARGANTA                                                   1405835 non-null  object \n",
      " 2   DISPNEIA                                                          1405832 non-null  object \n",
      " 3   FEBRE                                                             1405837 non-null  object \n",
      " 4   TOSSE                                                             1405838 non-null  object \n",
      " 5   OUTROS                                                            1405827 non-null  object \n",
      " 6   E PROFISSIONAL DE SAUDE?                                          1391004 non-null  object \n",
      " 7   DATA DO INICIO DOS SINTOMAS                                       1438028 non-null  object \n",
      " 8   DOENCAS RESPIRATORIAS CRONICAS DESCOMPENSADAS                     1405963 non-null  object \n",
      " 9   DOENCAS CARDIACAS CRONICAS                                        1405886 non-null  object \n",
      " 10  DIABETES                                                          1405943 non-null  object \n",
      " 11  DOENCAS RENAIS CRONICAS EM ESTAGIO AVANCADO (GRAUS 3, 4 OU 5)     1405833 non-null  object \n",
      " 12  IMUNOSSUPRESSAO                                                   1405833 non-null  object \n",
      " 13  GESTANTE DE ALTO RISCO                                            1390991 non-null  object \n",
      " 14  PORTADOR DE DOENCAS CROMOSSOMICAS OU ESTADO DE FRAGILIDADE IMUNO  1390991 non-null  object \n",
      " 15  CLASSIFICACAO FINAL                                               1489594 non-null  object \n",
      " 16  INVESTIGACAO CONCLUIDA                                            1489594 non-null  object \n",
      " 17  ESTADO DO TESTE                                                   1477994 non-null  object \n",
      " 18  CBO                                                               102199 non-null   object \n",
      " 19  DATA DA COLETA DO TESTE                                           1334789 non-null  object \n",
      " 20  IDADE EM ANOS                                                     1488667 non-null  float64\n",
      " 21  TIPO IDADE                                                        1488605 non-null  object \n",
      " 22  TIPO DE TESTE                                                     1466428 non-null  object \n",
      " 23  RESULTADO DO TESTE                                                1458795 non-null  object \n",
      " 24  SEXO                                                              1489275 non-null  object \n",
      " 25  BAIRRO                                                            1450760 non-null  object \n",
      " 26  ESTADO DE RESIDENCIA                                              1489594 non-null  object \n",
      " 27  MUNICIPIO DE RESIDENCIA                                           1489594 non-null  object \n",
      " 28  BANCO                                                             1489579 non-null  object \n",
      " 29  RACA/COR                                                          1456882 non-null  object \n",
      " 30  EPIDEMIA                                                          1489594 non-null  object \n",
      "dtypes: float64(1), object(30)\n",
      "memory usage: 352.3+ MB\n"
     ]
    }
   ],
   "source": [
    "CovidBA_Confirmado.info()"
   ]
  },
  {
   "cell_type": "markdown",
   "id": "bb690f33",
   "metadata": {},
   "source": [
    "# Tratamento de dados"
   ]
  },
  {
   "cell_type": "code",
   "execution_count": 69,
   "id": "a9f215b7",
   "metadata": {},
   "outputs": [
    {
     "name": "stdout",
     "output_type": "stream",
     "text": [
      "Valores unicos Dor de Garganta: ['NAO' 'SIM' 'IGNORADA' nan]\n",
      "Valores unicos Dispneia: ['NAO' 'SIM' nan 'IGNORADA']\n",
      "Valores unicos Febre: ['NAO' 'SIM' nan 'IGNORADA']\n",
      "Valores unicos Outros: ['SIM' 'NAO' nan 'IGNORADA' 'MIALGIA E CEFALEIA' 'CEFALEIA'\n",
      " 'ADINAMIA, ANOSMIA' 'ESPIRROS' 'MIALGIA' 'CEFALEIA,CORIZA,OLFATO PALADAR'\n",
      " 'CORIZA' 'CALAFRIOS' 'CALAFRIAS, CEFALEIA,MIALGIA,'\n",
      " 'ADINAMIA, MIALGIA CEFALEIA,' 'MIALGIA, CEFALEIA' 'ADINAMIA, MIALGIA'\n",
      " 'ANOSMIA / DOR TORACICA' 'CEFALEIA,ANOSMIA' 'ASSINTOMATICA' 'CONVULSAO'\n",
      " 'DOR TORACICA' 'CEFALEIA.' 'PERDA DE PALADAR' 'ASTENIA' 'HIPOATIVIDADE'\n",
      " 'MIALGIA,PROD.ESCARRO,CONG.NASA' 'RUSH CUTANEO + CEFALEIA + CONG'\n",
      " 'ANOSMIA' 'CONGESTAO NASAL,RINORREIA' 'CIANOSE' 'HAS, DM'\n",
      " 'ADINAMIA; CEFALEIA.' 'CORISA, CEFALEIA' 'RASH CUTANEO, OBSTRUCAO NASAL'\n",
      " 'CORIZA, ODNOFALGIA, TAQUIPNEIA' 'PROSTACAO ADENAMIA' 'NAUSEA, ADINAMIA'\n",
      " 'PERDA DO PALADAR' 'PERDA DE OLFATO E PALADAR' 'TAQUIPNEIA'\n",
      " 'MIALGIA, ANASTOMIA E PERDA PAL' 'DOR LOMBAR'\n",
      " 'ERISIPELA MIE, ICC DESCOMPENSA' 'APATICA' 'CORIZA; ADINAMIA'\n",
      " 'DOR ARTICULAR' 'DOR' 'DOR ABDOMINAL' 'DOR NO CORPO'\n",
      " 'ALTERACAO DE  RX DE TORAZ' 'ARTRALGIA' 'MIALGIA, ARTRALGIA' 'ADINAMIA'\n",
      " 'CORIZA, ANOSMIA' 'POLIMIALGIA/ PROSTACAO' 'RINORREIA'\n",
      " 'MIALGIA, TOSSE E DOR NO TORAX' 'CORIZA,ESCARRO, CALAFRIOS'\n",
      " 'TAQUIPNEIA E ARTRALGIA' 'HIPOTENSAO/ TAQUICARDIA' 'ANOSMIA E CEFALEIA'\n",
      " 'DOR NO PEITO, NAUSEA' 'CONFUSAO' 'MIALGIA, RINORREIA, CALAFRIOS'\n",
      " 'RINORREIA,DOR TORAC,CONG.NASAL' 'RESPIRANDO EM AR AMBIENTE'\n",
      " 'ESCARA SACRAL, FEITO DEBRIDAME' 'CONGESTAO NASAL' 'DOR EM TORX, MIALGIA'\n",
      " 'HIPOXIA TAQUIPNEIA' 'CORIZA, ADINAMIA, PROD.ESCARRO' 'FADIGA, MIALGIA ,'\n",
      " 'DOR TORAXICA' 'CEFALEIA, MIALGIA' 'MIALGIA, ANOSMIA' 'PROSTACAO'\n",
      " 'FALTA DE PALADAR E OLFATO' 'INAPETENCIA E BOCA SECA' 'ALGIA TORACICA'\n",
      " 'DOR NAS COSTA MIALGI NAUSEA AS' 'MIALGIA, CEFALEIA, CORIZA'\n",
      " 'FRAQUEZA, CANSACO, DOR ESTOMAG' 'INAPETENCIA, FRAQUEZA E PROSTA'\n",
      " 'MIALGIA/ASTENIA' 'DORSALGIA E CEFALEIA' 'ESCARRO, BTM NASAL'\n",
      " 'MIALGIA, DOR TORACICA' 'CEFALEIA E CORIZA' 'MIALGIA/ARTRALGIA'\n",
      " 'RINORREIA, ASTENIA, MIALGIA' 'SONOLENCIA, INAPETENCIA' 'DESORIENTACAO'\n",
      " 'ASTENIA, NAUSEAS' 'MIALGIA, CEFALEIA, ADINAMIA'\n",
      " 'CONGESTAO NASAL E CORIZA' 'HIPERTENSAO' 'HIPOREXIA'\n",
      " 'CEFALEIA, FADIGA, ARD. OCULAR' 'MIALGIA, CEFALEIA, CONGESTAO N'\n",
      " 'DOR TORACICA E ODINOFAGIA' 'ADINAMIA, INAPETENCIA'\n",
      " 'CEFARLEIA,PERDA DE OLFATO' 'DOR VENTILATORIO DEPENDENTE'\n",
      " 'CORIZA/CEFALEIA' 'HIPOTENSAO + HIPONATREMIA' 'CRISE CONVULSIVA'\n",
      " 'MIALGIA, CEFALEIA, FRAQUEZA' 'PARESTESIA EM MAOS, LIPOTIMIA'\n",
      " 'DISGEUSIA; PERDA DE FORCA.' 'ARTRALGIA, ADINAMIA'\n",
      " 'DOR TORACICA CEFALEIA  RINORRE' 'PNEUMONIA VIRAL'\n",
      " 'MIALGIA, DOR TORACICA NAUSEA' 'SPO35%' 'CALFRIOS; CEFALEIA; MIALGIA.'\n",
      " 'NAUSEA' 'NAUSEA PERDA PONDERAL' 'HAS' 'ASSINTOMATICO' 'PERDA DE APETITE'\n",
      " 'ODINOFAGIA' 'MIALGIA, ADINAMIA' 'DOR TORACICA, MIALGIA'\n",
      " 'CEFALEIA,ANOSTOMIA' 'DOR ABDOMINAL E HIPOATIVIDADE' 'FALTA DE PALADAR'\n",
      " 'MIALGIA, ASTENIA' 'ARTRALGIA,INAPETENCIA E FADIGA'\n",
      " 'CEFALEIA LOMBALGIA PERDA OLFAT' 'MIALGIA CONFUSAO MENTAL CALAFR'\n",
      " 'CEFALEIA; FADIGA']\n"
     ]
    }
   ],
   "source": [
    "#Verificando valores Unicos dos sintomas - 3.3.1\n",
    "print('Valores unicos Dor de Garganta:',CovidBA_Confirmado['DOR DE GARGANTA'].unique())\n",
    "print('Valores unicos Dispneia:',CovidBA_Confirmado['DISPNEIA'].unique())\n",
    "print('Valores unicos Febre:',CovidBA_Confirmado['FEBRE'].unique())\n",
    "print('Valores unicos Outros:',CovidBA_Confirmado['OUTROS'].unique())"
   ]
  },
  {
   "cell_type": "code",
   "execution_count": 70,
   "id": "55ea8653",
   "metadata": {},
   "outputs": [
    {
     "name": "stdout",
     "output_type": "stream",
     "text": [
      "Contagem de incidências de Dor de garganta \n",
      " NAO         1025010\n",
      "SIM          373009\n",
      "IGNORADA       7816\n",
      "Name: DOR DE GARGANTA, dtype: int64\n",
      "\n",
      "\n",
      "Contagem de incidências de dispneia \n",
      " NAO         1253051\n",
      "SIM          149373\n",
      "IGNORADA       3408\n",
      "Name: DISPNEIA, dtype: int64\n",
      "\n",
      "\n",
      "Contagem de incidências de Febre \n",
      " NAO         920903\n",
      "SIM         480862\n",
      "IGNORADA      4072\n",
      "Name: FEBRE, dtype: int64\n",
      "\n",
      "\n",
      "Contagem de incidências de Outros \n",
      " NAO                               777449\n",
      "SIM                               620082\n",
      "IGNORADA                            8111\n",
      "MIALGIA                               18\n",
      "CEFALEIA                               9\n",
      "                                   ...  \n",
      "ERISIPELA MIE, ICC DESCOMPENSA         1\n",
      "CONFUSAO                               1\n",
      "RINORREIA, ASTENIA, MIALGIA            1\n",
      "CORIZA/CEFALEIA                        1\n",
      "ADINAMIA, ANOSMIA                      1\n",
      "Name: OUTROS, Length: 130, dtype: int64\n",
      "\n",
      "\n",
      "Contagem de incidências de Outros \n",
      " NAO         770043\n",
      "SIM         632579\n",
      "IGNORADA      3216\n",
      "Name: TOSSE, dtype: int64\n"
     ]
    }
   ],
   "source": [
    "#contando os valores de sintomas\n",
    "print('Contagem de incidências de Dor de garganta \\n',CovidBA_Confirmado['DOR DE GARGANTA'].value_counts())\n",
    "print('\\n')\n",
    "print('Contagem de incidências de dispneia \\n',CovidBA_Confirmado['DISPNEIA'].value_counts())\n",
    "print('\\n')\n",
    "print('Contagem de incidências de Febre \\n',CovidBA_Confirmado['FEBRE'].value_counts())\n",
    "print('\\n')\n",
    "print('Contagem de incidências de Outros \\n',CovidBA_Confirmado['OUTROS'].value_counts())\n",
    "print('\\n')\n",
    "print('Contagem de incidências de Outros \\n',CovidBA_Confirmado['TOSSE'].value_counts())"
   ]
  },
  {
   "cell_type": "code",
   "execution_count": 71,
   "id": "289fddcf",
   "metadata": {},
   "outputs": [],
   "source": [
    "#removendo as linhas que possuem o status de sintoma = IGNORADO\n",
    "CovidBA_Confirmado.drop(CovidBA_Confirmado.loc[CovidBA_Confirmado['OUTROS']=='IGNORADA'].index, inplace=True)\n",
    "CovidBA_Confirmado.drop(CovidBA_Confirmado.loc[CovidBA_Confirmado['DOR DE GARGANTA']=='IGNORADA'].index, inplace=True)\n",
    "CovidBA_Confirmado.drop(CovidBA_Confirmado.loc[CovidBA_Confirmado['DISPNEIA']=='IGNORADA'].index, inplace=True)\n",
    "CovidBA_Confirmado.drop(CovidBA_Confirmado.loc[CovidBA_Confirmado['FEBRE']=='IGNORADA'].index, inplace=True)\n",
    "CovidBA_Confirmado.drop(CovidBA_Confirmado.loc[CovidBA_Confirmado['TOSSE']=='IGNORADA'].index, inplace=True)"
   ]
  },
  {
   "cell_type": "code",
   "execution_count": 72,
   "id": "b9544e32",
   "metadata": {},
   "outputs": [],
   "source": [
    "#criando a função que ira converter os sintomas para numero\n",
    "def convert_to_number(base):\n",
    "    if(base == 'SIM'):\n",
    "        return 1\n",
    "    elif(base == 'NAO'):\n",
    "        return 0\n",
    "    elif(base == np.nan):\n",
    "        return -1\n",
    "    else:\n",
    "        return np.nan"
   ]
  },
  {
   "cell_type": "code",
   "execution_count": 73,
   "id": "e112f251",
   "metadata": {},
   "outputs": [],
   "source": [
    "#criando a função que ira converter os sintomas para numero\n",
    "def others_to_number(base):\n",
    "    if(base == 'SIM'):\n",
    "        return 1\n",
    "    elif(base == 'NAO'):\n",
    "        return 0\n",
    "    elif(base == np.nan):\n",
    "        return -1\n",
    "    else:\n",
    "        return 1"
   ]
  },
  {
   "cell_type": "code",
   "execution_count": 74,
   "id": "7ae421b2",
   "metadata": {},
   "outputs": [],
   "source": [
    "#convertendo sintomas para numero\n",
    "#aplicando a base de conversão de numero nos sintomas levantados - Caso 1 - sim \n",
    "#Caso 0 - Não. Qualquer valor diferente desses receberá null\n",
    "CovidBA_Confirmado['DorGarganta_n'] = CovidBA_Confirmado['DOR DE GARGANTA'].apply(convert_to_number)\n",
    "CovidBA_Confirmado['Dispneia_n'] = CovidBA_Confirmado['DISPNEIA'].apply(convert_to_number)\n",
    "CovidBA_Confirmado['Febre_n']= CovidBA_Confirmado['FEBRE'].apply(convert_to_number)\n",
    "CovidBA_Confirmado['Outros_n']=CovidBA_Confirmado['OUTROS'].apply(others_to_number)\n",
    "CovidBA_Confirmado['Tosse_n']= CovidBA_Confirmado['TOSSE'].apply(convert_to_number)"
   ]
  },
  {
   "cell_type": "code",
   "execution_count": 75,
   "id": "73664cfb",
   "metadata": {},
   "outputs": [],
   "source": [
    "#removendo as colunas que tiveram seus dados convertidos em Sintomas\n",
    "CovidBA_Confirmado.drop(columns=['OUTROS','DOR DE GARGANTA','DISPNEIA','FEBRE','TOSSE'],inplace=True)"
   ]
  },
  {
   "cell_type": "code",
   "execution_count": 76,
   "id": "f96248ad",
   "metadata": {},
   "outputs": [],
   "source": [
    "#conversão de datas - 3.3.2\n",
    "#convertendo as datas que serão utilizadas de string para datetime\n",
    "CovidBA_Confirmado['dataNotificacao'] = pd.to_datetime(CovidBA_Confirmado['DATA DA NOTIFICACAO'])\n",
    "CovidBA_Confirmado['dataInicioSintomas'] = pd.to_datetime(CovidBA_Confirmado['DATA DO INICIO DOS SINTOMAS'])\n"
   ]
  },
  {
   "cell_type": "code",
   "execution_count": 77,
   "id": "0a81bd01",
   "metadata": {},
   "outputs": [],
   "source": [
    "#removendo os dados que foram convertidos e dados que nao serão utilizados no projeto\n",
    "CovidBA_Confirmado.drop(columns=['DATA DA NOTIFICACAO','DATA DO INICIO DOS SINTOMAS','DATA DA COLETA DO TESTE'],inplace=True)"
   ]
  },
  {
   "cell_type": "code",
   "execution_count": 78,
   "id": "f1102c7c",
   "metadata": {},
   "outputs": [
    {
     "name": "stdout",
     "output_type": "stream",
     "text": [
      "Valores unicos Doença - Respiratória: ['NAO' nan 'IGNORADA' 'SIM']\n",
      "Valores unicos Doença - Cardiaca: ['NAO' 'SIM' nan 'IGNORADA']\n",
      "Valores unicos Doença - Rins: ['NAO' nan 'IGNORADA' 'SIM']\n",
      "Valores unicos Doença - Diabetes: ['NAO' 'SIM' nan 'IGNORADA']\n",
      "Valores unicos Doença - Imunossuprimidos: ['NAO' nan 'IGNORADA' 'SIM']\n",
      "Valores unicos Doença - Cromossomica: ['NAO' nan 'SIM']\n"
     ]
    }
   ],
   "source": [
    "#Valores únicos de Doenças  - 3.3.3\n",
    "print('Valores unicos Doença - Respiratória:',CovidBA_Confirmado['DOENCAS RESPIRATORIAS CRONICAS DESCOMPENSADAS'].unique())\n",
    "print('Valores unicos Doença - Cardiaca:',CovidBA_Confirmado['DOENCAS CARDIACAS CRONICAS'].unique())\n",
    "print('Valores unicos Doença - Rins:',CovidBA_Confirmado['DOENCAS RENAIS CRONICAS EM ESTAGIO AVANCADO (GRAUS 3, 4 OU 5)'].unique())\n",
    "print('Valores unicos Doença - Diabetes:',CovidBA_Confirmado['DIABETES'].unique())\n",
    "print('Valores unicos Doença - Imunossuprimidos:',CovidBA_Confirmado['IMUNOSSUPRESSAO'].unique())\n",
    "print('Valores unicos Doença - Cromossomica:',CovidBA_Confirmado['PORTADOR DE DOENCAS CROMOSSOMICAS OU ESTADO DE FRAGILIDADE IMUNO'].unique())\n"
   ]
  },
  {
   "cell_type": "code",
   "execution_count": 79,
   "id": "7f29ffd3",
   "metadata": {},
   "outputs": [
    {
     "name": "stdout",
     "output_type": "stream",
     "text": [
      "Contagem de incidências- Doença - Respiratória: \n",
      " NAO         1373589\n",
      "SIM           16238\n",
      "IGNORADA       4969\n",
      "Name: DOENCAS RESPIRATORIAS CRONICAS DESCOMPENSADAS, dtype: int64\n",
      "\n",
      "\n",
      "Contagem de incidências de Doença - Cardiaca: \n",
      " NAO         1335475\n",
      "SIM           54486\n",
      "IGNORADA       4758\n",
      "Name: DOENCAS CARDIACAS CRONICAS, dtype: int64\n",
      "\n",
      "\n",
      "Contagem de incidências de Doença - Rins:\n",
      " NAO         1385295\n",
      "IGNORADA       5124\n",
      "SIM            4247\n",
      "Name: DOENCAS RENAIS CRONICAS EM ESTAGIO AVANCADO (GRAUS 3, 4 OU 5), dtype: int64\n",
      "\n",
      "\n",
      "Contagem de incidências de Doença - Diabetes: \n",
      " NAO         1351821\n",
      "SIM           38111\n",
      "IGNORADA       4844\n",
      "Name: DIABETES, dtype: int64\n",
      "\n",
      "\n",
      "Contagem de incidências de Doença - Imunossuprimidos: \n",
      " NAO         1384719\n",
      "IGNORADA       5117\n",
      "SIM            4830\n",
      "Name: IMUNOSSUPRESSAO, dtype: int64\n",
      "\n",
      "\n",
      "Contagem de incidências de Doença - Cromossomica:\n",
      " NAO    1384840\n",
      "SIM       2054\n",
      "Name: PORTADOR DE DOENCAS CROMOSSOMICAS OU ESTADO DE FRAGILIDADE IMUNO, dtype: int64\n"
     ]
    }
   ],
   "source": [
    "#contagem dos valores\n",
    "\n",
    "print('Contagem de incidências- Doença - Respiratória: \\n',CovidBA_Confirmado['DOENCAS RESPIRATORIAS CRONICAS DESCOMPENSADAS'].value_counts())\n",
    "print('\\n')\n",
    "print('Contagem de incidências de Doença - Cardiaca: \\n',CovidBA_Confirmado['DOENCAS CARDIACAS CRONICAS'].value_counts())\n",
    "print('\\n')\n",
    "print('Contagem de incidências de Doença - Rins:\\n',CovidBA_Confirmado['DOENCAS RENAIS CRONICAS EM ESTAGIO AVANCADO (GRAUS 3, 4 OU 5)'].value_counts())\n",
    "print('\\n')\n",
    "print('Contagem de incidências de Doença - Diabetes: \\n',CovidBA_Confirmado['DIABETES'].value_counts())\n",
    "print('\\n')\n",
    "print('Contagem de incidências de Doença - Imunossuprimidos: \\n',CovidBA_Confirmado['IMUNOSSUPRESSAO'].value_counts())\n",
    "print('\\n')\n",
    "print('Contagem de incidências de Doença - Cromossomica:\\n',CovidBA_Confirmado['PORTADOR DE DOENCAS CROMOSSOMICAS OU ESTADO DE FRAGILIDADE IMUNO'].value_counts())"
   ]
  },
  {
   "cell_type": "code",
   "execution_count": 80,
   "id": "a9cbb23a",
   "metadata": {},
   "outputs": [],
   "source": [
    "#removendo linhas com IGNORADA \n",
    "CovidBA_Confirmado.drop(\n",
    "    CovidBA_Confirmado.loc[CovidBA_Confirmado['DOENCAS RESPIRATORIAS CRONICAS DESCOMPENSADAS']=='IGNORADA'].index, inplace=True)\n",
    "\n",
    "CovidBA_Confirmado.drop(CovidBA_Confirmado.loc[CovidBA_Confirmado['DOENCAS CARDIACAS CRONICAS']=='IGNORADA'].index, inplace=True)\n",
    "\n",
    "CovidBA_Confirmado.drop(\n",
    "    CovidBA_Confirmado.loc[CovidBA_Confirmado['DOENCAS RENAIS CRONICAS EM ESTAGIO AVANCADO (GRAUS 3, 4 OU 5)']=='IGNORADA'].index, inplace=True)\n",
    "\n",
    "CovidBA_Confirmado.drop(CovidBA_Confirmado.loc[CovidBA_Confirmado['IMUNOSSUPRESSAO']=='IGNORADA'].index, inplace=True)\n",
    "\n",
    "CovidBA_Confirmado.drop(CovidBA_Confirmado.loc[CovidBA_Confirmado['DIABETES']=='IGNORADA'].index, inplace=True)"
   ]
  },
  {
   "cell_type": "code",
   "execution_count": 81,
   "id": "adebfd33",
   "metadata": {},
   "outputs": [],
   "source": [
    "#convertendo Comorbidades para numero\n",
    "#Caso 1 - Sim, Caso 0 - Não\n",
    "CovidBA_Confirmado['doencaRespiratoria'] = CovidBA_Confirmado['DOENCAS RESPIRATORIAS CRONICAS DESCOMPENSADAS'].apply(convert_to_number)\n",
    "CovidBA_Confirmado['doencaCardiaca'] = CovidBA_Confirmado['DOENCAS CARDIACAS CRONICAS'].apply(convert_to_number)\n",
    "CovidBA_Confirmado['doencaRenal'] = CovidBA_Confirmado['DOENCAS RENAIS CRONICAS EM ESTAGIO AVANCADO (GRAUS 3, 4 OU 5)'].apply(convert_to_number)\n",
    "CovidBA_Confirmado['imunossuprimido'] = CovidBA_Confirmado['IMUNOSSUPRESSAO'].apply(convert_to_number)\n",
    "CovidBA_Confirmado['diabetes'] = CovidBA_Confirmado['DIABETES'].apply(convert_to_number)\n",
    "CovidBA_Confirmado['doencaCromossomica'] = CovidBA_Confirmado['PORTADOR DE DOENCAS CROMOSSOMICAS OU ESTADO DE FRAGILIDADE IMUNO'].apply(convert_to_number)"
   ]
  },
  {
   "cell_type": "code",
   "execution_count": 82,
   "id": "7224610d",
   "metadata": {},
   "outputs": [],
   "source": [
    "#removendo os dados que foram convertidos \n",
    "CovidBA_Confirmado.drop(columns=['DOENCAS RESPIRATORIAS CRONICAS DESCOMPENSADAS','DOENCAS CARDIACAS CRONICAS', 'DIABETES','DOENCAS RENAIS CRONICAS EM ESTAGIO AVANCADO (GRAUS 3, 4 OU 5)','IMUNOSSUPRESSAO', 'PORTADOR DE DOENCAS CROMOSSOMICAS OU ESTADO DE FRAGILIDADE IMUNO'],inplace=True)"
   ]
  },
  {
   "cell_type": "code",
   "execution_count": 83,
   "id": "285cb187",
   "metadata": {},
   "outputs": [
    {
     "name": "stdout",
     "output_type": "stream",
     "text": [
      "Contagem de incidências na coluna Classificação Final \n",
      " CONFIRMADO LABORATORIALMENTE         855327\n",
      "CONFIRMADO TESTE RAPIDO              604167\n",
      "CONFIRMADO CLINICO-EPIDEMIOLOGICO      7080\n",
      "CONFIRMADO SOROLOGIA                   4584\n",
      "CONFIRMADO CLINICO-IMAGEM              1869\n",
      "Name: CLASSIFICACAO FINAL, dtype: int64\n",
      "\n",
      "\n",
      "Contagem de incidências na coluna Investigação Concluida? \n",
      " CONFIRMADO         1471134\n",
      "OLHAR MUNICIPIO       1893\n",
      "Name: INVESTIGACAO CONCLUIDA, dtype: int64\n",
      "\n",
      "\n",
      "Contagem de incidências na coluna Tipo do teste? \n",
      " RT-PCR EM TEMPO REAL                                     558426\n",
      "TESTE RAPIDO - ANTIGENO                                  304550\n",
      "TESTE RAPIDO - ANTICORPO                                 293068\n",
      "RT-PCR                                                   288604\n",
      "TESTE RAPIDO - ANTICORPO IGG                               3092\n",
      "TESTE RAPIDO - ANTICORPO IGM                               2796\n",
      "ENZIMAIMUNOENSAIO - ELISA IGM                              1353\n",
      "ANTICORPOS TOTAIS                                          1115\n",
      "IMUNOENSAIO POR ELETROQUIMIOLUMINESCENCIA - ECLIA IGG      1103\n",
      "TESTE SOROLOGICO IGG                                        963\n",
      "TESTE SOROLOGICO IGM                                        451\n",
      "QUIMIOLUMINESCENCIA - CLIA                                  258\n",
      "RT-LAMP                                                     232\n",
      "ENZIMAIMUNOENSAIO ELISA                                     181\n",
      "IMUNOENSAIO POR ELETROQUIMIOLUMINESCENCIA ECLIA             111\n",
      "TESTE SOROLOGICO IGA                                         99\n",
      "IMUNOENSAIO POR ELETROQUIMIOLU                               68\n",
      "TESTE RAPIDO                                                 25\n",
      "TESTE RAPIDO + VE                                             2\n",
      "TESTE RAPIDO-ANTICORPO                                        2\n",
      "VINCULO CLINICO EPIDEMIOLOGICO                                2\n",
      "IGM                                                           1\n",
      "Name: TIPO DE TESTE, dtype: int64\n",
      "\n",
      "\n",
      "Contagem de incidências na coluna Resultado do teste? \n",
      " POSITIVO                         1431902\n",
      "NEGATIVO                           15614\n",
      "INCONCLUSIVO OU INDETERMINADO       1260\n",
      "INCONCLUSIVO                         207\n",
      "INVESTIGACAO                           6\n",
      "Name: RESULTADO DO TESTE, dtype: int64\n",
      "\n",
      "\n",
      "Contagem de incidências na coluna Estado do teste? \n",
      " CONCLUIDO               963579\n",
      "COLETADO                301659\n",
      "SOLICITADO              171599\n",
      "EXAME NAO SOLICITADO     31165\n",
      "Name: ESTADO DO TESTE, dtype: int64\n",
      "\n",
      "\n",
      "Contagem de incidências na coluna Epidemia? \n",
      " COVID-19    1473027\n",
      "Name: EPIDEMIA, dtype: int64\n",
      "\n",
      "\n",
      "Contagem de incidências na coluna Banco? \n",
      " ESUS          1254629\n",
      "GAL            204406\n",
      "BASELINE         8515\n",
      "SIVEPGRIPE       5465\n",
      "Name: BANCO, dtype: int64\n",
      "\n",
      "\n"
     ]
    }
   ],
   "source": [
    "#analise de contagem de valores ds blocos de Classificação, Investigação, tipo, resultado e estado do teste , epidemia e banco\n",
    "#3.3.4\n",
    "print('Contagem de incidências na coluna Classificação Final \\n',CovidBA_Confirmado['CLASSIFICACAO FINAL'].value_counts())\n",
    "print('\\n')\n",
    "print('Contagem de incidências na coluna Investigação Concluida? \\n',CovidBA_Confirmado['INVESTIGACAO CONCLUIDA'].value_counts())\n",
    "print('\\n')\n",
    "print('Contagem de incidências na coluna Tipo do teste? \\n',CovidBA_Confirmado['TIPO DE TESTE'].value_counts())\n",
    "print('\\n')\n",
    "print('Contagem de incidências na coluna Resultado do teste? \\n',CovidBA_Confirmado['RESULTADO DO TESTE'].value_counts())\n",
    "print('\\n')\n",
    "print('Contagem de incidências na coluna Estado do teste? \\n',CovidBA_Confirmado['ESTADO DO TESTE'].value_counts())\n",
    "print('\\n')\n",
    "print('Contagem de incidências na coluna Epidemia? \\n',CovidBA_Confirmado['EPIDEMIA'].value_counts())\n",
    "print('\\n')\n",
    "print('Contagem de incidências na coluna Banco? \\n',CovidBA_Confirmado['BANCO'].value_counts())\n",
    "print('\\n')"
   ]
  },
  {
   "cell_type": "code",
   "execution_count": 84,
   "id": "318821ea",
   "metadata": {},
   "outputs": [],
   "source": [
    "#função que transforma resultado para numero\n",
    "def result_to_number(base):\n",
    "    if(base == 'NEGATIVO'):\n",
    "        return 0\n",
    "    elif(base == 'POSITIVO'):\n",
    "        return 1\n",
    "    elif((base == 'INCONCLUSIVO OU INDETERMINADO')or(base == 'INCONCLUSIVO')):\n",
    "        return 2\n",
    "    else:\n",
    "        return np.nan"
   ]
  },
  {
   "cell_type": "code",
   "execution_count": 85,
   "id": "d4b22449",
   "metadata": {},
   "outputs": [],
   "source": [
    "#removendo devido ao baixo numero de casos na base (6)\n",
    "CovidBA_Confirmado.drop(CovidBA_Confirmado.loc[CovidBA_Confirmado['RESULTADO DO TESTE']=='INVESTIGACAO'].index, inplace=True)"
   ]
  },
  {
   "cell_type": "code",
   "execution_count": 86,
   "id": "3ca648ed",
   "metadata": {},
   "outputs": [],
   "source": [
    "#aplicando a função de conversao da classificação para numero\n",
    "CovidBA_Confirmado['resultadoTeste'] = CovidBA_Confirmado['RESULTADO DO TESTE'].apply(result_to_number)"
   ]
  },
  {
   "cell_type": "code",
   "execution_count": 87,
   "id": "b026d202",
   "metadata": {},
   "outputs": [],
   "source": [
    "#Removendo colunas por nao possuirem relevancia para o projeto\n",
    "CovidBA_Confirmado.drop(columns=['BANCO','EPIDEMIA','TIPO DE TESTE','INVESTIGACAO CONCLUIDA',\n",
    "                                 'ESTADO DO TESTE','CLASSIFICACAO FINAL'],inplace=True)"
   ]
  },
  {
   "cell_type": "code",
   "execution_count": 88,
   "id": "a15c06a6",
   "metadata": {},
   "outputs": [
    {
     "data": {
      "text/plain": [
       "Index(['E PROFISSIONAL DE SAUDE?', 'GESTANTE DE ALTO RISCO', 'CBO',\n",
       "       'IDADE EM ANOS', 'TIPO IDADE', 'RESULTADO DO TESTE', 'SEXO', 'BAIRRO',\n",
       "       'ESTADO DE RESIDENCIA', 'MUNICIPIO DE RESIDENCIA', 'RACA/COR',\n",
       "       'DorGarganta_n', 'Dispneia_n', 'Febre_n', 'Outros_n', 'Tosse_n',\n",
       "       'dataNotificacao', 'dataInicioSintomas', 'doencaRespiratoria',\n",
       "       'doencaCardiaca', 'doencaRenal', 'imunossuprimido', 'diabetes',\n",
       "       'doencaCromossomica', 'resultadoTeste'],\n",
       "      dtype='object')"
      ]
     },
     "execution_count": 88,
     "metadata": {},
     "output_type": "execute_result"
    }
   ],
   "source": [
    "CovidBA_Confirmado.columns"
   ]
  },
  {
   "cell_type": "code",
   "execution_count": 89,
   "id": "1ad7093c",
   "metadata": {},
   "outputs": [
    {
     "data": {
      "text/html": [
       "<div>\n",
       "<style scoped>\n",
       "    .dataframe tbody tr th:only-of-type {\n",
       "        vertical-align: middle;\n",
       "    }\n",
       "\n",
       "    .dataframe tbody tr th {\n",
       "        vertical-align: top;\n",
       "    }\n",
       "\n",
       "    .dataframe thead th {\n",
       "        text-align: right;\n",
       "    }\n",
       "</style>\n",
       "<table border=\"1\" class=\"dataframe\">\n",
       "  <thead>\n",
       "    <tr style=\"text-align: right;\">\n",
       "      <th></th>\n",
       "      <th>E PROFISSIONAL DE SAUDE?</th>\n",
       "      <th>GESTANTE DE ALTO RISCO</th>\n",
       "      <th>CBO</th>\n",
       "      <th>IDADE EM ANOS</th>\n",
       "      <th>TIPO IDADE</th>\n",
       "      <th>RESULTADO DO TESTE</th>\n",
       "      <th>SEXO</th>\n",
       "      <th>BAIRRO</th>\n",
       "      <th>ESTADO DE RESIDENCIA</th>\n",
       "      <th>MUNICIPIO DE RESIDENCIA</th>\n",
       "      <th>...</th>\n",
       "      <th>Tosse_n</th>\n",
       "      <th>dataNotificacao</th>\n",
       "      <th>dataInicioSintomas</th>\n",
       "      <th>doencaRespiratoria</th>\n",
       "      <th>doencaCardiaca</th>\n",
       "      <th>doencaRenal</th>\n",
       "      <th>imunossuprimido</th>\n",
       "      <th>diabetes</th>\n",
       "      <th>doencaCromossomica</th>\n",
       "      <th>resultadoTeste</th>\n",
       "    </tr>\n",
       "  </thead>\n",
       "  <tbody>\n",
       "    <tr>\n",
       "      <th>0</th>\n",
       "      <td>NAO</td>\n",
       "      <td>NAO</td>\n",
       "      <td>NaN</td>\n",
       "      <td>34.0</td>\n",
       "      <td>ANO(S)</td>\n",
       "      <td>POSITIVO</td>\n",
       "      <td>MASCULINO</td>\n",
       "      <td>ZONA RURAL</td>\n",
       "      <td>BAHIA</td>\n",
       "      <td>CASTRO ALVES</td>\n",
       "      <td>...</td>\n",
       "      <td>0.0</td>\n",
       "      <td>2020-04-05</td>\n",
       "      <td>2020-04-29</td>\n",
       "      <td>0.0</td>\n",
       "      <td>0.0</td>\n",
       "      <td>0.0</td>\n",
       "      <td>0.0</td>\n",
       "      <td>0.0</td>\n",
       "      <td>0.0</td>\n",
       "      <td>1.0</td>\n",
       "    </tr>\n",
       "    <tr>\n",
       "      <th>1</th>\n",
       "      <td>NAO</td>\n",
       "      <td>NAO</td>\n",
       "      <td>NaN</td>\n",
       "      <td>34.0</td>\n",
       "      <td>ANO(S)</td>\n",
       "      <td>POSITIVO</td>\n",
       "      <td>MASCULINO</td>\n",
       "      <td>NaN</td>\n",
       "      <td>BAHIA</td>\n",
       "      <td>ITABUNA</td>\n",
       "      <td>...</td>\n",
       "      <td>1.0</td>\n",
       "      <td>2020-04-05</td>\n",
       "      <td>2020-04-25</td>\n",
       "      <td>0.0</td>\n",
       "      <td>0.0</td>\n",
       "      <td>0.0</td>\n",
       "      <td>0.0</td>\n",
       "      <td>0.0</td>\n",
       "      <td>0.0</td>\n",
       "      <td>1.0</td>\n",
       "    </tr>\n",
       "    <tr>\n",
       "      <th>2</th>\n",
       "      <td>SIM</td>\n",
       "      <td>NAO</td>\n",
       "      <td>TECNICO OU AUXILIAR EM ENFERMAGEM</td>\n",
       "      <td>27.0</td>\n",
       "      <td>ANO(S)</td>\n",
       "      <td>POSITIVO</td>\n",
       "      <td>MASCULINO</td>\n",
       "      <td>FATIMA</td>\n",
       "      <td>BAHIA</td>\n",
       "      <td>ITABUNA</td>\n",
       "      <td>...</td>\n",
       "      <td>0.0</td>\n",
       "      <td>2020-04-24</td>\n",
       "      <td>2020-04-30</td>\n",
       "      <td>0.0</td>\n",
       "      <td>0.0</td>\n",
       "      <td>0.0</td>\n",
       "      <td>0.0</td>\n",
       "      <td>0.0</td>\n",
       "      <td>0.0</td>\n",
       "      <td>1.0</td>\n",
       "    </tr>\n",
       "    <tr>\n",
       "      <th>3</th>\n",
       "      <td>NAO</td>\n",
       "      <td>NAO</td>\n",
       "      <td>NaN</td>\n",
       "      <td>42.0</td>\n",
       "      <td>ANO(S)</td>\n",
       "      <td>POSITIVO</td>\n",
       "      <td>FEMININO</td>\n",
       "      <td>ZONA RURAL</td>\n",
       "      <td>BAHIA</td>\n",
       "      <td>SANTA BARBARA</td>\n",
       "      <td>...</td>\n",
       "      <td>1.0</td>\n",
       "      <td>2020-04-27</td>\n",
       "      <td>2020-04-25</td>\n",
       "      <td>0.0</td>\n",
       "      <td>0.0</td>\n",
       "      <td>0.0</td>\n",
       "      <td>0.0</td>\n",
       "      <td>1.0</td>\n",
       "      <td>0.0</td>\n",
       "      <td>1.0</td>\n",
       "    </tr>\n",
       "    <tr>\n",
       "      <th>4</th>\n",
       "      <td>NAO</td>\n",
       "      <td>NAO</td>\n",
       "      <td>NaN</td>\n",
       "      <td>58.0</td>\n",
       "      <td>ANO(S)</td>\n",
       "      <td>POSITIVO</td>\n",
       "      <td>MASCULINO</td>\n",
       "      <td>SANTA RITA</td>\n",
       "      <td>BAHIA</td>\n",
       "      <td>NAZARE</td>\n",
       "      <td>...</td>\n",
       "      <td>1.0</td>\n",
       "      <td>2020-04-30</td>\n",
       "      <td>2020-04-25</td>\n",
       "      <td>0.0</td>\n",
       "      <td>0.0</td>\n",
       "      <td>0.0</td>\n",
       "      <td>0.0</td>\n",
       "      <td>0.0</td>\n",
       "      <td>0.0</td>\n",
       "      <td>1.0</td>\n",
       "    </tr>\n",
       "  </tbody>\n",
       "</table>\n",
       "<p>5 rows × 25 columns</p>\n",
       "</div>"
      ],
      "text/plain": [
       "  E PROFISSIONAL DE SAUDE? GESTANTE DE ALTO RISCO  \\\n",
       "0                      NAO                    NAO   \n",
       "1                      NAO                    NAO   \n",
       "2                      SIM                    NAO   \n",
       "3                      NAO                    NAO   \n",
       "4                      NAO                    NAO   \n",
       "\n",
       "                                 CBO  IDADE EM ANOS TIPO IDADE  \\\n",
       "0                                NaN           34.0     ANO(S)   \n",
       "1                                NaN           34.0     ANO(S)   \n",
       "2  TECNICO OU AUXILIAR EM ENFERMAGEM           27.0     ANO(S)   \n",
       "3                                NaN           42.0     ANO(S)   \n",
       "4                                NaN           58.0     ANO(S)   \n",
       "\n",
       "  RESULTADO DO TESTE       SEXO      BAIRRO ESTADO DE RESIDENCIA  \\\n",
       "0           POSITIVO  MASCULINO  ZONA RURAL                BAHIA   \n",
       "1           POSITIVO  MASCULINO         NaN                BAHIA   \n",
       "2           POSITIVO  MASCULINO      FATIMA                BAHIA   \n",
       "3           POSITIVO   FEMININO  ZONA RURAL                BAHIA   \n",
       "4           POSITIVO  MASCULINO  SANTA RITA                BAHIA   \n",
       "\n",
       "  MUNICIPIO DE RESIDENCIA  ... Tosse_n  dataNotificacao  dataInicioSintomas  \\\n",
       "0            CASTRO ALVES  ...     0.0       2020-04-05          2020-04-29   \n",
       "1                 ITABUNA  ...     1.0       2020-04-05          2020-04-25   \n",
       "2                 ITABUNA  ...     0.0       2020-04-24          2020-04-30   \n",
       "3           SANTA BARBARA  ...     1.0       2020-04-27          2020-04-25   \n",
       "4                  NAZARE  ...     1.0       2020-04-30          2020-04-25   \n",
       "\n",
       "   doencaRespiratoria  doencaCardiaca  doencaRenal imunossuprimido diabetes  \\\n",
       "0                 0.0             0.0          0.0             0.0      0.0   \n",
       "1                 0.0             0.0          0.0             0.0      0.0   \n",
       "2                 0.0             0.0          0.0             0.0      0.0   \n",
       "3                 0.0             0.0          0.0             0.0      1.0   \n",
       "4                 0.0             0.0          0.0             0.0      0.0   \n",
       "\n",
       "   doencaCromossomica  resultadoTeste  \n",
       "0                 0.0             1.0  \n",
       "1                 0.0             1.0  \n",
       "2                 0.0             1.0  \n",
       "3                 0.0             1.0  \n",
       "4                 0.0             1.0  \n",
       "\n",
       "[5 rows x 25 columns]"
      ]
     },
     "execution_count": 89,
     "metadata": {},
     "output_type": "execute_result"
    }
   ],
   "source": [
    "#coluna 3.3.5\n",
    "#analisando Idade e Tipo Idade\n",
    "CovidBA_Confirmado.head()"
   ]
  },
  {
   "cell_type": "code",
   "execution_count": 90,
   "id": "57c5b0e3",
   "metadata": {},
   "outputs": [
    {
     "name": "stdout",
     "output_type": "stream",
     "text": [
      "Valores e frequencias de TipoIdade \n",
      " ANO(S)     1451249\n",
      "ANOS          9454\n",
      "MES(ES)       6166\n",
      "DIA(S)        4905\n",
      "ANO            191\n",
      "DIAS            31\n",
      "MESES           30\n",
      "HORA(S)          4\n",
      "MES              2\n",
      "Name: TIPO IDADE, dtype: int64\n"
     ]
    }
   ],
   "source": [
    "#imprimindo valores de TIPOIDADE\n",
    "print('Valores e frequencias de TipoIdade \\n', CovidBA_Confirmado['TIPO IDADE'].value_counts())"
   ]
  },
  {
   "cell_type": "code",
   "execution_count": 91,
   "id": "c7709a33",
   "metadata": {},
   "outputs": [],
   "source": [
    "CovidBA_Confirmado.drop(CovidBA_Confirmado.loc[CovidBA_Confirmado['TIPO IDADE']=='MES(ES)'].index, inplace=True)\n",
    "CovidBA_Confirmado.drop(CovidBA_Confirmado.loc[CovidBA_Confirmado['TIPO IDADE']=='DIA(S)'].index, inplace=True)\n",
    "CovidBA_Confirmado.drop(CovidBA_Confirmado.loc[CovidBA_Confirmado['TIPO IDADE']=='DIAS'].index, inplace=True)\n",
    "CovidBA_Confirmado.drop(CovidBA_Confirmado.loc[CovidBA_Confirmado['TIPO IDADE']=='MESES'].index, inplace=True)\n",
    "CovidBA_Confirmado.drop(CovidBA_Confirmado.loc[CovidBA_Confirmado['TIPO IDADE']=='HORA(S)'].index, inplace=True)\n",
    "CovidBA_Confirmado.drop(CovidBA_Confirmado.loc[CovidBA_Confirmado['TIPO IDADE']=='MES'].index, inplace=True)\n"
   ]
  },
  {
   "cell_type": "code",
   "execution_count": 92,
   "id": "166da56a",
   "metadata": {},
   "outputs": [],
   "source": [
    "CovidBA_Confirmado.drop(columns=['TIPO IDADE'],inplace=True)"
   ]
  },
  {
   "cell_type": "code",
   "execution_count": 93,
   "id": "9f4b75da",
   "metadata": {},
   "outputs": [
    {
     "name": "stdout",
     "output_type": "stream",
     "text": [
      "Contagem de incidências na coluna Raça e Cor? \n",
      " PARDA       718099\n",
      "IGNORADO    297943\n",
      "BRANCA      151140\n",
      "AMARELA     148203\n",
      "PRETA       107875\n",
      "INDIGENA      3627\n",
      "IGNORADA      2677\n",
      "Name: RACA/COR, dtype: int64\n",
      "\n",
      "\n"
     ]
    }
   ],
   "source": [
    "#analisando os dados de Raca - Cor 3.3.6\n",
    "\n",
    "print('Contagem de incidências na coluna Raça e Cor? \\n',CovidBA_Confirmado['RACA/COR'].value_counts())\n",
    "print('\\n')                                              "
   ]
  },
  {
   "cell_type": "code",
   "execution_count": 94,
   "id": "dd8736c1",
   "metadata": {},
   "outputs": [],
   "source": [
    "#função que transforma raça e cor para numero\n",
    "def race_to_number(base):\n",
    "    if(base == 'PARDA'):\n",
    "        return 0\n",
    "    elif(base == 'BRANCA'): \n",
    "        return 1\n",
    "    elif((base == 'IGNORADO') or (base == 'IGNORADA')):\n",
    "        return -1\n",
    "    elif(base == 'AMARELA'):\n",
    "        return 2\n",
    "    elif(base == 'PRETA'):\n",
    "        return 3\n",
    "    elif(base == 'INDIGENA'):\n",
    "        return 4\n",
    "    else: \n",
    "        np.nan"
   ]
  },
  {
   "cell_type": "code",
   "execution_count": 95,
   "id": "f920adf9",
   "metadata": {},
   "outputs": [],
   "source": [
    "#transformando as informações de raca e cor para numerico\n",
    "CovidBA_Confirmado['raca_cor'] = CovidBA_Confirmado['RACA/COR'].apply(race_to_number)"
   ]
  },
  {
   "cell_type": "code",
   "execution_count": 96,
   "id": "753fe8f3",
   "metadata": {},
   "outputs": [
    {
     "name": "stdout",
     "output_type": "stream",
     "text": [
      "Contagem de incidências na coluna Sexo? \n",
      " FEMININO      809865\n",
      "MASCULINO     650673\n",
      "INDEFINIDO      1011\n",
      "IGNORADO          18\n",
      "Name: SEXO, dtype: int64\n",
      "\n",
      "\n"
     ]
    }
   ],
   "source": [
    "#analisando os dados de sexo 3.3.7\n",
    "print('Contagem de incidências na coluna Sexo? \\n',CovidBA_Confirmado['SEXO'].value_counts())\n",
    "print('\\n')"
   ]
  },
  {
   "cell_type": "code",
   "execution_count": 97,
   "id": "7c3e334f",
   "metadata": {},
   "outputs": [],
   "source": [
    " #removendo devido ao baixo numero de casos na base \n",
    "CovidBA_Confirmado.drop(CovidBA_Confirmado.loc[CovidBA_Confirmado['SEXO']=='IGNORADO'].index, inplace=True)"
   ]
  },
  {
   "cell_type": "code",
   "execution_count": 98,
   "id": "b5455079",
   "metadata": {},
   "outputs": [],
   "source": [
    "#criando uma função para converter sexo para numeros\n",
    "def sex_to_number(base):\n",
    "    if(base == 'FEMININO'):\n",
    "        return 0\n",
    "    elif(base =='MASCULINO'):\n",
    "        return 1\n",
    "    elif(base =='INDEFINIDO'):\n",
    "        return 2\n",
    "    else:\n",
    "        np.nan\n",
    "        "
   ]
  },
  {
   "cell_type": "code",
   "execution_count": 99,
   "id": "78837fc4",
   "metadata": {},
   "outputs": [],
   "source": [
    "#converte sexo para numeros e raça_cor para numero\n",
    "\n",
    "CovidBA_Confirmado['sexo'] = CovidBA_Confirmado['SEXO'].apply(sex_to_number)"
   ]
  },
  {
   "cell_type": "code",
   "execution_count": 100,
   "id": "38bdba05",
   "metadata": {},
   "outputs": [],
   "source": [
    "#removendo os resultados de testes, pois serao controlados de acordo com a Classificação - ULTIMAS CONSIDERAÇÕES - BA\n",
    "CovidBA_Confirmado.drop(columns=['E PROFISSIONAL DE SAUDE?', 'ESTADO DE RESIDENCIA','MUNICIPIO DE RESIDENCIA','CBO','BAIRRO','GESTANTE DE ALTO RISCO'],inplace=True)\n"
   ]
  },
  {
   "cell_type": "code",
   "execution_count": 101,
   "id": "0d53d91e",
   "metadata": {},
   "outputs": [
    {
     "data": {
      "text/plain": [
       "Index(['GESTANTE DE ALTO RISCO', 'IDADE EM ANOS', 'RESULTADO DO TESTE', 'SEXO',\n",
       "       'RACA/COR', 'DorGarganta_n', 'Dispneia_n', 'Febre_n', 'Outros_n',\n",
       "       'Tosse_n', 'dataNotificacao', 'dataInicioSintomas',\n",
       "       'doencaRespiratoria', 'doencaCardiaca', 'doencaRenal',\n",
       "       'imunossuprimido', 'diabetes', 'doencaCromossomica', 'resultadoTeste',\n",
       "       'raca_cor', 'sexo'],\n",
       "      dtype='object')"
      ]
     },
     "execution_count": 101,
     "metadata": {},
     "output_type": "execute_result"
    }
   ],
   "source": [
    "#ultimas considerações\n",
    "CovidBA_Confirmado.columns"
   ]
  },
  {
   "cell_type": "code",
   "execution_count": 102,
   "id": "49c11a18",
   "metadata": {},
   "outputs": [
    {
     "name": "stdout",
     "output_type": "stream",
     "text": [
      "<class 'pandas.core.frame.DataFrame'>\n",
      "Int64Index: 1461865 entries, 0 to 1489592\n",
      "Data columns (total 21 columns):\n",
      " #   Column                  Non-Null Count    Dtype         \n",
      "---  ------                  --------------    -----         \n",
      " 0   GESTANTE DE ALTO RISCO  1373869 non-null  object        \n",
      " 1   IDADE EM ANOS           1460938 non-null  float64       \n",
      " 2   RESULTADO DO TESTE      1438203 non-null  object        \n",
      " 3   SEXO                    1461549 non-null  object        \n",
      " 4   RACA/COR                1429553 non-null  object        \n",
      " 5   DorGarganta_n           1378479 non-null  float64       \n",
      " 6   Dispneia_n              1378476 non-null  float64       \n",
      " 7   Febre_n                 1378481 non-null  float64       \n",
      " 8   Outros_n                1461865 non-null  int64         \n",
      " 9   Tosse_n                 1378482 non-null  float64       \n",
      " 10  dataNotificacao         1460662 non-null  datetime64[ns]\n",
      " 11  dataInicioSintomas      1410626 non-null  datetime64[ns]\n",
      " 12  doencaRespiratoria      1378625 non-null  float64       \n",
      " 13  doencaCardiaca          1378530 non-null  float64       \n",
      " 14  doencaRenal             1378477 non-null  float64       \n",
      " 15  imunossuprimido         1378477 non-null  float64       \n",
      " 16  diabetes                1378587 non-null  float64       \n",
      " 17  doencaCromossomica      1373869 non-null  float64       \n",
      " 18  resultadoTeste          1438203 non-null  float64       \n",
      " 19  raca_cor                1429553 non-null  float64       \n",
      " 20  sexo                    1461549 non-null  float64       \n",
      "dtypes: datetime64[ns](2), float64(14), int64(1), object(4)\n",
      "memory usage: 245.4+ MB\n"
     ]
    }
   ],
   "source": [
    "\n",
    "CovidBA_Confirmado.info()"
   ]
  },
  {
   "cell_type": "markdown",
   "id": "f30e7918",
   "metadata": {},
   "source": [
    "# Explorando dados "
   ]
  },
  {
   "cell_type": "code",
   "execution_count": 103,
   "id": "6238398e",
   "metadata": {},
   "outputs": [
    {
     "data": {
      "text/plain": [
       "Index(['GESTANTE DE ALTO RISCO', 'IDADE EM ANOS', 'RESULTADO DO TESTE', 'SEXO',\n",
       "       'RACA/COR', 'DorGarganta_n', 'Dispneia_n', 'Febre_n', 'Outros_n',\n",
       "       'Tosse_n', 'dataNotificacao', 'dataInicioSintomas',\n",
       "       'doencaRespiratoria', 'doencaCardiaca', 'doencaRenal',\n",
       "       'imunossuprimido', 'diabetes', 'doencaCromossomica', 'resultadoTeste',\n",
       "       'raca_cor', 'sexo'],\n",
       "      dtype='object')"
      ]
     },
     "execution_count": 103,
     "metadata": {},
     "output_type": "execute_result"
    }
   ],
   "source": [
    "CovidBA_Confirmado.columns"
   ]
  },
  {
   "cell_type": "code",
   "execution_count": 104,
   "id": "172e29f1",
   "metadata": {},
   "outputs": [],
   "source": [
    "#criando um filtro com os dados de casos confirmados que tiveram resultado - positivo\n",
    "confirmados = CovidBA_Confirmado[CovidBA_Confirmado['RESULTADO DO TESTE']=='POSITIVO']"
   ]
  },
  {
   "cell_type": "code",
   "execution_count": 105,
   "id": "37921f0b",
   "metadata": {},
   "outputs": [],
   "source": [
    "#data do primeiro caso de Covid na BAhia\n",
    "selecao = (confirmados['dataNotificacao']>='2020-03-06')"
   ]
  },
  {
   "cell_type": "code",
   "execution_count": 106,
   "id": "8f5efd6e",
   "metadata": {},
   "outputs": [],
   "source": [
    "resultado = confirmados[selecao]"
   ]
  },
  {
   "cell_type": "code",
   "execution_count": 107,
   "id": "3d401091",
   "metadata": {},
   "outputs": [],
   "source": [
    "selecao =  (resultado['dataNotificacao']<='2022-02-22')"
   ]
  },
  {
   "cell_type": "code",
   "execution_count": 108,
   "id": "5182f01d",
   "metadata": {},
   "outputs": [],
   "source": [
    "#adicionando a variavel resultado todos os casos positivos que tiveram data de notificação entre março de 2020 e fevereiro de 2022\n",
    "resultado = resultado[selecao]"
   ]
  },
  {
   "cell_type": "code",
   "execution_count": 109,
   "id": "81c65198",
   "metadata": {},
   "outputs": [
    {
     "data": {
      "text/plain": [
       "<AxesSubplot:xlabel='dataNotificacao'>"
      ]
     },
     "execution_count": 109,
     "metadata": {},
     "output_type": "execute_result"
    },
    {
     "data": {
      "image/png": "[encoded data removed]",
      "text/plain": [
       "<Figure size 864x576 with 1 Axes>"
      ]
     },
     "metadata": {
      "needs_background": "light"
     },
     "output_type": "display_data"
    }
   ],
   "source": [
    "#Cadastros de casos confirmados\n",
    "plt.figure(figsize=(12,8))\n",
    "resultado.groupby(by='dataNotificacao')['RESULTADO DO TESTE'].count().plot()"
   ]
  },
  {
   "cell_type": "code",
   "execution_count": 110,
   "id": "6fb5bd2f",
   "metadata": {},
   "outputs": [],
   "source": [
    "#criação da variavel temporal_ba para plotagem grafica e utilização em modelos de serie temporal\n",
    "temporal_ba = resultado.groupby(by='dataNotificacao')['RESULTADO DO TESTE'].count()"
   ]
  },
  {
   "cell_type": "code",
   "execution_count": 111,
   "id": "37f5664b",
   "metadata": {},
   "outputs": [],
   "source": [
    "temporal_ba = pd.DataFrame(temporal_ba)"
   ]
  },
  {
   "cell_type": "code",
   "execution_count": 112,
   "id": "da2ba8da",
   "metadata": {},
   "outputs": [
    {
     "data": {
      "text/html": [
       "<div>\n",
       "<style scoped>\n",
       "    .dataframe tbody tr th:only-of-type {\n",
       "        vertical-align: middle;\n",
       "    }\n",
       "\n",
       "    .dataframe tbody tr th {\n",
       "        vertical-align: top;\n",
       "    }\n",
       "\n",
       "    .dataframe thead th {\n",
       "        text-align: right;\n",
       "    }\n",
       "</style>\n",
       "<table border=\"1\" class=\"dataframe\">\n",
       "  <thead>\n",
       "    <tr style=\"text-align: right;\">\n",
       "      <th></th>\n",
       "      <th>RESULTADO DO TESTE</th>\n",
       "    </tr>\n",
       "    <tr>\n",
       "      <th>dataNotificacao</th>\n",
       "      <th></th>\n",
       "    </tr>\n",
       "  </thead>\n",
       "  <tbody>\n",
       "    <tr>\n",
       "      <th>2020-03-06</th>\n",
       "      <td>2601</td>\n",
       "    </tr>\n",
       "    <tr>\n",
       "      <th>2020-03-07</th>\n",
       "      <td>4638</td>\n",
       "    </tr>\n",
       "    <tr>\n",
       "      <th>2020-03-08</th>\n",
       "      <td>4457</td>\n",
       "    </tr>\n",
       "    <tr>\n",
       "      <th>2020-03-09</th>\n",
       "      <td>2622</td>\n",
       "    </tr>\n",
       "    <tr>\n",
       "      <th>2020-03-10</th>\n",
       "      <td>496</td>\n",
       "    </tr>\n",
       "    <tr>\n",
       "      <th>...</th>\n",
       "      <td>...</td>\n",
       "    </tr>\n",
       "    <tr>\n",
       "      <th>2022-02-18</th>\n",
       "      <td>1272</td>\n",
       "    </tr>\n",
       "    <tr>\n",
       "      <th>2022-02-19</th>\n",
       "      <td>352</td>\n",
       "    </tr>\n",
       "    <tr>\n",
       "      <th>2022-02-20</th>\n",
       "      <td>108</td>\n",
       "    </tr>\n",
       "    <tr>\n",
       "      <th>2022-02-21</th>\n",
       "      <td>1107</td>\n",
       "    </tr>\n",
       "    <tr>\n",
       "      <th>2022-02-22</th>\n",
       "      <td>42</td>\n",
       "    </tr>\n",
       "  </tbody>\n",
       "</table>\n",
       "<p>688 rows × 1 columns</p>\n",
       "</div>"
      ],
      "text/plain": [
       "                 RESULTADO DO TESTE\n",
       "dataNotificacao                    \n",
       "2020-03-06                     2601\n",
       "2020-03-07                     4638\n",
       "2020-03-08                     4457\n",
       "2020-03-09                     2622\n",
       "2020-03-10                      496\n",
       "...                             ...\n",
       "2022-02-18                     1272\n",
       "2022-02-19                      352\n",
       "2022-02-20                      108\n",
       "2022-02-21                     1107\n",
       "2022-02-22                       42\n",
       "\n",
       "[688 rows x 1 columns]"
      ]
     },
     "execution_count": 112,
     "metadata": {},
     "output_type": "execute_result"
    }
   ],
   "source": [
    "temporal_ba"
   ]
  },
  {
   "cell_type": "code",
   "execution_count": 113,
   "id": "2815379a",
   "metadata": {},
   "outputs": [
    {
     "data": {
      "text/plain": [
       "953.0"
      ]
     },
     "execution_count": 113,
     "metadata": {},
     "output_type": "execute_result"
    }
   ],
   "source": [
    "resultado['IDADE EM ANOS'].max()"
   ]
  },
  {
   "cell_type": "code",
   "execution_count": 114,
   "id": "0e95923f",
   "metadata": {},
   "outputs": [],
   "source": [
    "#corrigindo o valor de idade \n",
    "selecao = (resultado['IDADE EM ANOS']<= 100)"
   ]
  },
  {
   "cell_type": "code",
   "execution_count": 115,
   "id": "ae2ddb73",
   "metadata": {},
   "outputs": [],
   "source": [
    "resultado = resultado[selecao]"
   ]
  },
  {
   "cell_type": "code",
   "execution_count": 116,
   "id": "fba2736b",
   "metadata": {},
   "outputs": [
    {
     "data": {
      "text/plain": [
       "<AxesSubplot:xlabel='IDADE EM ANOS', ylabel='Count'>"
      ]
     },
     "execution_count": 116,
     "metadata": {},
     "output_type": "execute_result"
    },
    {
     "data": {
      "image/png": "[encoded data removed]",
      "text/plain": [
       "<Figure size 576x432 with 1 Axes>"
      ]
     },
     "metadata": {
      "needs_background": "light"
     },
     "output_type": "display_data"
    }
   ],
   "source": [
    "#registro de idadeos \n",
    "plt.figure(figsize=(8,6))\n",
    "sns.histplot(x='IDADE EM ANOS',data=resultado)"
   ]
  },
  {
   "cell_type": "code",
   "execution_count": 117,
   "id": "f3b06c84",
   "metadata": {},
   "outputs": [
    {
     "data": {
      "text/plain": [
       "<AxesSubplot:xlabel='RACA/COR', ylabel='count'>"
      ]
     },
     "execution_count": 117,
     "metadata": {},
     "output_type": "execute_result"
    },
    {
     "data": {
      "image/png": "[encoded data removed]",
      "text/plain": [
       "<Figure size 576x432 with 1 Axes>"
      ]
     },
     "metadata": {
      "needs_background": "light"
     },
     "output_type": "display_data"
    }
   ],
   "source": [
    "#Raça\n",
    "plt.figure(figsize=(8,6))\n",
    "sns.countplot(x=confirmados['RACA/COR'],data=confirmados)"
   ]
  },
  {
   "cell_type": "code",
   "execution_count": 118,
   "id": "4a544a42",
   "metadata": {},
   "outputs": [
    {
     "data": {
      "text/plain": [
       "<AxesSubplot:xlabel='Outros_n', ylabel='count'>"
      ]
     },
     "execution_count": 118,
     "metadata": {},
     "output_type": "execute_result"
    },
    {
     "data": {
      "image/png": "[encoded data removed]",
      "text/plain": [
       "<Figure size 432x288 with 1 Axes>"
      ]
     },
     "metadata": {
      "needs_background": "light"
     },
     "output_type": "display_data"
    }
   ],
   "source": [
    "#sintomas\n",
    "sns.countplot(x='Outros_n',data=resultado)"
   ]
  },
  {
   "cell_type": "code",
   "execution_count": 119,
   "id": "fa81198a",
   "metadata": {},
   "outputs": [
    {
     "data": {
      "text/plain": [
       "<AxesSubplot:xlabel='Febre_n', ylabel='count'>"
      ]
     },
     "execution_count": 119,
     "metadata": {},
     "output_type": "execute_result"
    },
    {
     "data": {
      "image/png": "[encoded data removed]",
      "text/plain": [
       "<Figure size 432x288 with 1 Axes>"
      ]
     },
     "metadata": {
      "needs_background": "light"
     },
     "output_type": "display_data"
    }
   ],
   "source": [
    "#sintomas - Febre\n",
    "sns.countplot(x='Febre_n',data=resultado)"
   ]
  },
  {
   "cell_type": "code",
   "execution_count": 120,
   "id": "602d5e10",
   "metadata": {},
   "outputs": [
    {
     "data": {
      "text/plain": [
       "<AxesSubplot:xlabel='Dispneia_n', ylabel='count'>"
      ]
     },
     "execution_count": 120,
     "metadata": {},
     "output_type": "execute_result"
    },
    {
     "data": {
      "image/png": "[encoded data removed]",
      "text/plain": [
       "<Figure size 432x288 with 1 Axes>"
      ]
     },
     "metadata": {
      "needs_background": "light"
     },
     "output_type": "display_data"
    }
   ],
   "source": [
    "#sintomas - Dispneia\n",
    "sns.countplot(x='Dispneia_n',data=resultado)"
   ]
  },
  {
   "cell_type": "code",
   "execution_count": 121,
   "id": "8c847a9c",
   "metadata": {},
   "outputs": [
    {
     "data": {
      "text/plain": [
       "<AxesSubplot:xlabel='DorGarganta_n', ylabel='count'>"
      ]
     },
     "execution_count": 121,
     "metadata": {},
     "output_type": "execute_result"
    },
    {
     "data": {
      "image/png": "[encoded data removed]",
      "text/plain": [
       "<Figure size 432x288 with 1 Axes>"
      ]
     },
     "metadata": {
      "needs_background": "light"
     },
     "output_type": "display_data"
    }
   ],
   "source": [
    "#sintomas - Dor de Garganta\n",
    "sns.countplot(x='DorGarganta_n',data=resultado)"
   ]
  },
  {
   "cell_type": "code",
   "execution_count": 122,
   "id": "b678aebf",
   "metadata": {},
   "outputs": [
    {
     "data": {
      "text/plain": [
       "<AxesSubplot:xlabel='doencaCardiaca', ylabel='count'>"
      ]
     },
     "execution_count": 122,
     "metadata": {},
     "output_type": "execute_result"
    },
    {
     "data": {
      "image/png": "[encoded data removed]",
      "text/plain": [
       "<Figure size 432x288 with 1 Axes>"
      ]
     },
     "metadata": {
      "needs_background": "light"
     },
     "output_type": "display_data"
    }
   ],
   "source": [
    "#Doença - Cardiaca\n",
    "sns.countplot(x='doencaCardiaca',data=resultado)"
   ]
  },
  {
   "cell_type": "code",
   "execution_count": 125,
   "id": "2a5860ea",
   "metadata": {},
   "outputs": [
    {
     "data": {
      "text/plain": [
       "<AxesSubplot:xlabel='doencaRespiratoria', ylabel='count'>"
      ]
     },
     "execution_count": 125,
     "metadata": {},
     "output_type": "execute_result"
    },
    {
     "data": {
      "image/png": "[encoded data removed]",
      "text/plain": [
       "<Figure size 432x288 with 1 Axes>"
      ]
     },
     "metadata": {
      "needs_background": "light"
     },
     "output_type": "display_data"
    }
   ],
   "source": [
    "#Doença - Respiratória\n",
    "sns.countplot(x='doencaRespiratoria',data=resultado)"
   ]
  },
  {
   "cell_type": "code",
   "execution_count": 124,
   "id": "d5df481a",
   "metadata": {},
   "outputs": [
    {
     "data": {
      "text/plain": [
       "<AxesSubplot:xlabel='doencaRenal', ylabel='count'>"
      ]
     },
     "execution_count": 124,
     "metadata": {},
     "output_type": "execute_result"
    },
    {
     "data": {
      "image/png": "[encoded data removed]",
      "text/plain": [
       "<Figure size 432x288 with 1 Axes>"
      ]
     },
     "metadata": {
      "needs_background": "light"
     },
     "output_type": "display_data"
    }
   ],
   "source": [
    "#Doença - Renal\n",
    "sns.countplot(x='doencaRenal',data=resultado)"
   ]
  },
  {
   "cell_type": "code",
   "execution_count": 126,
   "id": "c4d7ad62",
   "metadata": {},
   "outputs": [
    {
     "data": {
      "text/plain": [
       "<AxesSubplot:xlabel='imunossuprimido', ylabel='count'>"
      ]
     },
     "execution_count": 126,
     "metadata": {},
     "output_type": "execute_result"
    },
    {
     "data": {
      "image/png": "[encoded data removed]",
      "text/plain": [
       "<Figure size 432x288 with 1 Axes>"
      ]
     },
     "metadata": {
      "needs_background": "light"
     },
     "output_type": "display_data"
    }
   ],
   "source": [
    "#Doença - Imunossuprimido\n",
    "sns.countplot(x='imunossuprimido',data=resultado)"
   ]
  },
  {
   "cell_type": "code",
   "execution_count": 127,
   "id": "40e3fda7",
   "metadata": {},
   "outputs": [
    {
     "data": {
      "text/plain": [
       "<AxesSubplot:xlabel='diabetes', ylabel='count'>"
      ]
     },
     "execution_count": 127,
     "metadata": {},
     "output_type": "execute_result"
    },
    {
     "data": {
      "image/png": "[encoded data removed]",
      "text/plain": [
       "<Figure size 432x288 with 1 Axes>"
      ]
     },
     "metadata": {
      "needs_background": "light"
     },
     "output_type": "display_data"
    }
   ],
   "source": [
    "#Doença - Diabetes\n",
    "sns.countplot(x='diabetes',data=resultado)"
   ]
  },
  {
   "cell_type": "code",
   "execution_count": 128,
   "id": "d83186d8",
   "metadata": {},
   "outputs": [
    {
     "data": {
      "text/plain": [
       "<AxesSubplot:xlabel='doencaCromossomica', ylabel='count'>"
      ]
     },
     "execution_count": 128,
     "metadata": {},
     "output_type": "execute_result"
    },
    {
     "data": {
      "image/png": "[encoded data removed]",
      "text/plain": [
       "<Figure size 432x288 with 1 Axes>"
      ]
     },
     "metadata": {
      "needs_background": "light"
     },
     "output_type": "display_data"
    }
   ],
   "source": [
    "#doença - Cromossomica\n",
    "sns.countplot(x='doencaCromossomica',data=resultado)"
   ]
  },
  {
   "cell_type": "markdown",
   "id": "b25265fc",
   "metadata": {},
   "source": [
    "# Aplicando o modelo"
   ]
  },
  {
   "cell_type": "code",
   "execution_count": 129,
   "id": "9fe2558c",
   "metadata": {},
   "outputs": [],
   "source": [
    "correlacao = CovidBA_Confirmado.corr()"
   ]
  },
  {
   "cell_type": "code",
   "execution_count": 130,
   "id": "5c795411",
   "metadata": {},
   "outputs": [
    {
     "data": {
      "text/plain": [
       "<AxesSubplot:>"
      ]
     },
     "execution_count": 130,
     "metadata": {},
     "output_type": "execute_result"
    },
    {
     "data": {
      "image/png": "[encoded data removed]",
      "text/plain": [
       "<Figure size 1008x576 with 2 Axes>"
      ]
     },
     "metadata": {
      "needs_background": "light"
     },
     "output_type": "display_data"
    }
   ],
   "source": [
    "plt.figure(figsize=(14,8))\n",
    "plot = sns.heatmap(correlacao, annot = True, fmt=\".1f\", linewidths=.6)\n",
    "plot"
   ]
  },
  {
   "cell_type": "code",
   "execution_count": 131,
   "id": "97912251",
   "metadata": {},
   "outputs": [
    {
     "data": {
      "text/plain": [
       "1.0    1421311\n",
       "0.0      15448\n",
       "2.0       1444\n",
       "Name: resultadoTeste, dtype: int64"
      ]
     },
     "execution_count": 131,
     "metadata": {},
     "output_type": "execute_result"
    }
   ],
   "source": [
    "CovidBA_Confirmado['resultadoTeste'].value_counts()"
   ]
  },
  {
   "cell_type": "code",
   "execution_count": 132,
   "id": "f9496503",
   "metadata": {},
   "outputs": [],
   "source": [
    "#criando um novo dataset com valores padronizados de classificação\n",
    "classifier_covid  = CovidBA_Confirmado[CovidBA_Confirmado['resultadoTeste']==0]"
   ]
  },
  {
   "cell_type": "code",
   "execution_count": 133,
   "id": "84e5348c",
   "metadata": {},
   "outputs": [],
   "source": [
    "#adicionando o mesmo numero de confirmados de forma aleatoria\n",
    "classifier_covid = classifier_covid.append(CovidBA_Confirmado[CovidBA_Confirmado['resultadoTeste'] == 1].sample(n=30000))"
   ]
  },
  {
   "cell_type": "code",
   "execution_count": 134,
   "id": "6e821457",
   "metadata": {},
   "outputs": [
    {
     "data": {
      "text/plain": [
       "1.0    30000\n",
       "0.0    15448\n",
       "Name: resultadoTeste, dtype: int64"
      ]
     },
     "execution_count": 134,
     "metadata": {},
     "output_type": "execute_result"
    }
   ],
   "source": [
    "#validando os valores\n",
    "classifier_covid['resultadoTeste'].value_counts()"
   ]
  },
  {
   "cell_type": "code",
   "execution_count": 135,
   "id": "8120f928",
   "metadata": {},
   "outputs": [
    {
     "data": {
      "text/plain": [
       "Index(['GESTANTE DE ALTO RISCO', 'IDADE EM ANOS', 'RESULTADO DO TESTE', 'SEXO',\n",
       "       'RACA/COR', 'DorGarganta_n', 'Dispneia_n', 'Febre_n', 'Outros_n',\n",
       "       'Tosse_n', 'dataNotificacao', 'dataInicioSintomas',\n",
       "       'doencaRespiratoria', 'doencaCardiaca', 'doencaRenal',\n",
       "       'imunossuprimido', 'diabetes', 'doencaCromossomica', 'resultadoTeste',\n",
       "       'raca_cor', 'sexo'],\n",
       "      dtype='object')"
      ]
     },
     "execution_count": 135,
     "metadata": {},
     "output_type": "execute_result"
    }
   ],
   "source": [
    "classifier_covid.columns"
   ]
  },
  {
   "cell_type": "code",
   "execution_count": 137,
   "id": "03637b83",
   "metadata": {},
   "outputs": [],
   "source": [
    "#removendo colunas que nao serão utilizadas\n",
    "classifier_covid.drop(columns=['RESULTADO DO TESTE', 'SEXO','RACA/COR', 'dataNotificacao', 'dataInicioSintomas','imunossuprimido','raca_cor'],inplace=True)"
   ]
  },
  {
   "cell_type": "code",
   "execution_count": 141,
   "id": "75b0cb26",
   "metadata": {},
   "outputs": [
    {
     "data": {
      "text/html": [
       "<div>\n",
       "<style scoped>\n",
       "    .dataframe tbody tr th:only-of-type {\n",
       "        vertical-align: middle;\n",
       "    }\n",
       "\n",
       "    .dataframe tbody tr th {\n",
       "        vertical-align: top;\n",
       "    }\n",
       "\n",
       "    .dataframe thead th {\n",
       "        text-align: right;\n",
       "    }\n",
       "</style>\n",
       "<table border=\"1\" class=\"dataframe\">\n",
       "  <thead>\n",
       "    <tr style=\"text-align: right;\">\n",
       "      <th></th>\n",
       "      <th>IDADE EM ANOS</th>\n",
       "      <th>DorGarganta_n</th>\n",
       "      <th>Dispneia_n</th>\n",
       "      <th>Febre_n</th>\n",
       "      <th>Outros_n</th>\n",
       "      <th>Tosse_n</th>\n",
       "      <th>doencaRespiratoria</th>\n",
       "      <th>doencaCardiaca</th>\n",
       "      <th>doencaRenal</th>\n",
       "      <th>diabetes</th>\n",
       "      <th>doencaCromossomica</th>\n",
       "      <th>resultadoTeste</th>\n",
       "      <th>sexo</th>\n",
       "    </tr>\n",
       "  </thead>\n",
       "  <tbody>\n",
       "    <tr>\n",
       "      <th>194</th>\n",
       "      <td>42.0</td>\n",
       "      <td>0.0</td>\n",
       "      <td>0.0</td>\n",
       "      <td>0.0</td>\n",
       "      <td>0</td>\n",
       "      <td>1.0</td>\n",
       "      <td>0.0</td>\n",
       "      <td>0.0</td>\n",
       "      <td>0.0</td>\n",
       "      <td>0.0</td>\n",
       "      <td>0.0</td>\n",
       "      <td>0.0</td>\n",
       "      <td>1.0</td>\n",
       "    </tr>\n",
       "    <tr>\n",
       "      <th>203</th>\n",
       "      <td>78.0</td>\n",
       "      <td>0.0</td>\n",
       "      <td>0.0</td>\n",
       "      <td>0.0</td>\n",
       "      <td>0</td>\n",
       "      <td>0.0</td>\n",
       "      <td>0.0</td>\n",
       "      <td>0.0</td>\n",
       "      <td>0.0</td>\n",
       "      <td>0.0</td>\n",
       "      <td>0.0</td>\n",
       "      <td>0.0</td>\n",
       "      <td>0.0</td>\n",
       "    </tr>\n",
       "    <tr>\n",
       "      <th>252</th>\n",
       "      <td>61.0</td>\n",
       "      <td>0.0</td>\n",
       "      <td>0.0</td>\n",
       "      <td>1.0</td>\n",
       "      <td>0</td>\n",
       "      <td>1.0</td>\n",
       "      <td>0.0</td>\n",
       "      <td>0.0</td>\n",
       "      <td>0.0</td>\n",
       "      <td>0.0</td>\n",
       "      <td>0.0</td>\n",
       "      <td>0.0</td>\n",
       "      <td>1.0</td>\n",
       "    </tr>\n",
       "    <tr>\n",
       "      <th>257</th>\n",
       "      <td>20.0</td>\n",
       "      <td>0.0</td>\n",
       "      <td>0.0</td>\n",
       "      <td>0.0</td>\n",
       "      <td>1</td>\n",
       "      <td>0.0</td>\n",
       "      <td>0.0</td>\n",
       "      <td>0.0</td>\n",
       "      <td>0.0</td>\n",
       "      <td>0.0</td>\n",
       "      <td>0.0</td>\n",
       "      <td>0.0</td>\n",
       "      <td>0.0</td>\n",
       "    </tr>\n",
       "    <tr>\n",
       "      <th>306</th>\n",
       "      <td>76.0</td>\n",
       "      <td>0.0</td>\n",
       "      <td>1.0</td>\n",
       "      <td>1.0</td>\n",
       "      <td>0</td>\n",
       "      <td>1.0</td>\n",
       "      <td>0.0</td>\n",
       "      <td>1.0</td>\n",
       "      <td>0.0</td>\n",
       "      <td>0.0</td>\n",
       "      <td>0.0</td>\n",
       "      <td>0.0</td>\n",
       "      <td>0.0</td>\n",
       "    </tr>\n",
       "    <tr>\n",
       "      <th>...</th>\n",
       "      <td>...</td>\n",
       "      <td>...</td>\n",
       "      <td>...</td>\n",
       "      <td>...</td>\n",
       "      <td>...</td>\n",
       "      <td>...</td>\n",
       "      <td>...</td>\n",
       "      <td>...</td>\n",
       "      <td>...</td>\n",
       "      <td>...</td>\n",
       "      <td>...</td>\n",
       "      <td>...</td>\n",
       "      <td>...</td>\n",
       "    </tr>\n",
       "    <tr>\n",
       "      <th>1260652</th>\n",
       "      <td>32.0</td>\n",
       "      <td>1.0</td>\n",
       "      <td>0.0</td>\n",
       "      <td>1.0</td>\n",
       "      <td>1</td>\n",
       "      <td>0.0</td>\n",
       "      <td>0.0</td>\n",
       "      <td>0.0</td>\n",
       "      <td>0.0</td>\n",
       "      <td>0.0</td>\n",
       "      <td>0.0</td>\n",
       "      <td>1.0</td>\n",
       "      <td>0.0</td>\n",
       "    </tr>\n",
       "    <tr>\n",
       "      <th>899837</th>\n",
       "      <td>39.0</td>\n",
       "      <td>1.0</td>\n",
       "      <td>0.0</td>\n",
       "      <td>0.0</td>\n",
       "      <td>1</td>\n",
       "      <td>1.0</td>\n",
       "      <td>0.0</td>\n",
       "      <td>0.0</td>\n",
       "      <td>0.0</td>\n",
       "      <td>0.0</td>\n",
       "      <td>0.0</td>\n",
       "      <td>1.0</td>\n",
       "      <td>0.0</td>\n",
       "    </tr>\n",
       "    <tr>\n",
       "      <th>961773</th>\n",
       "      <td>21.0</td>\n",
       "      <td>1.0</td>\n",
       "      <td>0.0</td>\n",
       "      <td>0.0</td>\n",
       "      <td>0</td>\n",
       "      <td>0.0</td>\n",
       "      <td>0.0</td>\n",
       "      <td>0.0</td>\n",
       "      <td>0.0</td>\n",
       "      <td>0.0</td>\n",
       "      <td>0.0</td>\n",
       "      <td>1.0</td>\n",
       "      <td>1.0</td>\n",
       "    </tr>\n",
       "    <tr>\n",
       "      <th>352822</th>\n",
       "      <td>29.0</td>\n",
       "      <td>0.0</td>\n",
       "      <td>0.0</td>\n",
       "      <td>1.0</td>\n",
       "      <td>0</td>\n",
       "      <td>1.0</td>\n",
       "      <td>0.0</td>\n",
       "      <td>0.0</td>\n",
       "      <td>0.0</td>\n",
       "      <td>0.0</td>\n",
       "      <td>0.0</td>\n",
       "      <td>1.0</td>\n",
       "      <td>0.0</td>\n",
       "    </tr>\n",
       "    <tr>\n",
       "      <th>588308</th>\n",
       "      <td>30.0</td>\n",
       "      <td>0.0</td>\n",
       "      <td>0.0</td>\n",
       "      <td>0.0</td>\n",
       "      <td>1</td>\n",
       "      <td>0.0</td>\n",
       "      <td>0.0</td>\n",
       "      <td>0.0</td>\n",
       "      <td>0.0</td>\n",
       "      <td>0.0</td>\n",
       "      <td>0.0</td>\n",
       "      <td>1.0</td>\n",
       "      <td>1.0</td>\n",
       "    </tr>\n",
       "  </tbody>\n",
       "</table>\n",
       "<p>45448 rows × 13 columns</p>\n",
       "</div>"
      ],
      "text/plain": [
       "         IDADE EM ANOS  DorGarganta_n  Dispneia_n  Febre_n  Outros_n  Tosse_n  \\\n",
       "194               42.0            0.0         0.0      0.0         0      1.0   \n",
       "203               78.0            0.0         0.0      0.0         0      0.0   \n",
       "252               61.0            0.0         0.0      1.0         0      1.0   \n",
       "257               20.0            0.0         0.0      0.0         1      0.0   \n",
       "306               76.0            0.0         1.0      1.0         0      1.0   \n",
       "...                ...            ...         ...      ...       ...      ...   \n",
       "1260652           32.0            1.0         0.0      1.0         1      0.0   \n",
       "899837            39.0            1.0         0.0      0.0         1      1.0   \n",
       "961773            21.0            1.0         0.0      0.0         0      0.0   \n",
       "352822            29.0            0.0         0.0      1.0         0      1.0   \n",
       "588308            30.0            0.0         0.0      0.0         1      0.0   \n",
       "\n",
       "         doencaRespiratoria  doencaCardiaca  doencaRenal  diabetes  \\\n",
       "194                     0.0             0.0          0.0       0.0   \n",
       "203                     0.0             0.0          0.0       0.0   \n",
       "252                     0.0             0.0          0.0       0.0   \n",
       "257                     0.0             0.0          0.0       0.0   \n",
       "306                     0.0             1.0          0.0       0.0   \n",
       "...                     ...             ...          ...       ...   \n",
       "1260652                 0.0             0.0          0.0       0.0   \n",
       "899837                  0.0             0.0          0.0       0.0   \n",
       "961773                  0.0             0.0          0.0       0.0   \n",
       "352822                  0.0             0.0          0.0       0.0   \n",
       "588308                  0.0             0.0          0.0       0.0   \n",
       "\n",
       "         doencaCromossomica  resultadoTeste  sexo  \n",
       "194                     0.0             0.0   1.0  \n",
       "203                     0.0             0.0   0.0  \n",
       "252                     0.0             0.0   1.0  \n",
       "257                     0.0             0.0   0.0  \n",
       "306                     0.0             0.0   0.0  \n",
       "...                     ...             ...   ...  \n",
       "1260652                 0.0             1.0   0.0  \n",
       "899837                  0.0             1.0   0.0  \n",
       "961773                  0.0             1.0   1.0  \n",
       "352822                  0.0             1.0   0.0  \n",
       "588308                  0.0             1.0   1.0  \n",
       "\n",
       "[45448 rows x 13 columns]"
      ]
     },
     "execution_count": 141,
     "metadata": {},
     "output_type": "execute_result"
    }
   ],
   "source": [
    "classifier_covid"
   ]
  },
  {
   "cell_type": "code",
   "execution_count": 149,
   "id": "259fa3ba",
   "metadata": {},
   "outputs": [],
   "source": [
    "#removendo valores nulos\n",
    "classifier_covid=classifier_covid.dropna()"
   ]
  },
  {
   "cell_type": "code",
   "execution_count": 150,
   "id": "eb573365",
   "metadata": {},
   "outputs": [],
   "source": [
    "#importando o train test split - Cria as bases de teste e treino do modelo\n",
    "from sklearn.model_selection import train_test_split"
   ]
  },
  {
   "cell_type": "code",
   "execution_count": 151,
   "id": "e163045d",
   "metadata": {},
   "outputs": [],
   "source": [
    "#criando as variaveis que receberão os valores de treino e test\n",
    "x_train,x_test,y_train,y_test = train_test_split(classifier_covid.drop(columns=['resultadoTeste','doencaCardiaca','doencaRespiratoria','doencaRenal','diabetes','doencaCromossomica']),classifier_covid['resultadoTeste'],test_size=0.3,random_state=42)"
   ]
  },
  {
   "cell_type": "code",
   "execution_count": 152,
   "id": "e685e0a7",
   "metadata": {},
   "outputs": [
    {
     "data": {
      "text/html": [
       "<div>\n",
       "<style scoped>\n",
       "    .dataframe tbody tr th:only-of-type {\n",
       "        vertical-align: middle;\n",
       "    }\n",
       "\n",
       "    .dataframe tbody tr th {\n",
       "        vertical-align: top;\n",
       "    }\n",
       "\n",
       "    .dataframe thead th {\n",
       "        text-align: right;\n",
       "    }\n",
       "</style>\n",
       "<table border=\"1\" class=\"dataframe\">\n",
       "  <thead>\n",
       "    <tr style=\"text-align: right;\">\n",
       "      <th></th>\n",
       "      <th>IDADE EM ANOS</th>\n",
       "      <th>DorGarganta_n</th>\n",
       "      <th>Dispneia_n</th>\n",
       "      <th>Febre_n</th>\n",
       "      <th>Outros_n</th>\n",
       "      <th>Tosse_n</th>\n",
       "      <th>sexo</th>\n",
       "    </tr>\n",
       "  </thead>\n",
       "  <tbody>\n",
       "    <tr>\n",
       "      <th>740040</th>\n",
       "      <td>19.0</td>\n",
       "      <td>1.0</td>\n",
       "      <td>0.0</td>\n",
       "      <td>0.0</td>\n",
       "      <td>1</td>\n",
       "      <td>0.0</td>\n",
       "      <td>0.0</td>\n",
       "    </tr>\n",
       "    <tr>\n",
       "      <th>177109</th>\n",
       "      <td>27.0</td>\n",
       "      <td>0.0</td>\n",
       "      <td>0.0</td>\n",
       "      <td>0.0</td>\n",
       "      <td>1</td>\n",
       "      <td>1.0</td>\n",
       "      <td>1.0</td>\n",
       "    </tr>\n",
       "    <tr>\n",
       "      <th>884960</th>\n",
       "      <td>80.0</td>\n",
       "      <td>0.0</td>\n",
       "      <td>1.0</td>\n",
       "      <td>0.0</td>\n",
       "      <td>0</td>\n",
       "      <td>1.0</td>\n",
       "      <td>0.0</td>\n",
       "    </tr>\n",
       "    <tr>\n",
       "      <th>349761</th>\n",
       "      <td>36.0</td>\n",
       "      <td>0.0</td>\n",
       "      <td>0.0</td>\n",
       "      <td>0.0</td>\n",
       "      <td>0</td>\n",
       "      <td>0.0</td>\n",
       "      <td>0.0</td>\n",
       "    </tr>\n",
       "    <tr>\n",
       "      <th>313972</th>\n",
       "      <td>7.0</td>\n",
       "      <td>1.0</td>\n",
       "      <td>1.0</td>\n",
       "      <td>0.0</td>\n",
       "      <td>0</td>\n",
       "      <td>1.0</td>\n",
       "      <td>1.0</td>\n",
       "    </tr>\n",
       "    <tr>\n",
       "      <th>...</th>\n",
       "      <td>...</td>\n",
       "      <td>...</td>\n",
       "      <td>...</td>\n",
       "      <td>...</td>\n",
       "      <td>...</td>\n",
       "      <td>...</td>\n",
       "      <td>...</td>\n",
       "    </tr>\n",
       "    <tr>\n",
       "      <th>549698</th>\n",
       "      <td>17.0</td>\n",
       "      <td>0.0</td>\n",
       "      <td>0.0</td>\n",
       "      <td>0.0</td>\n",
       "      <td>0</td>\n",
       "      <td>1.0</td>\n",
       "      <td>1.0</td>\n",
       "    </tr>\n",
       "    <tr>\n",
       "      <th>958206</th>\n",
       "      <td>56.0</td>\n",
       "      <td>0.0</td>\n",
       "      <td>1.0</td>\n",
       "      <td>0.0</td>\n",
       "      <td>0</td>\n",
       "      <td>0.0</td>\n",
       "      <td>1.0</td>\n",
       "    </tr>\n",
       "    <tr>\n",
       "      <th>1441362</th>\n",
       "      <td>35.0</td>\n",
       "      <td>0.0</td>\n",
       "      <td>0.0</td>\n",
       "      <td>0.0</td>\n",
       "      <td>1</td>\n",
       "      <td>0.0</td>\n",
       "      <td>0.0</td>\n",
       "    </tr>\n",
       "    <tr>\n",
       "      <th>64055</th>\n",
       "      <td>56.0</td>\n",
       "      <td>0.0</td>\n",
       "      <td>0.0</td>\n",
       "      <td>0.0</td>\n",
       "      <td>1</td>\n",
       "      <td>1.0</td>\n",
       "      <td>1.0</td>\n",
       "    </tr>\n",
       "    <tr>\n",
       "      <th>1200866</th>\n",
       "      <td>31.0</td>\n",
       "      <td>0.0</td>\n",
       "      <td>0.0</td>\n",
       "      <td>0.0</td>\n",
       "      <td>0</td>\n",
       "      <td>1.0</td>\n",
       "      <td>0.0</td>\n",
       "    </tr>\n",
       "  </tbody>\n",
       "</table>\n",
       "<p>30485 rows × 7 columns</p>\n",
       "</div>"
      ],
      "text/plain": [
       "         IDADE EM ANOS  DorGarganta_n  Dispneia_n  Febre_n  Outros_n  Tosse_n  \\\n",
       "740040            19.0            1.0         0.0      0.0         1      0.0   \n",
       "177109            27.0            0.0         0.0      0.0         1      1.0   \n",
       "884960            80.0            0.0         1.0      0.0         0      1.0   \n",
       "349761            36.0            0.0         0.0      0.0         0      0.0   \n",
       "313972             7.0            1.0         1.0      0.0         0      1.0   \n",
       "...                ...            ...         ...      ...       ...      ...   \n",
       "549698            17.0            0.0         0.0      0.0         0      1.0   \n",
       "958206            56.0            0.0         1.0      0.0         0      0.0   \n",
       "1441362           35.0            0.0         0.0      0.0         1      0.0   \n",
       "64055             56.0            0.0         0.0      0.0         1      1.0   \n",
       "1200866           31.0            0.0         0.0      0.0         0      1.0   \n",
       "\n",
       "         sexo  \n",
       "740040    0.0  \n",
       "177109    1.0  \n",
       "884960    0.0  \n",
       "349761    0.0  \n",
       "313972    1.0  \n",
       "...       ...  \n",
       "549698    1.0  \n",
       "958206    1.0  \n",
       "1441362   0.0  \n",
       "64055     1.0  \n",
       "1200866   0.0  \n",
       "\n",
       "[30485 rows x 7 columns]"
      ]
     },
     "execution_count": 152,
     "metadata": {},
     "output_type": "execute_result"
    }
   ],
   "source": [
    "x_train"
   ]
  },
  {
   "cell_type": "code",
   "execution_count": 145,
   "id": "40e4c6e3",
   "metadata": {},
   "outputs": [],
   "source": [
    "#importando a biblioteca Naive Bayes Gaussiano\n",
    "from sklearn.naive_bayes import GaussianNB"
   ]
  },
  {
   "cell_type": "code",
   "execution_count": 146,
   "id": "3a25bb96",
   "metadata": {},
   "outputs": [],
   "source": [
    "#criando uma variavel para o modelo\n",
    "model = GaussianNB()"
   ]
  },
  {
   "cell_type": "code",
   "execution_count": 153,
   "id": "822cd807",
   "metadata": {},
   "outputs": [
    {
     "data": {
      "text/plain": [
       "GaussianNB()"
      ]
     },
     "execution_count": 153,
     "metadata": {},
     "output_type": "execute_result"
    }
   ],
   "source": [
    "#treinando o modelo\n",
    "model.fit(x_train,y_train)"
   ]
  },
  {
   "cell_type": "code",
   "execution_count": 154,
   "id": "f3f40255",
   "metadata": {},
   "outputs": [],
   "source": [
    "#prevendo os valores com o modelo\n",
    "predicted = model.predict(x_test)"
   ]
  },
  {
   "cell_type": "code",
   "execution_count": 155,
   "id": "17466763",
   "metadata": {},
   "outputs": [],
   "source": [
    "#analisando o desempenho do modelo\n",
    "from sklearn.metrics import classification_report, confusion_matrix, accuracy_score"
   ]
  },
  {
   "cell_type": "code",
   "execution_count": 156,
   "id": "a9edf3a7",
   "metadata": {},
   "outputs": [
    {
     "name": "stdout",
     "output_type": "stream",
     "text": [
      "              precision    recall  f1-score   support\n",
      "\n",
      "         0.0       0.48      0.15      0.23      4663\n",
      "         1.0       0.66      0.91      0.76      8403\n",
      "\n",
      "    accuracy                           0.64     13066\n",
      "   macro avg       0.57      0.53      0.50     13066\n",
      "weighted avg       0.59      0.64      0.57     13066\n",
      "\n"
     ]
    }
   ],
   "source": [
    "# imprimindo o relatorio de classsificação\n",
    "print(classification_report(y_test,predicted))"
   ]
  },
  {
   "cell_type": "code",
   "execution_count": 142,
   "id": "fd9fe12c",
   "metadata": {},
   "outputs": [
    {
     "name": "stdout",
     "output_type": "stream",
     "text": [
      "0.6392330383480826\n"
     ]
    }
   ],
   "source": [
    "print(accuracy_score(y_test,predicted))"
   ]
  },
  {
   "cell_type": "markdown",
   "id": "b5a8fd59",
   "metadata": {},
   "source": [
    "## Analise de Série Temporal"
   ]
  },
  {
   "cell_type": "code",
   "execution_count": 47,
   "id": "d8be4fee",
   "metadata": {},
   "outputs": [
    {
     "name": "stdout",
     "output_type": "stream",
     "text": [
      "Requirement already satisfied: pmdarima in c:\\programdata\\anaconda3\\lib\\site-packages (1.8.5)\n",
      "Requirement already satisfied: scipy>=1.3.2 in c:\\programdata\\anaconda3\\lib\\site-packages (from pmdarima) (1.6.2)\n",
      "Requirement already satisfied: joblib>=0.11 in c:\\programdata\\anaconda3\\lib\\site-packages (from pmdarima) (1.0.1)\n",
      "Requirement already satisfied: statsmodels!=0.12.0,>=0.11 in c:\\programdata\\anaconda3\\lib\\site-packages (from pmdarima) (0.12.2)\n",
      "Requirement already satisfied: urllib3 in c:\\programdata\\anaconda3\\lib\\site-packages (from pmdarima) (1.26.4)\n",
      "Requirement already satisfied: setuptools!=50.0.0,>=38.6.0 in c:\\programdata\\anaconda3\\lib\\site-packages (from pmdarima) (60.9.3)\n",
      "Requirement already satisfied: numpy>=1.19.3 in c:\\programdata\\anaconda3\\lib\\site-packages (from pmdarima) (1.19.5)\n",
      "Requirement already satisfied: pandas>=0.19 in c:\\programdata\\anaconda3\\lib\\site-packages (from pmdarima) (1.2.4)\n",
      "Requirement already satisfied: scikit-learn>=0.22 in c:\\programdata\\anaconda3\\lib\\site-packages (from pmdarima) (0.24.1)\n",
      "Requirement already satisfied: Cython!=0.29.18,>=0.29 in c:\\programdata\\anaconda3\\lib\\site-packages (from pmdarima) (0.29.23)\n",
      "Requirement already satisfied: python-dateutil>=2.7.3 in c:\\programdata\\anaconda3\\lib\\site-packages (from pandas>=0.19->pmdarima) (2.8.1)\n",
      "Requirement already satisfied: pytz>=2017.3 in c:\\programdata\\anaconda3\\lib\\site-packages (from pandas>=0.19->pmdarima) (2021.1)\n",
      "Requirement already satisfied: six>=1.5 in c:\\programdata\\anaconda3\\lib\\site-packages (from python-dateutil>=2.7.3->pandas>=0.19->pmdarima) (1.15.0)\n",
      "Requirement already satisfied: threadpoolctl>=2.0.0 in c:\\programdata\\anaconda3\\lib\\site-packages (from scikit-learn>=0.22->pmdarima) (2.1.0)\n",
      "Requirement already satisfied: patsy>=0.5 in c:\\programdata\\anaconda3\\lib\\site-packages (from statsmodels!=0.12.0,>=0.11->pmdarima) (0.5.1)\n"
     ]
    }
   ],
   "source": [
    "#caso nao possua, é necessario realizar a instalação do pmd_arima\n",
    "!pip install pmdarima"
   ]
  },
  {
   "cell_type": "code",
   "execution_count": 48,
   "id": "ba65e244",
   "metadata": {},
   "outputs": [],
   "source": [
    "#importando a bilioteca auto_arima\n",
    "from pmdarima.arima import auto_arima"
   ]
  },
  {
   "cell_type": "code",
   "execution_count": 49,
   "id": "23ae23c9",
   "metadata": {},
   "outputs": [],
   "source": [
    "#executando o modelo\n",
    "prev_arima = auto_arima(temporal_ba)"
   ]
  },
  {
   "cell_type": "code",
   "execution_count": 50,
   "id": "403968f7",
   "metadata": {},
   "outputs": [
    {
     "data": {
      "text/plain": [
       "688"
      ]
     },
     "execution_count": 50,
     "metadata": {},
     "output_type": "execute_result"
    }
   ],
   "source": [
    "#validando tamanho da bae\n",
    "len(temporal_ba)"
   ]
  },
  {
   "cell_type": "code",
   "execution_count": 52,
   "id": "640e2c11",
   "metadata": {},
   "outputs": [
    {
     "data": {
      "text/plain": [
       "(660, 1)"
      ]
     },
     "execution_count": 52,
     "metadata": {},
     "output_type": "execute_result"
    }
   ],
   "source": [
    "#variavel de treino\n",
    "train = temporal_ba[:660]\n",
    "train.shape"
   ]
  },
  {
   "cell_type": "code",
   "execution_count": 53,
   "id": "6a88ee8b",
   "metadata": {},
   "outputs": [
    {
     "data": {
      "text/plain": [
       "(28, 1)"
      ]
     },
     "execution_count": 53,
     "metadata": {},
     "output_type": "execute_result"
    }
   ],
   "source": [
    "#variavel de teste\n",
    "test = temporal_ba[660:]\n",
    "test.shape"
   ]
  },
  {
   "cell_type": "code",
   "execution_count": 54,
   "id": "0142d157",
   "metadata": {},
   "outputs": [],
   "source": [
    "#variavel que recebe o valor do treino\n",
    "novo_modelo = auto_arima(train,suppress_warnings=True)"
   ]
  },
  {
   "cell_type": "code",
   "execution_count": 55,
   "id": "0c1d2380",
   "metadata": {},
   "outputs": [],
   "source": [
    "#dataframe que recebe os valores previstos\n",
    "valores_previstos = pd.DataFrame(novo_modelo.predict(n_periods=28),index=test.index)\n",
    "valores_previstos.columns = ['RESULTADO DO TESTE']"
   ]
  },
  {
   "cell_type": "code",
   "execution_count": 56,
   "id": "8f5ac8c6",
   "metadata": {},
   "outputs": [
    {
     "data": {
      "image/png": "[encoded data removed]",
      "text/plain": [
       "<Figure size 864x576 with 1 Axes>"
      ]
     },
     "metadata": {
      "needs_background": "light"
     },
     "output_type": "display_data"
    }
   ],
   "source": [
    "#plotando grafico de comparação de dados de teste e dados previstos\n",
    "plt.figure(figsize=(12,8))\n",
    "plt.plot(train, label = 'Valores de Treino')\n",
    "plt.plot(test, label = 'valores de Teste')\n",
    "plt.plot(valores_previstos, label = 'Valores Previstos')\n",
    "plt.legend();"
   ]
  },
  {
   "cell_type": "code",
   "execution_count": 57,
   "id": "9acd8258",
   "metadata": {},
   "outputs": [
    {
     "data": {
      "text/plain": [
       "(400, 1)"
      ]
     },
     "execution_count": 57,
     "metadata": {},
     "output_type": "execute_result"
    }
   ],
   "source": [
    "#realizando uma nova tentativa com um periodo mais ao centro do modelo\n",
    "train_1 = temporal_ba[:400]\n",
    "train_1.shape"
   ]
  },
  {
   "cell_type": "code",
   "execution_count": 58,
   "id": "2db175cd",
   "metadata": {},
   "outputs": [
    {
     "data": {
      "text/plain": [
       "(100, 1)"
      ]
     },
     "execution_count": 58,
     "metadata": {},
     "output_type": "execute_result"
    }
   ],
   "source": [
    "test_1 = temporal_ba[400:500]\n",
    "test_1.shape"
   ]
  },
  {
   "cell_type": "code",
   "execution_count": 59,
   "id": "679a8b4c",
   "metadata": {},
   "outputs": [],
   "source": [
    "novo_modelo_1 = auto_arima(train_1,suppress_warnings=True)"
   ]
  },
  {
   "cell_type": "code",
   "execution_count": 60,
   "id": "18782972",
   "metadata": {},
   "outputs": [],
   "source": [
    "valores_previstos_1 = pd.DataFrame(novo_modelo_1.predict(n_periods=100),index=test_1.index)\n",
    "valores_previstos_1.columns = ['Classificacao']"
   ]
  },
  {
   "cell_type": "code",
   "execution_count": 61,
   "id": "c8f51436",
   "metadata": {},
   "outputs": [
    {
     "data": {
      "image/png": "[encoded data removed]",
      "text/plain": [
       "<Figure size 864x576 with 1 Axes>"
      ]
     },
     "metadata": {
      "needs_background": "light"
     },
     "output_type": "display_data"
    }
   ],
   "source": [
    "#plotando o grafico da segunda analise\n",
    "plt.figure(figsize=(12,8))\n",
    "plt.plot(train_1, label = 'Valores de Treino')\n",
    "plt.plot(test_1, label = 'valores de Teste')\n",
    "plt.plot(valores_previstos_1, label = 'Valores Previstos')\n",
    "plt.legend();"
   ]
  },
  {
   "cell_type": "code",
   "execution_count": null,
   "id": "7a77f9bf",
   "metadata": {},
   "outputs": [],
   "source": []
  }
 ],
 "metadata": {
  "kernelspec": {
   "display_name": "Python 3",
   "language": "python",
   "name": "python3"
  },
  "language_info": {
   "codemirror_mode": {
    "name": "ipython",
    "version": 3
   },
   "file_extension": ".py",
   "mimetype": "text/x-python",
   "name": "python",
   "nbconvert_exporter": "python",
   "pygments_lexer": "ipython3",
   "version": "3.8.8"
  }
 },
 "nbformat": 4,
 "nbformat_minor": 5
}
